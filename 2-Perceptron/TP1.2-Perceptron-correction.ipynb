{
 "cells": [
  {
   "cell_type": "markdown",
   "metadata": {},
   "source": [
    "# Perceptron - from scratch -- correction"
   ]
  },
  {
   "cell_type": "code",
   "execution_count": 1,
   "metadata": {},
   "outputs": [],
   "source": [
    "import numpy as np\n",
    "import matplotlib.pyplot as plt\n",
    "import matplotlib.cm as cm\n",
    "# plt.ion()"
   ]
  },
  {
   "cell_type": "markdown",
   "metadata": {},
   "source": [
    "### 0.1 We provide a simple data set. \n"
   ]
  },
  {
   "cell_type": "markdown",
   "metadata": {},
   "source": [
    "First we show how numpy works, building only one of the 2 classes:"
   ]
  },
  {
   "cell_type": "code",
   "execution_count": 2,
   "metadata": {},
   "outputs": [
    {
     "data": {
      "text/plain": [
       "<matplotlib.collections.PathCollection at 0x7f3944ea76d0>"
      ]
     },
     "execution_count": 2,
     "metadata": {},
     "output_type": "execute_result"
    },
    {
     "data": {
      "image/png": "[encoded data removed]",
      "text/plain": [
       "<Figure size 432x288 with 1 Axes>"
      ]
     },
     "metadata": {
      "needs_background": "light"
     },
     "output_type": "display_data"
    }
   ],
   "source": [
    "mu1=(1,1)\n",
    "sigma1=((2, 0.01))\n",
    "# points distributed according to a multi-variate Gaussian distribution : \n",
    "X1 = np.random.normal( mu1, sigma1,(100,2))  \n",
    "plt.scatter(X1[:,0], X1[:,1])"
   ]
  },
  {
   "cell_type": "markdown",
   "metadata": {},
   "source": [
    "Now we make another blob and stack the two blobs (classes) together"
   ]
  },
  {
   "cell_type": "code",
   "execution_count": 3,
   "metadata": {
    "scrolled": true
   },
   "outputs": [],
   "source": [
    "# data set 3\n",
    "N=100\n",
    "N1=N//4\n",
    "N2=N-N1\n",
    "D=2\n",
    "np.random.seed(42)\n",
    "\n",
    "# parameters for the 1st blob of points\n",
    "mu1=(0.3,0.3)\n",
    "sigma1=((1, 0.3))\n",
    "X1 = np.random.normal( mu1, sigma1,(N1,D))\n",
    "\n",
    "# parameters for the 2nd blob of points\n",
    "mu2=(-1,-1)\n",
    "sigma2=((2, 0.5))\n",
    "X2 = np.random.normal( mu2, sigma2,(N2,D))\n",
    "\n",
    "# the two blobs are merged, and labels  +1/-1  are assigned\n",
    "Xraw = np.concatenate( (X1, X2) )\n",
    "T = np.concatenate( (np.ones(N1), -np.ones(N2)) ) # .reshape(N,1)\n",
    "X = Xraw.copy() # then X will be the extended vector, with the ones added"
   ]
  },
  {
   "cell_type": "markdown",
   "metadata": {},
   "source": [
    "### 0.2 Preliminary: trick of the ones\n",
    "\n",
    "It's advised to augment the dataset with ones, \"as usual\", to account for the bias term in a more elegant and practical way."
   ]
  },
  {
   "cell_type": "code",
   "execution_count": 4,
   "metadata": {},
   "outputs": [],
   "source": [
    "X =  np.hstack((np.ones((N,1)), X))  # extended vector"
   ]
  },
  {
   "cell_type": "markdown",
   "metadata": {},
   "source": [
    "A simple plot of the 2D data (after adding the 1's)"
   ]
  },
  {
   "cell_type": "code",
   "execution_count": 5,
   "metadata": {},
   "outputs": [
    {
     "data": {
      "image/png": "[encoded data removed]",
      "text/plain": [
       "<Figure size 432x288 with 1 Axes>"
      ]
     },
     "metadata": {
      "needs_background": "light"
     },
     "output_type": "display_data"
    }
   ],
   "source": [
    "plt.scatter([0,0],[0,0], color='k', marker=\"+\")\n",
    "plt.axhline(0, ls=\"--\", color='k')\n",
    "plt.axvline(0, ls=\"--\", color='k')\n",
    "plt.scatter(X[0:N1,-1], X[0:N1,-2], color='b', label='class +1')\n",
    "plt.scatter(X[N1:,-1], X[N1:,-2], color='red', label='class -1')\n",
    "plt.xlabel('$x_1$')\n",
    "plt.ylabel('$x_2$')\n",
    "plt.legend()\n",
    "plt.savefig(\"2dscatter-K=2classes.svg\")"
   ]
  },
  {
   "cell_type": "markdown",
   "metadata": {},
   "source": [
    "### 0.3 We help you out by providing a nice display function\n",
    "\n",
    "It plots the data AND the hyperplane"
   ]
  },
  {
   "cell_type": "code",
   "execution_count": 6,
   "metadata": {},
   "outputs": [],
   "source": [
    "def display(X,T, wparameters, iteration):\n",
    "    plt.figure(1)\n",
    "    W1 = X[T==-1,1:] # points of class \"-1\"\n",
    "    W2 = X[T== 1,1:] # points of class \"+1\"\n",
    "\n",
    "    ## X is assumed to be an extended vector, so 3D for 2D data,\n",
    "    ## and wparameters must have as many parameters as D+1 (3 here)\n",
    "    assert(X.shape[1] == wparameters.shape[0])\n",
    "    \n",
    "    cmap = cm.jet\n",
    "    gradient=cmap(np.linspace(0.0,1.0,12))\n",
    "    w0 = wparameters[0]\n",
    "    A12 = wparameters[1:3]\n",
    "    # length of the normal vector (defining the plane)\n",
    "    norm = np.sqrt((A12**2).sum())\n",
    "    # computes the closest point to the origin (in the separating plane)\n",
    "    H = - w0 * A12 / (norm * norm)\n",
    "    # vector along the separating line / found by rotation / rotation performed by matrix multiplication\n",
    "    U = np.dot( np.array([[0, 1], [-1, 0]]) , A12) / norm\n",
    "    # segment around H, of length 10\n",
    "    D = np.vstack((H + 5*U, H - 5*U))\n",
    "\n",
    "#     plt.axis([-2, 5, -2, 5])\n",
    "    plt.plot(W1[:,0], W1[:,1], 'r+') # points of class \"-1\"\n",
    "    plt.plot(W2[:,0], W2[:,1], 'bx') # points of class \"+1\"\n",
    "    plt.plot(D[:,0], D[:,1], ls='-', color=gradient[iteration%(len(gradient))])\n",
    "    # ax.set_aspect(1) # to set an aspect ratio of 1, to have a squared box\n"
   ]
  },
  {
   "cell_type": "code",
   "execution_count": 7,
   "metadata": {
    "scrolled": true
   },
   "outputs": [
    {
     "data": {
      "image/png": "[encoded data removed]",
      "text/plain": [
       "<Figure size 432x288 with 1 Axes>"
      ]
     },
     "metadata": {
      "needs_background": "light"
     },
     "output_type": "display_data"
    }
   ],
   "source": [
    "wparameters = np.array([1,0.01,1])\n",
    "display(X,T, wparameters, 1)"
   ]
  },
  {
   "cell_type": "markdown",
   "metadata": {},
   "source": [
    "## 1. Initialization\n",
    "\n",
    "- make a stupid or random guess for an initial value of the parameters vector `wparameters`, i.e set a value for $\\vec w_0=$ `w0`, the initial value of $\\vec w$\n",
    "- choose some values for the hyper-parameters `eta`, `MaxIter`\n"
   ]
  },
  {
   "cell_type": "markdown",
   "metadata": {},
   "source": [
    "### Initialization of weights\n",
    "\n",
    "It's independent of the rest, we just need to know the dimensionality of parameters to be initalized"
   ]
  },
  {
   "cell_type": "code",
   "execution_count": 8,
   "metadata": {},
   "outputs": [],
   "source": [
    "def initializeWeights(X, type):\n",
    "    ## data dimension\n",
    "    D = X.shape[1]\n",
    "\n",
    "    ## choice 1: deterministic\n",
    "    if type==\"zero\":\n",
    "        wparameters = np.zeros((D))\n",
    "        wparameters[0] = 0.00001\n",
    "\n",
    "    ## choice 2: uniform random centered in 0\n",
    "    ##           with appropriate order of magnitude\n",
    "    elif type==\"random\":\n",
    "        wparameters = (np.random.random((D))-0.5)/D**0.5\n",
    "\n",
    "    return wparameters"
   ]
  },
  {
   "cell_type": "code",
   "execution_count": 9,
   "metadata": {},
   "outputs": [
    {
     "data": {
      "image/png": "[encoded data removed]",
      "text/plain": [
       "<Figure size 432x288 with 1 Axes>"
      ]
     },
     "metadata": {
      "needs_background": "light"
     },
     "output_type": "display_data"
    }
   ],
   "source": [
    "# number of points is obtained dynamically\n",
    "N = X.shape[0]\n",
    "\n",
    "######### initialization of the separating vector ######\n",
    "w0 = initializeWeights(X,\"zero\")\n",
    "w0[0]=1\n",
    "\n",
    "## random ##\n",
    "np.random.seed(42)\n",
    "w0 = initializeWeights(X,\"random\")\n",
    "\n",
    "display(X,T, w0, 0)"
   ]
  },
  {
   "cell_type": "code",
   "execution_count": 10,
   "metadata": {},
   "outputs": [],
   "source": [
    "### hyper-parameters ###\n",
    "MAXITER=85\n",
    "eta = 0.05"
   ]
  },
  {
   "cell_type": "markdown",
   "metadata": {},
   "source": [
    "### 2.0 Update steps, pen-and-paper\n",
    "\n",
    "You should have done exercise \"Perceptron – classics\" by now, so **this should already be done**\n",
    "\n",
    "Otherwise, **take a piece of paper and a pencil, and derive the update rule for the perceptron**, according to the method of Gradient Descent. Really do it on paper, not on the computer !! \n",
    "\n",
    "Note: we start with the perceptron using the *full batch* strategy. Variants include the *Online* strategy, or the *SGD* strategy.\n",
    "\n"
   ]
  },
  {
   "cell_type": "markdown",
   "metadata": {},
   "source": []
  },
  {
   "cell_type": "markdown",
   "metadata": {},
   "source": [
    "### 2.1 Update steps, coding it \n",
    "\n",
    "- implement a function perceptronFullBatch(X,T,eta, w0, maxIter=20, plot=True)\n",
    "- run it !\n",
    "- add a print of the number of errors, so as to keep track of train and test error at all iterations of the algorithm (here for now we did not define a validation set, nor a test set)\n",
    "\n",
    "If you have a hard time with python slices (boolean filters), you can first implement the stupid J2 Loss function (see slides), which has a simpler implementaiton code, because we update for all examples, whether they are corrrectly classified or not.\n",
    "\n",
    "Test your code on the toy data set, and display your parameters (i.e. display the hyperplane, since we are in 2D)"
   ]
  },
  {
   "cell_type": "code",
   "execution_count": 11,
   "metadata": {},
   "outputs": [
    {
     "data": {
      "text/plain": [
       "((100, 3), (3,), (100,))"
      ]
     },
     "execution_count": 11,
     "metadata": {},
     "output_type": "execute_result"
    }
   ],
   "source": [
    "X.shape, wparameters.shape, T.shape"
   ]
  },
  {
   "cell_type": "code",
   "execution_count": 12,
   "metadata": {},
   "outputs": [
    {
     "data": {
      "text/plain": [
       "(100,)"
      ]
     },
     "execution_count": 12,
     "metadata": {},
     "output_type": "execute_result"
    }
   ],
   "source": [
    "# a bit of trial-and-error on shapes:\n",
    "(((X@ wparameters))).shape"
   ]
  },
  {
   "cell_type": "code",
   "execution_count": 13,
   "metadata": {},
   "outputs": [
    {
     "data": {
      "text/plain": [
       "(100,)"
      ]
     },
     "execution_count": 13,
     "metadata": {},
     "output_type": "execute_result"
    }
   ],
   "source": [
    "(((X@ wparameters)*T )).shape"
   ]
  },
  {
   "cell_type": "code",
   "execution_count": 14,
   "metadata": {},
   "outputs": [
    {
     "data": {
      "text/plain": [
       "(3,)"
      ]
     },
     "execution_count": 14,
     "metadata": {},
     "output_type": "execute_result"
    }
   ],
   "source": [
    "(((X@ wparameters)*T )@X).shape"
   ]
  },
  {
   "cell_type": "code",
   "execution_count": 15,
   "metadata": {},
   "outputs": [
    {
     "data": {
      "text/plain": [
       "(3,)"
      ]
     },
     "execution_count": 15,
     "metadata": {},
     "output_type": "execute_result"
    }
   ],
   "source": [
    "((X @ wparameters- T)@X).shape"
   ]
  },
  {
   "cell_type": "code",
   "execution_count": 16,
   "metadata": {},
   "outputs": [],
   "source": [
    "## minimalistic correction:\n",
    "def perceptronFullBatch(X,T,eta, w0, maxIter=20, plot=None, verbose=None, Loss=None):\n",
    "    N = X.shape[0]\n",
    "    D = X.shape[1]\n",
    "    wparameters = w0.copy()  # deep copy\n",
    "    for iteration in range(maxIter):\n",
    "        misClassified = ((X @ wparameters)*T  <= 0) ## array of booleans (used as a mask or filter)\n",
    "        wparameters -= -eta/N * (T[misClassified]@X[misClassified]) \n",
    "    return wparameters\n"
   ]
  },
  {
   "cell_type": "code",
   "execution_count": 17,
   "metadata": {},
   "outputs": [],
   "source": [
    "## full correction, with monitoring, displays, additional exit criterion, etc\n",
    "def perceptronFullBatch(X,T,eta, w0, maxIter=20, plot=True, verbose=True, Loss=\"ReLU\"):\n",
    "    N = X.shape[0]\n",
    "    D = X.shape[1]\n",
    "    wparameters = w0.copy()  # deep copy\n",
    "\n",
    "    ## the algo itself ##\n",
    "    for iteration in range(maxIter):\n",
    "        ## we look for misclassified examples ##\n",
    "        modelValues = X @ wparameters\n",
    "        XwT = (modelValues)*T          #  This is   (X @ w * T)\n",
    "        misClassified = (XwT <= 0) ## array of booleans (used as a mask or filter)\n",
    "        misClassifiedNumber = misClassified.sum()  ## True~1, False~0,so by summing up, we count the True's\n",
    "        if misClassifiedNumber == 0:\n",
    "            print(\"Convergence at iteration\", iteration)\n",
    "            if plot :\n",
    "                display(X,T, wparameters, iteration)\n",
    "            print(wparameters)\n",
    "            return wparameters\n",
    "        else: ## updating parameters ##\n",
    "\n",
    "            if Loss==\"ReLU\":\n",
    "               #  Rosenblatt style, but full batch:\n",
    "               wparameters -= -eta/N * (T[misClassified]@X[misClassified]) \n",
    "            elif Loss==\"stupidJ2\":\n",
    "                # following the ~stupid choice J2 of the slides instead\n",
    "                wparameters -= eta/N * (modelValues - T) @ X\n",
    "            else:\n",
    "                print(\"You need to choose a Loss function!\")\n",
    "                return wparameters\n",
    "    \n",
    "            if verbose:\n",
    "                print(\"iteration #\",iteration,\" there are \" , misClassifiedNumber, 'misclassified points => new vector', wparameters)\n",
    "        if plot :\n",
    "            display(X,T, wparameters, iteration)\n",
    "    print(\"No convergence after\", maxIter, \"iterations.\\nThere were misClassifiedNumber*100/N=\",misClassifiedNumber/N*100, \"% misclassified data points.\")\n",
    "    return wparameters\n",
    "\n",
    "\n"
   ]
  },
  {
   "cell_type": "markdown",
   "metadata": {},
   "source": [
    "#### Note: in addition, we could monitor the loss and not just the number of errors."
   ]
  },
  {
   "cell_type": "code",
   "execution_count": 18,
   "metadata": {},
   "outputs": [
    {
     "name": "stdout",
     "output_type": "stream",
     "text": [
      "iteration # 0  there are  25 misclassified points => new vector [-0.0709343   0.2488459   0.14060132]\n",
      "iteration # 1  there are  25 misclassified points => new vector [-0.0694343   0.23747178  0.14726087]\n",
      "iteration # 2  there are  26 misclassified points => new vector [-0.0674343   0.22628142  0.15385671]\n",
      "iteration # 3  there are  25 misclassified points => new vector [-0.0649343   0.21550646  0.16003473]\n",
      "iteration # 4  there are  24 misclassified points => new vector [-0.0619343   0.20579539  0.1649358 ]\n",
      "iteration # 5  there are  22 misclassified points => new vector [-0.0589343   0.19662801  0.16913149]\n",
      "iteration # 6  there are  22 misclassified points => new vector [-0.0559343   0.18746063  0.17332718]\n",
      "iteration # 7  there are  22 misclassified points => new vector [-0.0519343   0.17946702  0.17653541]\n",
      "iteration # 8  there are  21 misclassified points => new vector [-0.0484343   0.17144049  0.17962877]\n",
      "iteration # 9  there are  20 misclassified points => new vector [-0.0454343   0.1634987   0.18249074]\n",
      "iteration # 10  there are  20 misclassified points => new vector [-0.0424343   0.15578258  0.18514416]\n",
      "iteration # 11  there are  20 misclassified points => new vector [-0.0394343   0.14806646  0.18779758]\n",
      "iteration # 12  there are  20 misclassified points => new vector [-0.0364343   0.14035034  0.190451  ]\n",
      "iteration # 13  there are  18 misclassified points => new vector [-0.0334343   0.13346886  0.19248351]\n",
      "iteration # 14  there are  18 misclassified points => new vector [-0.0304343   0.12658738  0.19451601]\n",
      "iteration # 15  there are  17 misclassified points => new vector [-0.0279343   0.11982809  0.19638188]\n",
      "iteration # 16  there are  16 misclassified points => new vector [-0.0249343   0.1135998   0.19798057]\n",
      "iteration # 17  there are  15 misclassified points => new vector [-0.0214343   0.10801433  0.19926724]\n",
      "iteration # 18  there are  15 misclassified points => new vector [-0.0179343   0.10242887  0.20055392]\n",
      "iteration # 19  there are  15 misclassified points => new vector [-0.0144343   0.0968434   0.20184059]\n",
      "iteration # 20  there are  14 misclassified points => new vector [-0.0114343   0.09133964  0.20304712]\n",
      "iteration # 21  there are  12 misclassified points => new vector [-0.0094343   0.08634262  0.20395027]\n",
      "iteration # 22  there are  12 misclassified points => new vector [-0.0074343   0.0820929   0.20453261]\n",
      "iteration # 23  there are  12 misclassified points => new vector [-0.0054343   0.07784319  0.20511495]\n",
      "iteration # 24  there are  12 misclassified points => new vector [-0.0034343   0.07359347  0.20569729]\n",
      "iteration # 25  there are  12 misclassified points => new vector [-0.0014343   0.06934375  0.20627962]\n",
      "iteration # 26  there are  11 misclassified points => new vector [6.57038440e-05 6.56081306e-02 2.06682432e-01]\n",
      "iteration # 27  there are  10 misclassified points => new vector [0.0020657  0.06325869 0.20662889]\n",
      "iteration # 28  there are  10 misclassified points => new vector [0.0040657  0.06090926 0.20657534]\n",
      "iteration # 29  there are  9 misclassified points => new vector [0.0055657  0.05837605 0.20658551]\n",
      "iteration # 30  there are  10 misclassified points => new vector [0.0065657  0.05628262 0.20647986]\n",
      "iteration # 31  there are  10 misclassified points => new vector [0.0075657  0.05418919 0.20637422]\n",
      "iteration # 32  there are  9 misclassified points => new vector [0.0090657  0.05346153 0.20588703]\n",
      "iteration # 33  there are  10 misclassified points => new vector [0.0100657  0.05349853 0.2052198 ]\n",
      "iteration # 34  there are  10 misclassified points => new vector [0.0110657  0.05353553 0.20455257]\n",
      "iteration # 35  there are  11 misclassified points => new vector [0.0115657  0.05220676 0.20426688]\n",
      "iteration # 36  there are  10 misclassified points => new vector [0.0125657  0.05224376 0.20359966]\n",
      "iteration # 37  there are  10 misclassified points => new vector [0.0135657  0.05228076 0.20293243]\n",
      "iteration # 38  there are  10 misclassified points => new vector [0.0135657  0.05063017 0.2027612 ]\n",
      "iteration # 39  there are  10 misclassified points => new vector [0.0145657  0.05066717 0.20209397]\n",
      "iteration # 40  there are  9 misclassified points => new vector [0.0150657  0.05038236 0.20154119]\n",
      "iteration # 41  there are  9 misclassified points => new vector [0.0155657  0.05009755 0.20098842]\n",
      "iteration # 42  there are  9 misclassified points => new vector [0.0160657  0.04981274 0.20043565]\n",
      "iteration # 43  there are  9 misclassified points => new vector [0.0165657  0.04952793 0.19988287]\n",
      "iteration # 44  there are  9 misclassified points => new vector [0.0170657  0.04924312 0.1993301 ]\n",
      "iteration # 45  there are  9 misclassified points => new vector [0.0175657  0.04895831 0.19877733]\n",
      "iteration # 46  there are  9 misclassified points => new vector [0.0180657  0.0486735  0.19822456]\n",
      "iteration # 47  there are  9 misclassified points => new vector [0.0185657  0.04838869 0.19767178]\n",
      "iteration # 48  there are  9 misclassified points => new vector [0.0190657  0.04810388 0.19711901]\n",
      "iteration # 49  there are  10 misclassified points => new vector [0.0190657  0.0464533  0.19694778]\n",
      "iteration # 50  there are  9 misclassified points => new vector [0.0195657  0.04616849 0.19639501]\n",
      "iteration # 51  there are  9 misclassified points => new vector [0.0200657  0.04588368 0.19584223]\n",
      "iteration # 52  there are  9 misclassified points => new vector [0.0205657  0.04559887 0.19528946]\n",
      "iteration # 53  there are  9 misclassified points => new vector [0.0210657  0.04531406 0.19473669]\n",
      "iteration # 54  there are  9 misclassified points => new vector [0.0215657  0.04502925 0.19418392]\n",
      "iteration # 55  there are  9 misclassified points => new vector [0.0220657  0.04474444 0.19363114]\n",
      "iteration # 56  there are  9 misclassified points => new vector [0.0225657  0.04445963 0.19307837]\n",
      "iteration # 57  there are  9 misclassified points => new vector [0.0230657  0.04417482 0.1925256 ]\n",
      "iteration # 58  there are  9 misclassified points => new vector [0.0235657  0.04389001 0.19197282]\n",
      "iteration # 59  there are  9 misclassified points => new vector [0.0240657  0.0436052  0.19142005]\n",
      "iteration # 60  there are  9 misclassified points => new vector [0.0245657  0.04332039 0.19086728]\n",
      "iteration # 61  there are  9 misclassified points => new vector [0.0250657  0.04303558 0.19031451]\n",
      "iteration # 62  there are  9 misclassified points => new vector [0.0255657  0.04275077 0.18976173]\n",
      "iteration # 63  there are  9 misclassified points => new vector [0.0260657  0.04246597 0.18920896]\n",
      "iteration # 64  there are  9 misclassified points => new vector [0.0265657  0.04218116 0.18865619]\n",
      "iteration # 65  there are  9 misclassified points => new vector [0.0270657  0.04189635 0.18810341]\n",
      "iteration # 66  there are  9 misclassified points => new vector [0.0275657  0.04161154 0.18755064]\n",
      "iteration # 67  there are  9 misclassified points => new vector [0.0280657  0.04132673 0.18699787]\n",
      "iteration # 68  there are  9 misclassified points => new vector [0.0285657  0.04104192 0.1864451 ]\n",
      "iteration # 69  there are  9 misclassified points => new vector [0.0290657  0.04075711 0.18589232]\n",
      "iteration # 70  there are  8 misclassified points => new vector [0.0290657  0.04020132 0.18547654]\n",
      "iteration # 71  there are  8 misclassified points => new vector [0.0290657  0.03964553 0.18506076]\n",
      "iteration # 72  there are  9 misclassified points => new vector [0.0295657  0.03936072 0.18450799]\n",
      "iteration # 73  there are  8 misclassified points => new vector [0.0295657  0.03880493 0.18409221]\n",
      "iteration # 74  there are  8 misclassified points => new vector [0.0295657  0.03824913 0.18367643]\n",
      "iteration # 75  there are  9 misclassified points => new vector [0.0300657  0.03796432 0.18312365]\n",
      "iteration # 76  there are  6 misclassified points => new vector [0.0290657  0.03871025 0.18260019]\n",
      "iteration # 77  there are  8 misclassified points => new vector [0.0290657  0.03815446 0.18218441]\n",
      "iteration # 78  there are  9 misclassified points => new vector [0.0295657  0.03786965 0.18163164]\n",
      "iteration # 79  there are  7 misclassified points => new vector [0.0290657  0.03790312 0.18117384]\n",
      "iteration # 80  there are  9 misclassified points => new vector [0.0295657  0.03761831 0.18062106]\n",
      "iteration # 81  there are  7 misclassified points => new vector [0.0290657  0.03765178 0.18016326]\n",
      "iteration # 82  there are  8 misclassified points => new vector [0.0290657  0.03709599 0.17974748]\n",
      "iteration # 83  there are  8 misclassified points => new vector [0.0290657  0.03740044 0.17915268]\n",
      "iteration # 84  there are  7 misclassified points => new vector [0.0285657  0.03743392 0.17869488]\n",
      "No convergence after 85 iterations.\n",
      "There were misClassifiedNumber*100/N= 7.000000000000001 % misclassified data points.\n"
     ]
    },
    {
     "data": {
      "image/png": "[encoded data removed]",
      "text/plain": [
       "<Figure size 432x288 with 1 Axes>"
      ]
     },
     "metadata": {
      "needs_background": "light"
     },
     "output_type": "display_data"
    }
   ],
   "source": [
    "plotting = True\n",
    "verbose = True\n",
    "wparameters =  perceptronFullBatch(X,T,eta, w0, MAXITER, plotting, verbose)"
   ]
  },
  {
   "cell_type": "markdown",
   "metadata": {},
   "source": [
    "### We also do it using the stupid J2 function (the one of linear regression, see the slides for the expression of J2)\n",
    "\n",
    "And we see that it still works, on that example (it will fail later)"
   ]
  },
  {
   "cell_type": "code",
   "execution_count": 19,
   "metadata": {},
   "outputs": [
    {
     "name": "stdout",
     "output_type": "stream",
     "text": [
      "iteration # 0  there are  25 misclassified points => new vector [-0.07829195  0.25277715  0.15226036]\n",
      "iteration # 1  there are  26 misclassified points => new vector [-0.08358695  0.24556521  0.16992166]\n",
      "iteration # 2  there are  27 misclassified points => new vector [-0.08835866  0.23859729  0.18696216]\n",
      "iteration # 3  there are  26 misclassified points => new vector [-0.09264275  0.23188096  0.20341496]\n",
      "iteration # 4  there are  23 misclassified points => new vector [-0.09647169  0.22541951  0.21931025]\n",
      "iteration # 5  there are  23 misclassified points => new vector [-0.09987525  0.21921299  0.23467573]\n",
      "iteration # 6  there are  23 misclassified points => new vector [-0.10288077  0.21325893  0.24953694]\n",
      "iteration # 7  there are  22 misclassified points => new vector [-0.10551354  0.20755302  0.26391755]\n",
      "iteration # 8  there are  20 misclassified points => new vector [-0.107797    0.20208957  0.27783957]\n",
      "iteration # 9  there are  20 misclassified points => new vector [-0.10975295  0.19686191  0.29132356]\n",
      "iteration # 10  there are  20 misclassified points => new vector [-0.11140172  0.19186267  0.30438878]\n",
      "iteration # 11  there are  19 misclassified points => new vector [-0.11276233  0.18708406  0.31705332]\n",
      "iteration # 12  there are  18 misclassified points => new vector [-0.11385261  0.182518    0.3293342 ]\n",
      "iteration # 13  there are  18 misclassified points => new vector [-0.11468927  0.1781563   0.34124751]\n",
      "iteration # 14  there are  18 misclassified points => new vector [-0.11528804  0.17399076  0.35280843]\n",
      "iteration # 15  there are  18 misclassified points => new vector [-0.11566373  0.17001325  0.36403135]\n",
      "iteration # 16  there are  18 misclassified points => new vector [-0.11583028  0.16621577  0.37492991]\n",
      "iteration # 17  there are  18 misclassified points => new vector [-0.11580086  0.1625905   0.38551707]\n",
      "iteration # 18  there are  17 misclassified points => new vector [-0.11558787  0.15912984  0.39580511]\n",
      "iteration # 19  there are  17 misclassified points => new vector [-0.11520304  0.15582642  0.40580576]\n",
      "iteration # 20  there are  17 misclassified points => new vector [-0.11465746  0.15267312  0.41553014]\n",
      "iteration # 21  there are  15 misclassified points => new vector [-0.11396161  0.14966309  0.42498886]\n",
      "iteration # 22  there are  15 misclassified points => new vector [-0.11312538  0.14678974  0.43419203]\n",
      "iteration # 23  there are  15 misclassified points => new vector [-0.11215815  0.14404674  0.4431493 ]\n",
      "iteration # 24  there are  14 misclassified points => new vector [-0.11106877  0.14142803  0.45186985]\n",
      "iteration # 25  there are  13 misclassified points => new vector [-0.10986563  0.13892781  0.46036245]\n",
      "iteration # 26  there are  13 misclassified points => new vector [-0.10855666  0.13654053  0.46863549]\n",
      "iteration # 27  there are  13 misclassified points => new vector [-0.10714936  0.1342609   0.47669697]\n",
      "iteration # 28  there are  13 misclassified points => new vector [-0.10565083  0.13208383  0.48455453]\n",
      "iteration # 29  there are  13 misclassified points => new vector [-0.10406779  0.13000452  0.49221546]\n",
      "iteration # 30  there are  13 misclassified points => new vector [-0.10240658  0.12801835  0.49968675]\n",
      "iteration # 31  there are  12 misclassified points => new vector [-0.10067323  0.12612092  0.50697508]\n",
      "iteration # 32  there are  11 misclassified points => new vector [-0.0988734   0.12430805  0.51408682]\n",
      "iteration # 33  there are  11 misclassified points => new vector [-0.09701247  0.12257575  0.52102808]\n",
      "iteration # 34  there are  11 misclassified points => new vector [-0.09509552  0.12092021  0.5278047 ]\n",
      "iteration # 35  there are  11 misclassified points => new vector [-0.09312735  0.11933782  0.53442227]\n",
      "iteration # 36  there are  11 misclassified points => new vector [-0.0911125   0.11782512  0.54088613]\n",
      "iteration # 37  there are  11 misclassified points => new vector [-0.08905525  0.11637883  0.54720142]\n",
      "iteration # 38  there are  11 misclassified points => new vector [-0.08695965  0.11499581  0.55337304]\n",
      "iteration # 39  there are  11 misclassified points => new vector [-0.08482952  0.1136731   0.55940567]\n",
      "iteration # 40  there are  11 misclassified points => new vector [-0.08266847  0.11240786  0.56530384]\n",
      "iteration # 41  there are  9 misclassified points => new vector [-0.08047991  0.11119738  0.57107184]\n",
      "iteration # 42  there are  9 misclassified points => new vector [-0.07826704  0.11003909  0.57671382]\n",
      "iteration # 43  there are  9 misclassified points => new vector [-0.0760329   0.10893055  0.58223374]\n",
      "iteration # 44  there are  9 misclassified points => new vector [-0.07378033  0.10786943  0.5876354 ]\n",
      "iteration # 45  there are  9 misclassified points => new vector [-0.07151204  0.10685351  0.59292244]\n",
      "iteration # 46  there are  9 misclassified points => new vector [-0.06923055  0.10588067  0.59809836]\n",
      "iteration # 47  there are  9 misclassified points => new vector [-0.06693824  0.10494892  0.60316652]\n",
      "iteration # 48  there are  9 misclassified points => new vector [-0.06463737  0.10405633  0.60813015]\n",
      "iteration # 49  there are  9 misclassified points => new vector [-0.06233004  0.10320109  0.61299232]\n",
      "iteration # 50  there are  10 misclassified points => new vector [-0.06001824  0.10238145  0.61775603]\n",
      "iteration # 51  there are  10 misclassified points => new vector [-0.05770382  0.10159578  0.62242411]\n",
      "iteration # 52  there are  10 misclassified points => new vector [-0.05538854  0.1008425   0.6269993 ]\n",
      "iteration # 53  there are  11 misclassified points => new vector [-0.05307405  0.1001201   0.63148426]\n",
      "iteration # 54  there are  11 misclassified points => new vector [-0.05076187  0.09942718  0.6358815 ]\n",
      "iteration # 55  there are  11 misclassified points => new vector [-0.04845345  0.09876237  0.64019346]\n",
      "iteration # 56  there are  11 misclassified points => new vector [-0.04615014  0.09812438  0.64442249]\n",
      "iteration # 57  there are  11 misclassified points => new vector [-0.0438532   0.09751198  0.64857084]\n",
      "iteration # 58  there are  11 misclassified points => new vector [-0.04156381  0.096924    0.65264067]\n",
      "iteration # 59  there are  11 misclassified points => new vector [-0.03928307  0.09635933  0.65663409]\n",
      "iteration # 60  there are  11 misclassified points => new vector [-0.03701201  0.09581691  0.66055309]\n",
      "iteration # 61  there are  11 misclassified points => new vector [-0.03475158  0.09529572  0.66439961]\n",
      "iteration # 62  there are  11 misclassified points => new vector [-0.03250267  0.09479481  0.66817553]\n",
      "iteration # 63  there are  11 misclassified points => new vector [-0.03026611  0.09431325  0.67188264]\n",
      "iteration # 64  there are  11 misclassified points => new vector [-0.02804267  0.09385018  0.67552268]\n",
      "iteration # 65  there are  11 misclassified points => new vector [-0.02583305  0.09340476  0.67909731]\n",
      "iteration # 66  there are  11 misclassified points => new vector [-0.02363791  0.0929762   0.68260815]\n",
      "iteration # 67  there are  12 misclassified points => new vector [-0.02145786  0.09256375  0.68605675]\n",
      "iteration # 68  there are  12 misclassified points => new vector [-0.01929345  0.09216669  0.68944463]\n",
      "iteration # 69  there are  12 misclassified points => new vector [-0.01714519  0.09178433  0.69277323]\n",
      "iteration # 70  there are  12 misclassified points => new vector [-0.01501356  0.09141603  0.69604395]\n",
      "iteration # 71  there are  12 misclassified points => new vector [-0.01289898  0.09106116  0.69925814]\n",
      "iteration # 72  there are  11 misclassified points => new vector [-0.01080184  0.09071913  0.70241712]\n",
      "iteration # 73  there are  11 misclassified points => new vector [-0.0087225   0.09038938  0.70552215]\n",
      "iteration # 74  there are  11 misclassified points => new vector [-0.00666128  0.09007137  0.70857446]\n",
      "iteration # 75  there are  11 misclassified points => new vector [-0.00461846  0.08976459  0.71157522]\n",
      "iteration # 76  there are  11 misclassified points => new vector [-0.00259431  0.08946855  0.71452558]\n",
      "iteration # 77  there are  11 misclassified points => new vector [-5.89040218e-04  8.91827896e-02  7.17426655e-01]\n",
      "iteration # 78  there are  11 misclassified points => new vector [0.00139714 0.08890686 0.72027952]\n",
      "iteration # 79  there are  11 misclassified points => new vector [0.00336405 0.08864035 0.7230852 ]\n",
      "iteration # 80  there are  11 misclassified points => new vector [0.00531154 0.08838285 0.72584472]\n",
      "iteration # 81  there are  11 misclassified points => new vector [0.00723948 0.08813397 0.72855905]\n",
      "iteration # 82  there are  11 misclassified points => new vector [0.00914777 0.08789336 0.73122913]\n",
      "iteration # 83  there are  11 misclassified points => new vector [0.01103633 0.08766066 0.73385589]\n",
      "iteration # 84  there are  11 misclassified points => new vector [0.01290507 0.08743554 0.73644022]\n",
      "No convergence after 85 iterations.\n",
      "There were misClassifiedNumber*100/N= 11.0 % misclassified data points.\n"
     ]
    },
    {
     "data": {
      "image/png": "[encoded data removed]",
      "text/plain": [
       "<Figure size 432x288 with 1 Axes>"
      ]
     },
     "metadata": {
      "needs_background": "light"
     },
     "output_type": "display_data"
    }
   ],
   "source": [
    "wparameters =  perceptronFullBatch(X,T,eta, w0, MAXITER, plotting,  verbose, Loss=\"stupidJ2\")"
   ]
  },
  {
   "cell_type": "code",
   "execution_count": null,
   "metadata": {},
   "outputs": [],
   "source": []
  },
  {
   "cell_type": "markdown",
   "metadata": {},
   "source": [
    "### 2.2 Testing on more realistic data: MNIST (restricted to 2 classes)\n",
    "\n",
    "Test your code on the following data set. You should be able to fully fit the train set.\n",
    "\n",
    "Question: can you still picture the hyperplane ? Remember that we have many dimensions, but that the data consists in images."
   ]
  },
  {
   "cell_type": "code",
   "execution_count": 20,
   "metadata": {},
   "outputs": [],
   "source": [
    "## MNIST, reduced in quality (8x8 pixels pictures) ##\n",
    "K=2\n",
    "import sklearn.datasets\n",
    "Xmnist,Tmnist = sklearn.datasets.load_digits(n_class=K, return_X_y=True)\n",
    "linearPictureLength = 8 # Global variable\n",
    "ratio_train = 0.6 # we may reduce this number when using mnist70 (70 000 images !)\n",
    "ratio_valid = 0.3 # same here"
   ]
  },
  {
   "cell_type": "code",
   "execution_count": 21,
   "metadata": {
    "scrolled": true
   },
   "outputs": [
    {
     "data": {
      "text/plain": [
       "((360, 64), (360,))"
      ]
     },
     "execution_count": 21,
     "metadata": {},
     "output_type": "execute_result"
    }
   ],
   "source": [
    "Xmnist.shape, Tmnist.shape"
   ]
  },
  {
   "cell_type": "markdown",
   "metadata": {},
   "source": [
    "#### We show a couple of pictures and their labels"
   ]
  },
  {
   "cell_type": "code",
   "execution_count": 22,
   "metadata": {},
   "outputs": [
    {
     "name": "stdout",
     "output_type": "stream",
     "text": [
      "0\n",
      "1\n",
      "0\n",
      "1\n",
      "0\n",
      "1\n",
      "0\n",
      "0\n",
      "1\n",
      "1\n"
     ]
    },
    {
     "data": {
      "image/png": "[encoded data removed]",
      "text/plain": [
       "<Figure size 432x288 with 1 Axes>"
      ]
     },
     "metadata": {
      "needs_background": "light"
     },
     "output_type": "display_data"
    },
    {
     "data": {
      "image/png": "[encoded data removed]",
      "text/plain": [
       "<Figure size 432x288 with 1 Axes>"
      ]
     },
     "metadata": {
      "needs_background": "light"
     },
     "output_type": "display_data"
    },
    {
     "data": {
      "image/png": "[encoded data removed]",
      "text/plain": [
       "<Figure size 432x288 with 1 Axes>"
      ]
     },
     "metadata": {
      "needs_background": "light"
     },
     "output_type": "display_data"
    },
    {
     "data": {
      "image/png": "[encoded data removed]",
      "text/plain": [
       "<Figure size 432x288 with 1 Axes>"
      ]
     },
     "metadata": {
      "needs_background": "light"
     },
     "output_type": "display_data"
    },
    {
     "data": {
      "image/png": "[encoded data removed]",
      "text/plain": [
       "<Figure size 432x288 with 1 Axes>"
      ]
     },
     "metadata": {
      "needs_background": "light"
     },
     "output_type": "display_data"
    },
    {
     "data": {
      "image/png": "[encoded data removed]",
      "text/plain": [
       "<Figure size 432x288 with 1 Axes>"
      ]
     },
     "metadata": {
      "needs_background": "light"
     },
     "output_type": "display_data"
    },
    {
     "data": {
      "image/png": "[encoded data removed]",
      "text/plain": [
       "<Figure size 432x288 with 1 Axes>"
      ]
     },
     "metadata": {
      "needs_background": "light"
     },
     "output_type": "display_data"
    },
    {
     "data": {
      "image/png": "[encoded data removed]",
      "text/plain": [
       "<Figure size 432x288 with 1 Axes>"
      ]
     },
     "metadata": {
      "needs_background": "light"
     },
     "output_type": "display_data"
    },
    {
     "data": {
      "image/png": "[encoded data removed]",
      "text/plain": [
       "<Figure size 432x288 with 1 Axes>"
      ]
     },
     "metadata": {
      "needs_background": "light"
     },
     "output_type": "display_data"
    },
    {
     "data": {
      "image/png": "[encoded data removed]",
      "text/plain": [
       "<Figure size 432x288 with 1 Axes>"
      ]
     },
     "metadata": {
      "needs_background": "light"
     },
     "output_type": "display_data"
    }
   ],
   "source": [
    "for n in range(10):\n",
    "    plt.figure()\n",
    "    plt.imshow(Xmnist[n].reshape(8, 8) , cm.gray)\n",
    "    print(Tmnist[n])"
   ]
  },
  {
   "cell_type": "markdown",
   "metadata": {},
   "source": [
    "#### Note that the labels are encoded as 0, 1 and not -1, 1. Is that a problem ?"
   ]
  },
  {
   "cell_type": "code",
   "execution_count": 23,
   "metadata": {},
   "outputs": [
    {
     "data": {
      "text/plain": [
       "array([0, 1, 0, 1, 0])"
      ]
     },
     "execution_count": 23,
     "metadata": {},
     "output_type": "execute_result"
    }
   ],
   "source": [
    "Tmnist[:5]"
   ]
  },
  {
   "cell_type": "code",
   "execution_count": 24,
   "metadata": {},
   "outputs": [],
   "source": [
    "## TODO : do something about it !?\n",
    "Tmnist*=2\n",
    "Tmnist-=1"
   ]
  },
  {
   "cell_type": "code",
   "execution_count": 25,
   "metadata": {},
   "outputs": [
    {
     "data": {
      "text/plain": [
       "array([-1,  1, -1,  1, -1])"
      ]
     },
     "execution_count": 25,
     "metadata": {},
     "output_type": "execute_result"
    }
   ],
   "source": [
    "Tmnist[:5]"
   ]
  },
  {
   "cell_type": "markdown",
   "metadata": {},
   "source": [
    "### is the data already augmented ? If needed, augment it."
   ]
  },
  {
   "cell_type": "code",
   "execution_count": 26,
   "metadata": {},
   "outputs": [],
   "source": [
    "N = Xmnist.shape[0]\n",
    "Xmnist = np.hstack((np.ones((N,1)), Xmnist))  # extended vector"
   ]
  },
  {
   "cell_type": "code",
   "execution_count": 27,
   "metadata": {},
   "outputs": [
    {
     "data": {
      "text/plain": [
       "array([[ 1.,  0.,  0.,  5., 13.,  9.,  1.,  0.,  0.,  0.,  0., 13., 15.,\n",
       "        10., 15.,  5.,  0.,  0.,  3., 15.,  2.,  0., 11.,  8.,  0.,  0.,\n",
       "         4., 12.,  0.,  0.,  8.,  8.,  0.,  0.,  5.,  8.,  0.,  0.,  9.,\n",
       "         8.,  0.,  0.,  4., 11.,  0.,  1., 12.,  7.,  0.,  0.,  2., 14.,\n",
       "         5., 10., 12.,  0.,  0.,  0.,  0.,  6., 13., 10.,  0.,  0.,  0.],\n",
       "       [ 1.,  0.,  0.,  0., 12., 13.,  5.,  0.,  0.,  0.,  0.,  0., 11.,\n",
       "        16.,  9.,  0.,  0.,  0.,  0.,  3., 15., 16.,  6.,  0.,  0.,  0.,\n",
       "         7., 15., 16., 16.,  2.,  0.,  0.,  0.,  0.,  1., 16., 16.,  3.,\n",
       "         0.,  0.,  0.,  0.,  1., 16., 16.,  6.,  0.,  0.,  0.,  0.,  1.,\n",
       "        16., 16.,  6.,  0.,  0.,  0.,  0.,  0., 11., 16., 10.,  0.,  0.]])"
      ]
     },
     "execution_count": 27,
     "metadata": {},
     "output_type": "execute_result"
    }
   ],
   "source": [
    "Xmnist[:2]"
   ]
  },
  {
   "cell_type": "code",
   "execution_count": 28,
   "metadata": {},
   "outputs": [],
   "source": [
    "np.random.seed(42)\n",
    "w0mnist = initializeWeights(Xmnist,\"random\")"
   ]
  },
  {
   "cell_type": "code",
   "execution_count": 29,
   "metadata": {},
   "outputs": [
    {
     "name": "stdout",
     "output_type": "stream",
     "text": [
      "Convergence at iteration 43\n",
      "[-0.01478361  0.05590423  0.02874753  0.0027093  -0.06963786 -0.03636307\n",
      " -0.00656298  0.05997412  0.01254177  0.02580823 -0.0594364   0.02795181\n",
      "  0.03109555 -0.01059661 -0.02535364 -0.02712995 -0.02428076  0.00468177\n",
      "  0.00316993 -0.04875595  0.06401253  0.03514583 -0.03989239 -0.01715911\n",
      " -0.00544885  0.03617728 -0.03419533 -0.01942888  0.05915706  0.01596632\n",
      "  0.0040893  -0.05911645 -0.05394871  0.0556774   0.03550455 -0.00988691\n",
      "  0.01418199  0.01773626  0.01382352 -0.03317317 -0.04688039 -0.00059823\n",
      " -0.07047422 -0.00803561  0.00333034  0.06235285 -0.04249326 -0.02106642\n",
      "  0.0057937  -0.03908899  0.05557814 -0.01731842  0.03765202  0.04794453\n",
      " -0.00696811  0.05396595 -0.04990233 -0.03770868 -0.05637983 -0.03152622\n",
      " -0.04686344 -0.02827733  0.06849709 -0.00312867 -0.02447729]\n"
     ]
    }
   ],
   "source": [
    "eta=0.01\n",
    "MAXITER=100\n",
    "plotting = False\n",
    "verbose= False\n",
    "wparameters =  perceptronFullBatch(Xmnist,Tmnist,eta, w0mnist, MAXITER, plotting, verbose)"
   ]
  },
  {
   "cell_type": "code",
   "execution_count": 30,
   "metadata": {},
   "outputs": [
    {
     "data": {
      "text/plain": [
       "(65,)"
      ]
     },
     "execution_count": 30,
     "metadata": {},
     "output_type": "execute_result"
    }
   ],
   "source": [
    "wparameters.shape"
   ]
  },
  {
   "cell_type": "code",
   "execution_count": 31,
   "metadata": {},
   "outputs": [
    {
     "data": {
      "text/plain": [
       "<matplotlib.image.AxesImage at 0x7f3941597790>"
      ]
     },
     "execution_count": 31,
     "metadata": {},
     "output_type": "execute_result"
    },
    {
     "data": {
      "image/png": "[encoded data removed]",
      "text/plain": [
       "<Figure size 432x288 with 1 Axes>"
      ]
     },
     "metadata": {
      "needs_background": "light"
     },
     "output_type": "display_data"
    }
   ],
   "source": [
    "## we can \"look\" at the hyperplane, although it's 65-dimensional, \n",
    "## by looking at the 64 values that correspond to pixels, \n",
    "## and representing them as a grayscale picture (as the iamges are originally)\n",
    "plt.imshow(wparameters[1:].reshape(8, 8) , cm.gray)"
   ]
  },
  {
   "cell_type": "markdown",
   "metadata": {},
   "source": [
    "#### Comment:\n",
    "this does not look much like anything. See below another training where it does."
   ]
  },
  {
   "cell_type": "code",
   "execution_count": 32,
   "metadata": {
    "scrolled": true
   },
   "outputs": [
    {
     "name": "stdout",
     "output_type": "stream",
     "text": [
      "Convergence at iteration 10\n",
      "[-1.33391608e-02  5.59042294e-02  2.84975292e-02 -7.72073655e-02\n",
      " -1.94054526e-01  1.39980383e-02  1.62131463e-01  9.68074499e-02\n",
      "  1.25417736e-02  2.58082270e-02 -8.66863972e-02 -2.96159301e-01\n",
      " -6.54334306e-03  1.21820058e-01 -5.86314224e-02 -1.76883759e-03\n",
      " -2.42807614e-02  3.62621298e-03 -1.00107848e-01 -3.31450394e-01\n",
      "  3.94984755e-01  5.42229161e-01 -1.83836839e-01 -1.02964662e-01\n",
      " -5.44884785e-03  3.56495025e-02 -1.38084216e-01 -1.67401102e-01\n",
      "  5.14240394e-01  5.81799653e-01 -7.86051473e-02 -2.68366453e-01\n",
      " -5.39487102e-02  5.56773985e-02 -1.17801010e-01 -1.82859128e-01\n",
      "  4.24098654e-01  5.55375145e-01 -8.68709277e-02 -2.79089836e-01\n",
      " -4.68803872e-02 -5.98230674e-04 -1.68029774e-01 -2.88118941e-01\n",
      "  3.38691450e-01  5.00713964e-01 -2.26687700e-01 -2.28621979e-01\n",
      "  5.79369710e-03 -3.90889940e-02  3.21336936e-02 -3.08373973e-01\n",
      "  6.61798012e-02  1.64805639e-01 -2.22579224e-01  1.49372544e-03\n",
      " -3.96523344e-02 -3.77086850e-02 -5.61298347e-02 -1.09720662e-01\n",
      " -2.10196772e-01 -2.30828844e-02  1.54663759e-01  4.69546591e-02\n",
      " -2.27285504e-04]\n"
     ]
    },
    {
     "data": {
      "text/plain": [
       "<matplotlib.image.AxesImage at 0x7f394155de90>"
      ]
     },
     "execution_count": 32,
     "metadata": {},
     "output_type": "execute_result"
    },
    {
     "data": {
      "image/png": "[encoded data removed]",
      "text/plain": [
       "<Figure size 432x288 with 1 Axes>"
      ]
     },
     "metadata": {
      "needs_background": "light"
     },
     "output_type": "display_data"
    }
   ],
   "source": [
    "eta=0.1\n",
    "wparameters =  perceptronFullBatch(Xmnist,Tmnist,eta, w0mnist, MAXITER, plotting, verbose)\n",
    "plt.imshow(wparameters[1:].reshape(8, 8) , cm.gray)"
   ]
  },
  {
   "cell_type": "markdown",
   "metadata": {},
   "source": [
    "#### Comment:\n",
    "this looks a lot like a black 0 + a white 1, right ? This is not a coincidence."
   ]
  },
  {
   "cell_type": "markdown",
   "metadata": {},
   "source": [
    "### The stupid J2 algorithm fails miserably ! As expected."
   ]
  },
  {
   "cell_type": "code",
   "execution_count": 33,
   "metadata": {},
   "outputs": [
    {
     "name": "stdout",
     "output_type": "stream",
     "text": [
      "No convergence after 200 iterations.\n",
      "There were misClassifiedNumber*100/N= 49.44444444444444 % misclassified data points.\n"
     ]
    }
   ],
   "source": [
    "eta=0.01\n",
    "MAXITER=200\n",
    "plotting = False\n",
    "verbose= False\n",
    "np.random.seed(42)\n",
    "w0mnist = initializeWeights(Xmnist,\"random\")\n",
    "wparameters =  perceptronFullBatch(Xmnist,Tmnist,eta, w0mnist, MAXITER, plotting, verbose, Loss=\"stupidJ2\")"
   ]
  },
  {
   "cell_type": "markdown",
   "metadata": {},
   "source": [
    "### 3.1 Bonus / Homework: Re-code your algo, putting it inside a class\n",
    "\n",
    "The class should contain an `__init__` method, a `fit` method and a `predict` method, at least. It may also include a `score` method "
   ]
  },
  {
   "cell_type": "code",
   "execution_count": null,
   "metadata": {},
   "outputs": [],
   "source": []
  },
  {
   "cell_type": "code",
   "execution_count": null,
   "metadata": {},
   "outputs": [],
   "source": []
  },
  {
   "cell_type": "markdown",
   "metadata": {},
   "source": [
    "### 3.2 Bonus / Homework: Compare the evolution of the hyperplane in the Online and Full-Batch strategies, on the following data set: \n",
    "- for this data set (and maybe also the one at the beggining of the TP), get an intuitive feeling of how the plane evolves over iterations, for the online perceptron and for the full batch perceptron\n",
    "- which algo seems the most efficient ? (Try several initializations of $\\vec w_0$).\n",
    "\n",
    "#### Note: \n",
    "this is the data set used in exercise \"2.1.2 Roseblatt’s online Perceptron\""
   ]
  },
  {
   "cell_type": "code",
   "execution_count": 34,
   "metadata": {},
   "outputs": [
    {
     "data": {
      "image/png": "[encoded data removed]",
      "text/plain": [
       "<Figure size 432x288 with 1 Axes>"
      ]
     },
     "metadata": {
      "needs_background": "light"
     },
     "output_type": "display_data"
    }
   ],
   "source": [
    "## data set 1\n",
    "Xtoy = np.array([ [0, 0], [0, 1], [1, 0], [1, 1], [4, 0], [4, 1] ])\n",
    "Ttoy = np.array([ -1 , -1 , 1 , 1 , 1 ,1])\n",
    "N = Xtoy.shape[0]\n",
    "Xtoy =  np.hstack((np.ones((N,1)), Xtoy))  # extended vector\n",
    "wparameters_toy = np.array([1, 0.00, 1])\n",
    "display(Xtoy,Ttoy, wparameters_toy, 1)"
   ]
  },
  {
   "cell_type": "code",
   "execution_count": 35,
   "metadata": {},
   "outputs": [
    {
     "name": "stdout",
     "output_type": "stream",
     "text": [
      "iteration # 0  there are  2 misclassified points => new vector [0.93333333 0.         0.96666667]\n",
      "iteration # 1  there are  2 misclassified points => new vector [0.86666667 0.         0.93333333]\n",
      "iteration # 2  there are  2 misclassified points => new vector [0.8 0.  0.9]\n",
      "iteration # 3  there are  2 misclassified points => new vector [0.73333333 0.         0.86666667]\n",
      "iteration # 4  there are  2 misclassified points => new vector [0.66666667 0.         0.83333333]\n",
      "iteration # 5  there are  2 misclassified points => new vector [0.6 0.  0.8]\n",
      "iteration # 6  there are  2 misclassified points => new vector [0.53333333 0.         0.76666667]\n",
      "iteration # 7  there are  2 misclassified points => new vector [0.46666667 0.         0.73333333]\n",
      "iteration # 8  there are  2 misclassified points => new vector [0.4 0.  0.7]\n",
      "iteration # 9  there are  2 misclassified points => new vector [0.33333333 0.         0.66666667]\n",
      "iteration # 10  there are  2 misclassified points => new vector [0.26666667 0.         0.63333333]\n",
      "iteration # 11  there are  2 misclassified points => new vector [0.2 0.  0.6]\n",
      "iteration # 12  there are  2 misclassified points => new vector [0.13333333 0.         0.56666667]\n",
      "iteration # 13  there are  2 misclassified points => new vector [0.06666667 0.         0.53333333]\n",
      "iteration # 14  there are  2 misclassified points => new vector [1.94289029e-16 0.00000000e+00 5.00000000e-01]\n",
      "iteration # 15  there are  2 misclassified points => new vector [-0.06666667  0.          0.46666667]\n",
      "iteration # 16  there are  3 misclassified points => new vector [-0.03333333  0.16666667  0.43333333]\n",
      "iteration # 17  there are  1 misclassified points => new vector [-0.06666667  0.16666667  0.4       ]\n",
      "iteration # 18  there are  1 misclassified points => new vector [-0.1         0.16666667  0.36666667]\n",
      "iteration # 19  there are  1 misclassified points => new vector [-0.13333333  0.16666667  0.33333333]\n",
      "iteration # 20  there are  1 misclassified points => new vector [-0.16666667  0.16666667  0.3       ]\n",
      "iteration # 21  there are  1 misclassified points => new vector [-0.2         0.16666667  0.26666667]\n",
      "iteration # 22  there are  2 misclassified points => new vector [-0.2         0.2         0.23333333]\n",
      "iteration # 23  there are  1 misclassified points => new vector [-0.23333333  0.2         0.2       ]\n",
      "iteration # 24  there are  1 misclassified points => new vector [-0.2         0.23333333  0.2       ]\n",
      "iteration # 25  there are  1 misclassified points => new vector [-0.23333333  0.23333333  0.16666667]\n",
      "Convergence at iteration 26\n",
      "[-0.23333333  0.23333333  0.16666667]\n"
     ]
    },
    {
     "data": {
      "image/png": "[encoded data removed]",
      "text/plain": [
       "<Figure size 432x288 with 1 Axes>"
      ]
     },
     "metadata": {
      "needs_background": "light"
     },
     "output_type": "display_data"
    }
   ],
   "source": [
    "plotting = True\n",
    "eta=0.2\n",
    "MAXITER=30\n",
    "wparameters =  perceptronFullBatch(Xtoy,Ttoy,eta, wparameters_toy, MAXITER, plotting)"
   ]
  },
  {
   "cell_type": "code",
   "execution_count": 36,
   "metadata": {},
   "outputs": [],
   "source": [
    "## minimalistic correction:\n",
    "def perceptronOnline(X,y,eta, w0, maxIter=20, plot=True):\n",
    "    # get the number of points\n",
    "    N = X.shape[0]\n",
    "    wparameters=w0.copy()   # deep copy\n",
    "    for iteration in range(maxIter):\n",
    "        misClassifiedNumber = 0\n",
    "        for n in range(N):\n",
    "            misClassified = (wparameters @ X[n])*y[n] <= 0  # 'misClassified' is a boolean\n",
    "            if misClassified == True :\n",
    "                wparameters += eta*X[n]*y[n]\n",
    "                misClassifiedNumber += 1\n",
    "    print(\"No convergence after\", maxIter, \"epochs\")\n",
    "    return wparameters"
   ]
  },
  {
   "cell_type": "code",
   "execution_count": 37,
   "metadata": {},
   "outputs": [],
   "source": [
    "## full correction, with monitoring, displays, additional exit criterion, etc\n",
    "def perceptronOnline(X,y,eta, w0, maxIter=20, plot=True):\n",
    "    # get the number of points\n",
    "    N = X.shape[0]\n",
    "\n",
    "    wparameters=w0.copy()   # deep copy\n",
    "    ## the algo itself\n",
    "    for iteration in range(maxIter):\n",
    "        print(\"new epoch (1 full visit of data): \")\n",
    "\n",
    "        misClassifiedNumber = 0\n",
    "        for n in range(N):\n",
    "            misClassified = (wparameters @ X[n])*y[n] <= 0  # 'misClassified' is a boolean\n",
    "            if misClassified == True :\n",
    "                wparameters += eta*X[n]*y[n]\n",
    "                # if plot: #plotting inside each iteration inside the epoch would make lots of plots...\n",
    "                #     display(X,y, wparameters, iteration)\n",
    "                misClassifiedNumber += 1\n",
    "                print(\"    new value of w:\", wparameters)\n",
    "\n",
    "        if misClassifiedNumber == 0:\n",
    "            print(\"Convergence at epoch \", iteration)\n",
    "            display(X,y, wparameters, iteration)\n",
    "            return wparameters\n",
    "\n",
    "        if plot:\n",
    "            display(X,y, wparameters, iteration)\n",
    "    print(\"No convergence after\", maxIter, \"epochs\")\n",
    "    return wparameters"
   ]
  },
  {
   "cell_type": "code",
   "execution_count": 38,
   "metadata": {
    "scrolled": true
   },
   "outputs": [
    {
     "name": "stdout",
     "output_type": "stream",
     "text": [
      "new epoch (1 full visit of data): \n",
      "    new value of w: [0.8 0.  1. ]\n",
      "    new value of w: [0.6 0.  0.8]\n",
      "new epoch (1 full visit of data): \n",
      "    new value of w: [0.4 0.  0.8]\n",
      "    new value of w: [0.2 0.  0.6]\n",
      "new epoch (1 full visit of data): \n",
      "    new value of w: [5.55111512e-17 0.00000000e+00 6.00000000e-01]\n",
      "    new value of w: [-0.2  0.   0.4]\n",
      "    new value of w: [5.55111512e-17 2.00000000e-01 4.00000000e-01]\n",
      "new epoch (1 full visit of data): \n",
      "    new value of w: [-0.2  0.2  0.4]\n",
      "    new value of w: [-0.4  0.2  0.2]\n",
      "    new value of w: [-0.2  0.4  0.2]\n",
      "new epoch (1 full visit of data): \n",
      "    new value of w: [-4.00000000e-01  4.00000000e-01  5.55111512e-17]\n",
      "new epoch (1 full visit of data): \n",
      "Convergence at epoch  5\n"
     ]
    },
    {
     "data": {
      "image/png": "[encoded data removed]",
      "text/plain": [
       "<Figure size 432x288 with 1 Axes>"
      ]
     },
     "metadata": {
      "needs_background": "light"
     },
     "output_type": "display_data"
    }
   ],
   "source": [
    "plotting = True\n",
    "eta=0.2\n",
    "MAXITER=30\n",
    "wparameters =  perceptronOnline(Xtoy,Ttoy,eta, wparameters_toy, MAXITER, plotting)"
   ]
  },
  {
   "cell_type": "code",
   "execution_count": 39,
   "metadata": {},
   "outputs": [
    {
     "name": "stdout",
     "output_type": "stream",
     "text": [
      "new epoch (1 full visit of data): \n",
      "    new value of w: [-0.00556138  0.05590423  0.02877531  0.01223708  0.07733436  0.08733137\n",
      " -0.00481298  0.04541856  0.01254177  0.02580823 -0.05946418  0.05828514\n",
      "  0.15123443  0.12432006  0.05053524 -0.03926884 -0.02428076  0.00307066\n",
      " -0.00844118  0.00410516  0.16387364  0.11528472  0.03421872 -0.01657577\n",
      " -0.00544885  0.03537172  0.03274912  0.15176556  0.17146262  0.1037441\n",
      "  0.0333393  -0.04086645 -0.05394871  0.0556774   0.05775455  0.04825198\n",
      "  0.13576532  0.11009737  0.05285129 -0.00742317 -0.04688039 -0.00059823\n",
      " -0.057752    0.06076995  0.13008034  0.18015841  0.03664563  0.00248913\n",
      "  0.0057937  -0.03908899  0.0582448   0.04412603  0.21451313  0.20897231\n",
      "  0.072143    0.05232706 -0.05104122 -0.03770868 -0.05640761 -0.02166511\n",
      "  0.09619212  0.13163934  0.14077487 -0.01776756 -0.02717173]\n",
      "    new value of w: [-0.01556138  0.05590423  0.02877531  0.00223708 -0.01266564 -0.06266863\n",
      " -0.11481298  0.04541856  0.01254177  0.02580823 -0.05946418 -0.05171486\n",
      " -0.00876557  0.04432006 -0.08946476 -0.09926884 -0.02428076  0.00307066\n",
      " -0.02844118 -0.15589484  0.06387364  0.11528472 -0.05578128 -0.10657577\n",
      " -0.00544885  0.03537172  0.02274912 -0.00823444  0.13146262  0.1037441\n",
      " -0.0466607  -0.12086645 -0.05394871  0.0556774   0.01775455 -0.11174802\n",
      "  0.09576532  0.11009737 -0.02714871 -0.08742317 -0.04688039 -0.00059823\n",
      " -0.067752   -0.09923005  0.08008034  0.17015841 -0.07335437 -0.02751087\n",
      "  0.0057937  -0.03908899  0.0582448  -0.07587397  0.09451313  0.10897231\n",
      " -0.027857    0.05232706 -0.05104122 -0.03770868 -0.05640761 -0.03166511\n",
      " -0.00380788  0.00163934  0.11077487 -0.01776756 -0.02717173]\n",
      "    new value of w: [-0.00556138  0.05590423  0.02877531  0.00223708 -0.00266564  0.06733137\n",
      "  0.01518702  0.04541856  0.01254177  0.02580823 -0.05946418 -0.01171486\n",
      "  0.14123443  0.19432006  0.07053524 -0.09926884 -0.02428076  0.00307066\n",
      "  0.05155882  0.00410516  0.16387364  0.17528472  0.08421872 -0.10657577\n",
      " -0.00544885  0.03537172  0.12274912  0.05176556  0.13146262  0.1837441\n",
      "  0.0833393  -0.12086645 -0.05394871  0.0556774   0.01775455 -0.11174802\n",
      "  0.09576532  0.21009737  0.10285129 -0.08742317 -0.04688039 -0.00059823\n",
      " -0.067752   -0.09923005  0.08008034  0.30015841  0.01664563 -0.02751087\n",
      "  0.0057937  -0.03908899  0.0582448  -0.07587397  0.09451313  0.24897231\n",
      "  0.042143    0.05232706 -0.05104122 -0.03770868 -0.05640761 -0.03166511\n",
      " -0.00380788  0.16163934  0.18077487 -0.01776756 -0.02717173]\n",
      "    new value of w: [-0.01556138  0.05590423  0.02877531  0.00223708 -0.14266564 -0.05266863\n",
      "  0.00518702  0.04541856  0.01254177  0.02580823 -0.05946418 -0.05171486\n",
      " -0.00876557  0.12432006 -0.02946476 -0.09926884 -0.02428076  0.00307066\n",
      "  0.03155882 -0.15589484  0.01387364  0.12528472 -0.03578128 -0.12657577\n",
      " -0.00544885  0.03537172  0.05274912 -0.10823444  0.13146262  0.1837441\n",
      " -0.0266607  -0.17086645 -0.05394871  0.0556774  -0.03224545 -0.23174802\n",
      "  0.09576532  0.21009737 -0.01714871 -0.12742317 -0.04688039 -0.00059823\n",
      " -0.077752   -0.24923005  0.08008034  0.30015841 -0.12335437 -0.04751087\n",
      "  0.0057937  -0.03908899  0.0582448  -0.16587397  0.03451313  0.17897231\n",
      " -0.107857    0.05232706 -0.05104122 -0.03770868 -0.05640761 -0.04166511\n",
      " -0.13380788  0.00163934  0.10077487 -0.01776756 -0.02717173]\n",
      "    new value of w: [-0.00556138  0.05590423  0.02877531  0.00223708 -0.14266564  0.00733137\n",
      "  0.16518702  0.11541856  0.01254177  0.02580823 -0.04946418 -0.00171486\n",
      "  0.10123443  0.28432006  0.13053524 -0.01926884 -0.02428076  0.00307066\n",
      "  0.14155882  0.00410516  0.17387364  0.25528472  0.12421872 -0.04657577\n",
      " -0.00544885  0.03537172  0.08274912 -0.03823444  0.14146262  0.2237441\n",
      "  0.1333393  -0.09086645 -0.05394871  0.0556774  -0.03224545 -0.23174802\n",
      "  0.09576532  0.26009737  0.14285129 -0.04742317 -0.04688039 -0.00059823\n",
      " -0.077752   -0.24923005  0.08008034  0.35015841  0.03664563  0.02248913\n",
      "  0.0057937  -0.03908899  0.0582448  -0.16587397  0.03451313  0.24897231\n",
      "  0.052143    0.14232706 -0.05104122 -0.03770868 -0.05640761 -0.04166511\n",
      " -0.13380788  0.08163934  0.26077487  0.06223244 -0.02717173]\n",
      "    new value of w: [-0.01556138  0.05590423  0.02877531 -0.03776292 -0.26266564 -0.04266863\n",
      "  0.16518702  0.11541856  0.01254177  0.02580823 -0.04946418 -0.12171486\n",
      " -0.03876557  0.13432006  0.06053524 -0.01926884 -0.02428076  0.00307066\n",
      "  0.12155882 -0.13589484  0.16387364  0.23528472 -0.03578128 -0.04657577\n",
      " -0.00544885  0.03537172  0.04274912 -0.11823444  0.14146262  0.2237441\n",
      "  0.0333393  -0.13086645 -0.05394871  0.0556774  -0.10224545 -0.31174802\n",
      "  0.09576532  0.26009737  0.08285129 -0.12742317 -0.04688039 -0.00059823\n",
      " -0.117752   -0.35923005  0.08008034  0.35015841 -0.01335437 -0.05751087\n",
      "  0.0057937  -0.03908899  0.0582448  -0.30587397 -0.07548687  0.21897231\n",
      " -0.077857    0.09232706 -0.05104122 -0.03770868 -0.05640761 -0.06166511\n",
      " -0.24380788 -0.07836066  0.15077487  0.06223244 -0.02717173]\n",
      "    new value of w: [-0.00556138  0.05590423  0.02877531 -0.01776292 -0.11266564  0.09733137\n",
      "  0.17518702  0.11541856  0.01254177  0.02580823 -0.04946418 -0.01171486\n",
      "  0.12123443  0.29432006  0.10053524 -0.01926884 -0.02428076  0.00307066\n",
      "  0.16155882  0.02410516  0.32387364  0.39528472 -0.02578128 -0.04657577\n",
      " -0.00544885  0.03537172  0.11274912  0.04176556  0.30146262  0.3637441\n",
      "  0.0333393  -0.13086645 -0.05394871  0.0556774  -0.01224545 -0.15174802\n",
      "  0.25576532  0.37009737  0.08285129 -0.12742317 -0.04688039 -0.00059823\n",
      " -0.107752   -0.22923005  0.24008034  0.44015841 -0.01335437 -0.05751087\n",
      "  0.0057937  -0.03908899  0.0582448  -0.25587397  0.08451313  0.26897231\n",
      " -0.077857    0.09232706 -0.05104122 -0.03770868 -0.05640761 -0.04166511\n",
      " -0.10380788  0.01163934  0.15077487  0.06223244 -0.02717173]\n",
      "    new value of w: [-0.01556138  0.05590423  0.02877531 -0.01776292 -0.21266564  0.00733137\n",
      "  0.17518702  0.11541856  0.01254177  0.02580823 -0.04946418 -0.04171486\n",
      " -0.02876557  0.16432006  0.05053524 -0.01926884 -0.02428076  0.00307066\n",
      "  0.16155882 -0.10589484  0.19387364  0.38528472 -0.15578128 -0.04657577\n",
      " -0.00544885  0.03537172  0.11274912 -0.11823444  0.23146262  0.3637441\n",
      " -0.1266607  -0.13086645 -0.05394871  0.0556774  -0.01224545 -0.31174802\n",
      "  0.14576532  0.34009737 -0.06714871 -0.12742317 -0.04688039 -0.00059823\n",
      " -0.107752   -0.36923005  0.17008034  0.28015841 -0.13335437 -0.05751087\n",
      "  0.0057937  -0.03908899  0.0582448  -0.34587397 -0.04548687  0.11897231\n",
      " -0.137857    0.09232706 -0.05104122 -0.03770868 -0.05640761 -0.04166511\n",
      " -0.23380788 -0.08836066  0.15077487  0.06223244 -0.02717173]\n",
      "new epoch (1 full visit of data): \n",
      "    new value of w: [-0.00556138  0.05590423  0.02877531  0.01223708 -0.05266564  0.12733137\n",
      "  0.18518702  0.11541856  0.01254177  0.02580823 -0.04946418  0.05828514\n",
      "  0.13123443  0.32432006  0.05053524 -0.01926884 -0.02428076  0.00307066\n",
      "  0.16155882  0.01410516  0.35387364  0.50528472 -0.15578128 -0.04657577\n",
      " -0.00544885  0.03537172  0.11274912  0.01176556  0.39146262  0.4637441\n",
      " -0.1266607  -0.13086645 -0.05394871  0.0556774  -0.01224545 -0.15174802\n",
      "  0.30576532  0.35009737 -0.06714871 -0.12742317 -0.04688039 -0.00059823\n",
      " -0.107752   -0.20923005  0.33008034  0.28015841 -0.13335437 -0.05751087\n",
      "  0.0057937  -0.03908899  0.0582448  -0.24587397  0.11451313  0.12897231\n",
      " -0.137857    0.09232706 -0.05104122 -0.03770868 -0.05640761 -0.02166511\n",
      " -0.10380788  0.00163934  0.15077487  0.06223244 -0.02717173]\n",
      "    new value of w: [-0.01556138  0.05590423  0.02877531 -0.03776292 -0.17266564  0.12733137\n",
      "  0.18518702  0.11541856  0.01254177  0.02580823 -0.04946418 -0.08171486\n",
      "  0.03123443  0.18432006 -0.06946476 -0.01926884 -0.02428076  0.00307066\n",
      "  0.14155882 -0.14589484  0.19387364  0.42528472 -0.26578128 -0.06657577\n",
      " -0.00544885  0.03537172  0.08274912 -0.14823444  0.28146262  0.4637441\n",
      " -0.2166607  -0.16086645 -0.05394871  0.0556774  -0.06224545 -0.27174802\n",
      "  0.28576532  0.35009737 -0.18714871 -0.16742317 -0.04688039 -0.00059823\n",
      " -0.117752   -0.32923005  0.33008034  0.28015841 -0.26335437 -0.08751087\n",
      "  0.0057937  -0.03908899  0.0582448  -0.37587397  0.05451313  0.04897231\n",
      " -0.267857    0.09232706 -0.05104122 -0.03770868 -0.05640761 -0.05166511\n",
      " -0.24380788 -0.11836066  0.12077487  0.06223244 -0.02717173]\n",
      "    new value of w: [-0.00556138  0.05590423  0.02877531 -0.03776292 -0.17266564  0.17733137\n",
      "  0.33518702  0.12541856  0.01254177  0.02580823 -0.04946418 -0.08171486\n",
      "  0.03123443  0.29432006  0.09053524 -0.00926884 -0.02428076  0.00307066\n",
      "  0.14155882 -0.14589484  0.27387364  0.57528472 -0.10578128 -0.03657577\n",
      " -0.00544885  0.03537172  0.10274912 -0.01823444  0.43146262  0.5137441\n",
      " -0.0566607  -0.16086645 -0.05394871  0.0556774   0.01775455 -0.13174802\n",
      "  0.30576532  0.38009737 -0.02714871 -0.16742317 -0.04688039 -0.00059823\n",
      " -0.117752   -0.32923005  0.33008034  0.32015841 -0.11335437 -0.08751087\n",
      "  0.0057937  -0.03908899  0.0582448  -0.37587397  0.05451313  0.09897231\n",
      " -0.117857    0.09232706 -0.05104122 -0.03770868 -0.05640761 -0.05166511\n",
      " -0.24380788 -0.06836066  0.28077487  0.07223244 -0.02717173]\n",
      "    new value of w: [-0.01556138  0.05590423  0.02877531 -0.03776292 -0.27266564  0.08733137\n",
      "  0.33518702  0.12541856  0.01254177  0.02580823 -0.04946418 -0.11171486\n",
      " -0.11876557  0.16432006  0.04053524 -0.00926884 -0.02428076  0.00307066\n",
      "  0.14155882 -0.27589484  0.14387364  0.56528472 -0.23578128 -0.03657577\n",
      " -0.00544885  0.03537172  0.10274912 -0.17823444  0.36146262  0.5137441\n",
      " -0.2166607  -0.16086645 -0.05394871  0.0556774   0.01775455 -0.29174802\n",
      "  0.19576532  0.35009737 -0.17714871 -0.16742317 -0.04688039 -0.00059823\n",
      " -0.117752   -0.46923005  0.26008034  0.16015841 -0.23335437 -0.08751087\n",
      "  0.0057937  -0.03908899  0.0582448  -0.46587397 -0.07548687 -0.05102769\n",
      " -0.177857    0.09232706 -0.05104122 -0.03770868 -0.05640761 -0.05166511\n",
      " -0.37380788 -0.16836066  0.28077487  0.07223244 -0.02717173]\n",
      "    new value of w: [-5.56138306e-03  5.59042294e-02  2.87753070e-02  7.22370789e-02\n",
      " -1.22665637e-01  2.07331372e-01  3.45187018e-01  1.25418561e-01\n",
      "  1.25417736e-02  2.58082270e-02 -4.94641750e-02 -4.17148562e-02\n",
      "  4.12344347e-02  3.24320058e-01  1.10535244e-01 -9.26883759e-03\n",
      " -2.42807614e-02  3.07065743e-03  1.41558818e-01 -1.55894838e-01\n",
      "  3.03873644e-01  7.25284717e-01 -7.57812834e-02 -2.65757733e-02\n",
      " -5.44884785e-03  3.53717247e-02  1.02749117e-01 -4.82344352e-02\n",
      "  5.21462617e-01  6.73744097e-01 -8.66607028e-02 -1.40866453e-01\n",
      " -5.39487102e-02  5.56773985e-02  1.77545456e-02 -1.51748017e-01\n",
      "  3.55765321e-01  5.10097367e-01 -1.37148705e-01 -1.67423170e-01\n",
      " -4.68803872e-02 -5.98230674e-04 -9.77519962e-02 -3.09230053e-01\n",
      "  4.20080339e-01  3.00158408e-01 -2.33354367e-01 -8.75108683e-02\n",
      "  5.79369710e-03 -3.90889940e-02  5.82448047e-02 -3.25873973e-01\n",
      "  8.45131346e-02  8.89723056e-02 -1.77857002e-01  9.23270588e-02\n",
      " -5.10412233e-02 -3.77086850e-02 -5.64076125e-02  2.83348939e-02\n",
      " -2.13807883e-01 -3.83606622e-02  2.90774870e-01  7.22324369e-02\n",
      " -2.71717299e-02]\n",
      "    new value of w: [-1.55613831e-02  5.59042294e-02  2.87753070e-02  2.22370789e-02\n",
      " -2.82665637e-01  1.07331372e-01  3.45187018e-01  1.25418561e-01\n",
      "  1.25417736e-02  2.58082270e-02 -4.94641750e-02 -1.21714856e-01\n",
      " -1.18765565e-01  1.64320058e-01  6.05352443e-02 -9.26883759e-03\n",
      " -2.42807614e-02  3.07065743e-03  1.41558818e-01 -2.95894838e-01\n",
      "  1.63873644e-01  7.15284717e-01 -1.95781283e-01 -2.65757733e-02\n",
      " -5.44884785e-03  3.53717247e-02  1.02749117e-01 -1.98234435e-01\n",
      "  4.21462617e-01  6.73744097e-01 -1.56660703e-01 -1.80866453e-01\n",
      " -5.39487102e-02  5.56773985e-02 -2.24545436e-03 -3.11748017e-01\n",
      "  2.85765321e-01  5.10097367e-01 -1.57148705e-01 -2.57423170e-01\n",
      " -4.68803872e-02 -5.98230674e-04 -1.17751996e-01 -4.69230053e-01\n",
      "  3.40080339e-01  3.00158408e-01 -2.93354367e-01 -1.97510868e-01\n",
      "  5.79369710e-03 -3.90889940e-02  4.82448047e-02 -4.45873973e-01\n",
      " -5.54868654e-02 -5.10276944e-02 -3.37857002e-01  4.23270588e-02\n",
      " -5.10412233e-02 -3.77086850e-02 -5.64076125e-02 -1.16651061e-02\n",
      " -3.63807883e-01 -1.98360662e-01  2.10774870e-01  6.22324369e-02\n",
      " -2.71717299e-02]\n",
      "new epoch (1 full visit of data): \n",
      "    new value of w: [-5.56138306e-03  5.59042294e-02  2.87753070e-02  2.22370789e-02\n",
      " -2.82665637e-01  1.57331372e-01  4.95187018e-01  1.85418561e-01\n",
      "  1.25417736e-02  2.58082270e-02 -4.94641750e-02 -1.21714856e-01\n",
      " -7.87655653e-02  3.14320058e-01  2.20535244e-01  3.07311624e-02\n",
      " -2.42807614e-02  3.07065743e-03  1.71558818e-01 -1.85894838e-01\n",
      "  3.23873644e-01  8.15284717e-01 -3.57812834e-02  1.34242267e-02\n",
      " -5.44884785e-03  3.53717247e-02  1.42749117e-01 -8.82344352e-02\n",
      "  4.51462617e-01  6.73744097e-01  3.33929716e-03 -1.40866453e-01\n",
      " -5.39487102e-02  5.56773985e-02 -2.24545436e-03 -3.11748017e-01\n",
      "  2.85765321e-01  5.20097367e-01  2.85129455e-03 -2.17423170e-01\n",
      " -4.68803872e-02 -5.98230674e-04 -1.17751996e-01 -4.69230053e-01\n",
      "  3.40080339e-01  3.30158408e-01 -1.33354367e-01 -1.67510868e-01\n",
      "  5.79369710e-03 -3.90889940e-02  4.82448047e-02 -4.45873973e-01\n",
      " -5.54868654e-02 -1.02769438e-03 -1.77857002e-01  8.23270588e-02\n",
      " -5.10412233e-02 -3.77086850e-02 -5.64076125e-02 -1.16651061e-02\n",
      " -3.63807883e-01 -1.38360662e-01  3.60774870e-01  1.02232437e-01\n",
      " -2.71717299e-02]\n",
      "new epoch (1 full visit of data): \n",
      "    new value of w: [-1.55613831e-02  5.59042294e-02  2.87753070e-02  2.22370789e-02\n",
      " -3.72665637e-01  7.33137163e-03  4.35187018e-01  1.85418561e-01\n",
      "  1.25417736e-02  2.58082270e-02 -4.94641750e-02 -1.71714856e-01\n",
      " -2.28765565e-01  1.54320058e-01  7.05352443e-02  3.07311624e-02\n",
      " -2.42807614e-02  3.07065743e-03  1.71558818e-01 -3.35894838e-01\n",
      "  1.73873644e-01  7.75284717e-01 -1.95781283e-01 -1.65757733e-02\n",
      " -5.44884785e-03  3.53717247e-02  1.22749117e-01 -2.28234435e-01\n",
      "  4.01462617e-01  6.73744097e-01 -1.16660703e-01 -2.20866453e-01\n",
      " -5.39487102e-02  5.56773985e-02 -6.22454544e-02 -4.41748017e-01\n",
      "  2.85765321e-01  5.10097367e-01 -1.37148705e-01 -2.77423170e-01\n",
      " -4.68803872e-02 -5.98230674e-04 -1.27751996e-01 -5.69230053e-01\n",
      "  2.00080339e-01  1.80158408e-01 -2.93354367e-01 -1.97510868e-01\n",
      "  5.79369710e-03 -3.90889940e-02  4.82448047e-02 -4.75873973e-01\n",
      " -2.15486865e-01 -1.61027694e-01 -3.17857002e-01  7.23270588e-02\n",
      " -5.10412233e-02 -3.77086850e-02 -5.64076125e-02 -1.16651061e-02\n",
      " -4.53807883e-01 -2.68360662e-01  3.10774870e-01  1.02232437e-01\n",
      " -2.71717299e-02]\n",
      "    new value of w: [-5.56138306e-03  5.59042294e-02  2.87753070e-02  7.22370789e-02\n",
      " -2.22665637e-01  1.37331372e-01  5.55187018e-01  2.25418561e-01\n",
      "  1.25417736e-02  2.58082270e-02 -4.94641750e-02 -6.17148562e-02\n",
      " -6.87655653e-02  3.14320058e-01  2.10535244e-01  3.07311624e-02\n",
      " -2.42807614e-02  3.07065743e-03  1.71558818e-01 -1.75894838e-01\n",
      "  3.33873644e-01  9.35284717e-01 -1.15781283e-01 -1.65757733e-02\n",
      " -5.44884785e-03  3.53717247e-02  1.62749117e-01 -6.82344352e-02\n",
      "  5.61462617e-01  8.23744097e-01 -8.66607028e-02 -2.20866453e-01\n",
      " -5.39487102e-02  5.56773985e-02 -4.22454544e-02 -2.81748017e-01\n",
      "  4.45765321e-01  5.90097367e-01 -1.37148705e-01 -2.77423170e-01\n",
      " -4.68803872e-02 -5.98230674e-04 -1.27751996e-01 -4.09230053e-01\n",
      "  3.50080339e-01  2.10158408e-01 -2.93354367e-01 -1.97510868e-01\n",
      "  5.79369710e-03 -3.90889940e-02  4.82448047e-02 -3.75873973e-01\n",
      " -5.54868654e-02 -1.21027694e-01 -3.17857002e-01  7.23270588e-02\n",
      " -5.10412233e-02 -3.77086850e-02 -5.64076125e-02  6.83348939e-02\n",
      " -3.03807883e-01 -2.38360662e-01  3.10774870e-01  1.02232437e-01\n",
      " -2.71717299e-02]\n",
      "new epoch (1 full visit of data): \n",
      "Convergence at epoch  4\n"
     ]
    },
    {
     "data": {
      "text/plain": [
       "array([-5.56138306e-03,  5.59042294e-02,  2.87753070e-02,  7.22370789e-02,\n",
       "       -2.22665637e-01,  1.37331372e-01,  5.55187018e-01,  2.25418561e-01,\n",
       "        1.25417736e-02,  2.58082270e-02, -4.94641750e-02, -6.17148562e-02,\n",
       "       -6.87655653e-02,  3.14320058e-01,  2.10535244e-01,  3.07311624e-02,\n",
       "       -2.42807614e-02,  3.07065743e-03,  1.71558818e-01, -1.75894838e-01,\n",
       "        3.33873644e-01,  9.35284717e-01, -1.15781283e-01, -1.65757733e-02,\n",
       "       -5.44884785e-03,  3.53717247e-02,  1.62749117e-01, -6.82344352e-02,\n",
       "        5.61462617e-01,  8.23744097e-01, -8.66607028e-02, -2.20866453e-01,\n",
       "       -5.39487102e-02,  5.56773985e-02, -4.22454544e-02, -2.81748017e-01,\n",
       "        4.45765321e-01,  5.90097367e-01, -1.37148705e-01, -2.77423170e-01,\n",
       "       -4.68803872e-02, -5.98230674e-04, -1.27751996e-01, -4.09230053e-01,\n",
       "        3.50080339e-01,  2.10158408e-01, -2.93354367e-01, -1.97510868e-01,\n",
       "        5.79369710e-03, -3.90889940e-02,  4.82448047e-02, -3.75873973e-01,\n",
       "       -5.54868654e-02, -1.21027694e-01, -3.17857002e-01,  7.23270588e-02,\n",
       "       -5.10412233e-02, -3.77086850e-02, -5.64076125e-02,  6.83348939e-02,\n",
       "       -3.03807883e-01, -2.38360662e-01,  3.10774870e-01,  1.02232437e-01,\n",
       "       -2.71717299e-02])"
      ]
     },
     "execution_count": 39,
     "metadata": {},
     "output_type": "execute_result"
    },
    {
     "data": {
      "image/png": "[encoded data removed]",
      "text/plain": [
       "<Figure size 432x288 with 1 Axes>"
      ]
     },
     "metadata": {
      "needs_background": "light"
     },
     "output_type": "display_data"
    }
   ],
   "source": [
    "#trying on MNIST as well:\n",
    "eta=0.01\n",
    "MAXITER=100\n",
    "plotting = False\n",
    "verbose= False\n",
    "wparameters = perceptronOnline(Xmnist,Tmnist,eta, w0mnist, MAXITER, plotting)\n",
    "wparameters"
   ]
  },
  {
   "cell_type": "markdown",
   "metadata": {},
   "source": [
    "### 3.3 Bonus / Homework: use sklearn to check your codes"
   ]
  },
  {
   "cell_type": "code",
   "execution_count": 40,
   "metadata": {},
   "outputs": [],
   "source": [
    "import sklearn ## this line should run, at home (check it)"
   ]
  },
  {
   "cell_type": "code",
   "execution_count": null,
   "metadata": {},
   "outputs": [],
   "source": []
  },
  {
   "cell_type": "code",
   "execution_count": null,
   "metadata": {},
   "outputs": [],
   "source": []
  }
 ],
 "metadata": {
  "kernelspec": {
   "display_name": "Python 3",
   "language": "python",
   "name": "python3"
  },
  "language_info": {
   "codemirror_mode": {
    "name": "ipython",
    "version": 3
   },
   "file_extension": ".py",
   "mimetype": "text/x-python",
   "name": "python",
   "nbconvert_exporter": "python",
   "pygments_lexer": "ipython3",
   "version": "3.7.7"
  }
 },
 "nbformat": 4,
 "nbformat_minor": 4
}

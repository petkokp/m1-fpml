{
 "cells": [
  {
   "cell_type": "code",
   "execution_count": 1,
   "metadata": {},
   "outputs": [],
   "source": [
    "import numpy as np\n",
    "import matplotlib.pyplot as plt\n",
    "import matplotlib.cm as cm\n",
    "import sklearn\n",
    "plt.ion()\n",
    "\n",
    "import sklearn.svm\n",
    "import sklearn.tree"
   ]
  },
  {
   "cell_type": "markdown",
   "metadata": {},
   "source": [
    "## We provide you 3 datasets to play with :\n",
    "- MNIST in small resolution (8x8 pixels images)\n",
    "- MNIST, classic: 28x28 resolution \n",
    "- Fashion_MNIST, 28x28 resolution"
   ]
  },
  {
   "cell_type": "code",
   "execution_count": 2,
   "metadata": {},
   "outputs": [],
   "source": [
    "## data set 1 ##\n",
    "K=10\n",
    "import sklearn.datasets\n",
    "X,y = sklearn.datasets.load_digits(n_class=K, return_X_y=True)\n",
    "linearPictureLength = 8 # Global variable\n",
    "ratio_train = 0.6 # we may reduce this number when using mnist70 (70 000 images !)\n",
    "ratio_valid = 0.3 # same here"
   ]
  },
  {
   "cell_type": "code",
   "execution_count": null,
   "metadata": {},
   "outputs": [],
   "source": []
  },
  {
   "cell_type": "code",
   "execution_count": 3,
   "metadata": {},
   "outputs": [
    {
     "name": "stdout",
     "output_type": "stream",
     "text": [
      "(70000, 784)\n"
     ]
    }
   ],
   "source": [
    "## data set 2 ##\n",
    "LoadObject = np.load(\"mnist70.npz\")\n",
    "linearPictureLength = 28\n",
    "X = LoadObject['X']\n",
    "y = LoadObject['y']\n",
    "del LoadObject\n",
    "ratio_train = 0.005\n",
    "ratio_valid = 0.1\n",
    "print(X.shape)"
   ]
  },
  {
   "cell_type": "code",
   "execution_count": 4,
   "metadata": {},
   "outputs": [
    {
     "name": "stdout",
     "output_type": "stream",
     "text": [
      "(60000, 784)\n"
     ]
    }
   ],
   "source": [
    "## data set 3 ##\n",
    "LoadObject = np.load(\"fashion-mnist-reshaped.npz\")\n",
    "linearPictureLength = 28\n",
    "X = LoadObject['train_images']\n",
    "y = LoadObject['train_labels']\n",
    "Xtest = LoadObject['test_images']\n",
    "ytest = LoadObject['test_labels']\n",
    "X     = np.array(X    , dtype=float) ## change the type, which is iniitially unsigned-int (uint)\n",
    "Xtest = np.array(Xtest, dtype=float)\n",
    "del LoadObject\n",
    "ratio_train = 0.05\n",
    "ratio_valid = 0.1\n",
    "print(X.shape)"
   ]
  },
  {
   "cell_type": "markdown",
   "metadata": {},
   "source": [
    "## We load the data and split it into train, validation and test set.\n",
    "\n",
    "It's good to do this early, and remember to only use the train set for most operations.\n",
    "\n",
    "The validation set may be used to find the best hyper-parameters\n",
    "\n",
    "The test can be used.. only **once** ! Then it \"expires\", like old food is wasted after a couple of weeks."
   ]
  },
  {
   "cell_type": "code",
   "execution_count": 5,
   "metadata": {},
   "outputs": [],
   "source": [
    "def load_subSets(X, ratio_train, ratio_valid):\n",
    "    ratio_test = 1 - ratio_train - ratio_valid #\n",
    "    assert(ratio_test>0)\n",
    "    Ntot   = X.shape[0]\n",
    "    Ntrain = int(ratio_train*Ntot)\n",
    "    Nvalid = int(ratio_valid*Ntot)\n",
    "    Ntest  = Ntot - Ntrain - Nvalid\n",
    "    X_train = X[0: Ntrain].copy()\n",
    "    y_train = y[0: Ntrain].copy()\n",
    "    X_valid = X[Ntrain:Ntrain+Nvalid].copy() #  X[-Ntest:] also does the same\n",
    "    y_valid = y[Ntrain:Ntrain+Nvalid].copy() # \n",
    "    X_test  = X[-Ntest:].copy()\n",
    "    y_test  = y[-Ntest:].copy()\n",
    "    return X_train, y_train, X_valid, y_valid, X_test, y_test"
   ]
  },
  {
   "cell_type": "code",
   "execution_count": 6,
   "metadata": {},
   "outputs": [
    {
     "data": {
      "text/plain": [
       "(3000, 784)"
      ]
     },
     "execution_count": 6,
     "metadata": {},
     "output_type": "execute_result"
    }
   ],
   "source": [
    "## actually load the data into separate arrays\n",
    "X_train, y_train, X_valid, y_valid, X_test, y_test = load_subSets(X, ratio_train, ratio_valid)\n",
    "X_train.shape"
   ]
  },
  {
   "cell_type": "markdown",
   "metadata": {},
   "source": [
    "# First part: getting a sense of what PCA does\n",
    "\n",
    "## 1.1 Normalization\n",
    "\n",
    "- take a quick look at the data: what does it look like ? What are the min and max values ?\n",
    "- normalize the input so all values of the training set are between 0 and 1. Perform the appropriate operation on the val and test sets so that they are consistent with this pre-processing operation."
   ]
  },
  {
   "cell_type": "code",
   "execution_count": 7,
   "metadata": {},
   "outputs": [
    {
     "name": "stdout",
     "output_type": "stream",
     "text": [
      "9\n"
     ]
    },
    {
     "data": {
      "image/png": "[encoded data removed]",
      "text/plain": [
       "<Figure size 432x288 with 1 Axes>"
      ]
     },
     "metadata": {
      "needs_background": "light"
     },
     "output_type": "display_data"
    }
   ],
   "source": [
    "n=0\n",
    "plt.imshow(X_train[n].reshape(linearPictureLength, linearPictureLength) , cm.gray)\n",
    "print(y[n])"
   ]
  },
  {
   "cell_type": "code",
   "execution_count": 8,
   "metadata": {
    "scrolled": false
   },
   "outputs": [],
   "source": [
    "# print(X.shape, X[n], y[n])"
   ]
  },
  {
   "cell_type": "markdown",
   "metadata": {},
   "source": [
    "## Normalization: here we choose to simply perform min-max normalization\n",
    "\n",
    "What are the other choices ?"
   ]
  },
  {
   "cell_type": "markdown",
   "metadata": {},
   "source": [
    "Other common pre-processing choices are:\n",
    "- standardization (subtract the mean, divide by the standard deviation)\n",
    "- simple centering (subtract only the mean)\n",
    "- PCA (!)"
   ]
  },
  {
   "cell_type": "code",
   "execution_count": 9,
   "metadata": {},
   "outputs": [],
   "source": [
    "# we set X (the gray levels) between 0 and 1\n",
    "max_level = X_train.max()*1.0\n",
    "X_train /= max_level\n",
    "X_valid /= max_level\n",
    "X_test  /= max_level"
   ]
  },
  {
   "cell_type": "markdown",
   "metadata": {},
   "source": [
    "# Remark !\n",
    "\n",
    "We divide each sub-part of the data by the **same** value, not each by its max !\n",
    "\n",
    "This is important: in the spirit of pre-processing and train/val/test split, you must use only the training data to pre-process (all) the data, including the validation and test sets.\n",
    "\n",
    "The pipeline is not supposed to know in advance hte maximum value of the validation or test sets !\n"
   ]
  },
  {
   "cell_type": "markdown",
   "metadata": {},
   "source": [
    "## 1.2 Your first PCA compression (+decompression)\n",
    "\n",
    "\n",
    "We want to see what typical PCA does on an image.\n",
    "- using the method `sklearn.decomposition.PCA` from the `scikit-learn` library, compress the training set (i.e. perform its PCA). Then, decompress this compressed version, and compare an image before and after its transformation.  For this, you will need to :\n",
    "    - define an instance of the class `sklearn.decomposition.PCA`, that we may call \"model\" or \"preProcessing\"\n",
    "    - use the methods `fit`, `transofrm` and `inverse_transform`\n",
    "    - use the plot funciton  `plot_before_vs_after_compression` that we provide below\n",
    "    - remember to make copies, not in-place transformation !\n",
    "    - to start, you can use an explained variance ratio of 95%\n",
    "- compare a couple of images (pick random images, just to take a look not just at 1 case)\n",
    "- compute the Squared Error (squared difference between original and compresse+decompressed images) for a single image.\n",
    "- compute the Mean Squared Error (same thing but averaged on all training set images).\n",
    "- by browsing the methods of `sklearn.decomposition.PCA`, find a way to display the *explained variance ratio*, for all possible values of the number of PCA components to be kept. Plot it on a graph.\n",
    "- display the before/after image comparison for a low number of components, e.g. 30"
   ]
  },
  {
   "cell_type": "code",
   "execution_count": null,
   "metadata": {},
   "outputs": [],
   "source": []
  },
  {
   "cell_type": "code",
   "execution_count": 10,
   "metadata": {},
   "outputs": [],
   "source": [
    "def plot_before_vs_after_compression(n, X_train, X_train_Transf_decompressed, y):\n",
    "    plt.figure()\n",
    "    plt.imshow(X_train[n].reshape(linearPictureLength, linearPictureLength) , cm.gray)\n",
    "    plt.title(\"this is supposed to look like a \"+str(y[n])+ \" before compression\")\n",
    "    plt.savefig(str(n)+\"_beforeCompression.png\")\n",
    "\n",
    "    plt.figure()\n",
    "    plt.imshow(X_train_Transf_decompressed[n].reshape(linearPictureLength, linearPictureLength) , cm.gray)\n",
    "    plt.title(\"this is supposed to look like a \"+str(y[n])+ \" after compression+decompression\")\n",
    "    plt.savefig(str(n)+\"_afterCompression.png\")\n",
    "\n",
    "    print(\"The MSE for this image is \", np.mean( (X_train[n]- X_train_Transf_decompressed[n])**2) )"
   ]
  },
  {
   "cell_type": "code",
   "execution_count": 11,
   "metadata": {},
   "outputs": [
    {
     "name": "stdout",
     "output_type": "stream",
     "text": [
      "The MSE for this image is  145.40920372231986\n",
      "MSE totale (Mean Squared Error) 282.8568741356472\n"
     ]
    },
    {
     "data": {
      "image/png": "[encoded data removed]",
      "text/plain": [
       "<Figure size 432x288 with 1 Axes>"
      ]
     },
     "metadata": {
      "needs_background": "light"
     },
     "output_type": "display_data"
    },
    {
     "data": {
      "image/png": "[encoded data removed]",
      "text/plain": [
       "<Figure size 432x288 with 1 Axes>"
      ]
     },
     "metadata": {
      "needs_background": "light"
     },
     "output_type": "display_data"
    }
   ],
   "source": [
    "### 1st attempt at PCA with an explained_variance ratio set to 0.95\n",
    "\n",
    "X_train, y_train, X_valid, y_valid, X_test, y_test = load_subSets(X, ratio_train, ratio_valid)\n",
    "\n",
    "varianceExplained=0.95\n",
    "preProc = sklearn.decomposition.PCA(n_components=varianceExplained, copy=True)\n",
    "preProc.fit(X_train)\n",
    "\n",
    "X_train_Transformed = preProc.transform(X_train)\n",
    "X_train_Transf_decompressed = preProc.inverse_transform(X_train_Transformed)\n",
    "\n",
    "n=41 # image number 42 (41+1)\n",
    "plot_before_vs_after_compression(n, X_train, X_train_Transf_decompressed, y)\n",
    "\n",
    "diff = X_train_Transf_decompressed - X_train\n",
    "totalMeanSquaredError = np.mean(diff**2)\n",
    "print(\"MSE totale (Mean Squared Error)\", totalMeanSquaredError)"
   ]
  },
  {
   "cell_type": "code",
   "execution_count": 12,
   "metadata": {},
   "outputs": [
    {
     "data": {
      "text/plain": [
       "(0.0, 1.0)"
      ]
     },
     "execution_count": 12,
     "metadata": {},
     "output_type": "execute_result"
    },
    {
     "data": {
      "image/png": "[encoded data removed]",
      "text/plain": [
       "<Figure size 432x288 with 1 Axes>"
      ]
     },
     "metadata": {
      "needs_background": "light"
     },
     "output_type": "display_data"
    }
   ],
   "source": [
    "## displaying the total variance explained at various values of nComp\n",
    "CumulativeExplainedVariance = np.cumsum(preProc.explained_variance_ratio_)\n",
    "plt.plot(CumulativeExplainedVariance, ls= \"\", marker='x')\n",
    "plt.xlabel(\"number of PCA Components\")\n",
    "plt.ylabel(\"explained variance ratio\")\n",
    "plt.ylim([0,1])"
   ]
  },
  {
   "cell_type": "code",
   "execution_count": 13,
   "metadata": {
    "scrolled": true
   },
   "outputs": [
    {
     "name": "stdout",
     "output_type": "stream",
     "text": [
      "The MSE for this image is  52.63949442092677\n"
     ]
    },
    {
     "data": {
      "image/png": "[encoded data removed]",
      "text/plain": [
       "<Figure size 432x288 with 1 Axes>"
      ]
     },
     "metadata": {
      "needs_background": "light"
     },
     "output_type": "display_data"
    },
    {
     "data": {
      "image/png": "[encoded data removed]",
      "text/plain": [
       "<Figure size 432x288 with 1 Axes>"
      ]
     },
     "metadata": {
      "needs_background": "light"
     },
     "output_type": "display_data"
    }
   ],
   "source": [
    "plot_before_vs_after_compression(2, X_train, X_train_Transf_decompressed, y)"
   ]
  },
  {
   "cell_type": "code",
   "execution_count": 14,
   "metadata": {},
   "outputs": [
    {
     "name": "stdout",
     "output_type": "stream",
     "text": [
      "The MSE for this image is  945.5059095825783\n"
     ]
    },
    {
     "data": {
      "image/png": "[encoded data removed]",
      "text/plain": [
       "<Figure size 432x288 with 1 Axes>"
      ]
     },
     "metadata": {
      "needs_background": "light"
     },
     "output_type": "display_data"
    },
    {
     "data": {
      "image/png": "[encoded data removed]",
      "text/plain": [
       "<Figure size 432x288 with 1 Axes>"
      ]
     },
     "metadata": {
      "needs_background": "light"
     },
     "output_type": "display_data"
    }
   ],
   "source": [
    "# varianceExplained=30 # 30 compnents\n",
    "preProc = sklearn.decomposition.PCA(n_components=30, copy=True)\n",
    "preProc.fit(X_train)\n",
    "X_train_Transformed = preProc.transform(X_train)\n",
    "X_train_Transf_decompressed = preProc.inverse_transform(X_train_Transformed)\n",
    "\n",
    "n=41 # image number 42 (41+1)\n",
    "plot_before_vs_after_compression(n, X_train, X_train_Transf_decompressed, y)\n"
   ]
  },
  {
   "cell_type": "markdown",
   "metadata": {},
   "source": [
    "## Comments:\n",
    "\n",
    "- The explained variance monotonously increases with the number of components, as expected.\n",
    "- even with few components, the compression is not so bad !"
   ]
  },
  {
   "cell_type": "markdown",
   "metadata": {},
   "source": [
    "# Second part: make your own PCA !\n",
    "\n",
    "Now we want to really make sure we understand how PCA is, or can be done.\n",
    "\n",
    "## 2.1 Theory\n",
    "\n",
    "- Check out the lecture notes and make sure you understood the maths\n"
   ]
  },
  {
   "cell_type": "markdown",
   "metadata": {},
   "source": [
    "## 2.2 PCA \n",
    "\n",
    "Compute the PCA of the training set, using:\n",
    "- `np.mean(..., axis=...)` to compute the average of an array along one of its axes\n",
    "- `np.outer` computes the outer product of two vectors (you can also cheat and use `np.cov`... but it's cheating)\n",
    "- `.tranpose()` (applied on an array, or `np.transpose()` if you will). A shortcut for `a.transpose()` is `a.T`\n",
    "- `np.linalg.eig`, which computes the full system of eigenvalues and eigenvectors (with nornmalized eigenvectors)\n",
    "- `np.dot`, which compute the dot product (or matrix product). You can also use `np.matmul` if you have matrices.\n",
    "- `np.linalg.inv`, which computes the inverse of a matrix (and does not raise any warning when it is not invertibe, sadly)"
   ]
  },
  {
   "cell_type": "markdown",
   "metadata": {},
   "source": [
    "#### We check some identities to make sure we understand how `np.linal.eig` works"
   ]
  },
  {
   "cell_type": "code",
   "execution_count": 15,
   "metadata": {
    "scrolled": false
   },
   "outputs": [
    {
     "name": "stdout",
     "output_type": "stream",
     "text": [
      "[ 4.44089210e-16 -6.66133815e-16  2.22044605e-16]\n",
      "[-1.38777878e-17 -1.24900090e-16  2.49800181e-16]\n",
      "[ 1.99493200e-16  1.17961196e-16 -6.93889390e-17]\n"
     ]
    }
   ],
   "source": [
    "np.random.seed(42)\n",
    "a = np.random.random((3,3))\n",
    "w, v = np.linalg.eig(a)\n",
    "for i in range(a.shape[0]):\n",
    "    print(np.dot(a[:,:], v[:,i]) - w[i] * v[:,i])"
   ]
  },
  {
   "cell_type": "code",
   "execution_count": 16,
   "metadata": {},
   "outputs": [
    {
     "data": {
      "text/plain": [
       "array([[ 4.44089210e-16, -4.85722573e-17,  2.41126563e-16],\n",
       "       [-7.77156117e-16, -1.24900090e-16,  1.11022302e-16],\n",
       "       [ 2.22044605e-16,  2.77555756e-16, -9.71445147e-17]])"
      ]
     },
     "execution_count": 16,
     "metadata": {},
     "output_type": "execute_result"
    }
   ],
   "source": [
    "np.dot(a, v) - np.dot(v, np.diag(w))"
   ]
  },
  {
   "cell_type": "code",
   "execution_count": 17,
   "metadata": {},
   "outputs": [],
   "source": [
    "# np.sum(np.abs(np.linalg.inv(v) - v.transpose() ))\n",
    "# ## eigenvectors are orthonrmal, i.e. their transpose and inverse is the same thing !\n",
    "# ## the tranpose is cost-less, compared to the inverse (very costly)"
   ]
  },
  {
   "cell_type": "code",
   "execution_count": 18,
   "metadata": {},
   "outputs": [
    {
     "data": {
      "text/plain": [
       "array([[ 0.00000000e+00, -2.03595284e-17, -1.52004884e-16],\n",
       "       [-3.71767387e-15,  6.66133815e-16, -1.06798350e-15],\n",
       "       [-4.00459437e-15,  9.70930783e-16, -1.20736754e-15]])"
      ]
     },
     "execution_count": 18,
     "metadata": {},
     "output_type": "execute_result"
    }
   ],
   "source": [
    "np.dot(np.linalg.inv(v), np.dot(a, v)) - np.diag(w)"
   ]
  },
  {
   "cell_type": "code",
   "execution_count": 19,
   "metadata": {},
   "outputs": [],
   "source": [
    "## we subtract the mean, once and for all \n",
    "mean_X_train = X_train.mean(axis=0)\n",
    "X_centered = X_train - mean_X_train  \n",
    "## remember to also do it for the validaiton and test set, in a real case !"
   ]
  },
  {
   "cell_type": "code",
   "execution_count": 20,
   "metadata": {},
   "outputs": [],
   "source": [
    "## we compute the covariance matrix\n",
    "N = X_centered.shape[0]\n",
    "D = X_centered.shape[1]\n",
    "C = np.zeros((D,D)) ## the covariance matrix\n",
    "for n in range(N):\n",
    "    C += np.outer(X_centered[n],X_centered[n])\n",
    "C /= (N-1)"
   ]
  },
  {
   "cell_type": "code",
   "execution_count": 21,
   "metadata": {},
   "outputs": [],
   "source": [
    "# ## we can also cheat, with this: \n",
    "# cc = np.cov(X_centered.transpose())\n",
    "# abs(cc*(N-1) -  C).sum()\n",
    "# C = cc"
   ]
  },
  {
   "cell_type": "code",
   "execution_count": 22,
   "metadata": {},
   "outputs": [],
   "source": [
    "## this is the computationally-intensive part, that we perform using the linear algebra library !\n",
    "w, v = np.linalg.eig(C)"
   ]
  },
  {
   "cell_type": "code",
   "execution_count": 23,
   "metadata": {},
   "outputs": [
    {
     "data": {
      "text/plain": [
       "1.9813560915076e-06"
      ]
     },
     "execution_count": 23,
     "metadata": {},
     "output_type": "execute_result"
    }
   ],
   "source": [
    "## perform a quick check that the diagonalization went smoothly\n",
    "np.sum(np.abs(np.dot(np.linalg.inv(v), np.dot(C, v)) - np.diag(w) ))"
   ]
  },
  {
   "cell_type": "code",
   "execution_count": 24,
   "metadata": {},
   "outputs": [
    {
     "data": {
      "text/plain": [
       "[<matplotlib.lines.Line2D at 0x7f3f7ae219d0>]"
      ]
     },
     "execution_count": 24,
     "metadata": {},
     "output_type": "execute_result"
    },
    {
     "data": {
      "image/png": "[encoded data removed]",
      "text/plain": [
       "<Figure size 432x288 with 1 Axes>"
      ]
     },
     "metadata": {
      "needs_background": "light"
     },
     "output_type": "display_data"
    }
   ],
   "source": [
    "## we check whether eigenvlues are sorted, and in the same time we take a look at their values\n",
    "plt.plot(w)"
   ]
  },
  {
   "cell_type": "code",
   "execution_count": 25,
   "metadata": {
    "scrolled": true
   },
   "outputs": [
    {
     "data": {
      "text/plain": [
       "[<matplotlib.lines.Line2D at 0x7f3f7ae329d0>]"
      ]
     },
     "execution_count": 25,
     "metadata": {},
     "output_type": "execute_result"
    },
    {
     "data": {
      "image/png": "[encoded data removed]",
      "text/plain": [
       "<Figure size 432x288 with 1 Axes>"
      ]
     },
     "metadata": {
      "needs_background": "light"
     },
     "output_type": "display_data"
    }
   ],
   "source": [
    "# log plot (in y axis) seems more appropriate\n",
    "plt.semilogy(w)"
   ]
  },
  {
   "cell_type": "code",
   "execution_count": 26,
   "metadata": {},
   "outputs": [],
   "source": [
    "# we choose a number of components\n",
    "nComp = 30"
   ]
  },
  {
   "cell_type": "code",
   "execution_count": 27,
   "metadata": {},
   "outputs": [
    {
     "data": {
      "text/plain": [
       "(30, 784)"
      ]
     },
     "execution_count": 27,
     "metadata": {},
     "output_type": "execute_result"
    }
   ],
   "source": [
    "# we keep only the first nComp eigenvectors (this is the compression part)\n",
    "P = (np.linalg.inv(v)[:nComp])\n",
    "P.shape"
   ]
  },
  {
   "cell_type": "code",
   "execution_count": 28,
   "metadata": {},
   "outputs": [
    {
     "data": {
      "text/plain": [
       "(30, 3000)"
      ]
     },
     "execution_count": 28,
     "metadata": {},
     "output_type": "execute_result"
    }
   ],
   "source": [
    "## we transform the whole dataset at once\n",
    "X_transformed = np.dot(P, X_centered.T)\n",
    "## we should do the same for vlaidation and test sets here.\n",
    "X_transformed.shape"
   ]
  },
  {
   "cell_type": "markdown",
   "metadata": {},
   "source": [
    "## 2.3 Transform the compressed dataset back to the original space\n",
    "\n",
    "- Remember that the \"decompression\" is done by $X_{back} = P^T . X'$"
   ]
  },
  {
   "cell_type": "code",
   "execution_count": 29,
   "metadata": {},
   "outputs": [
    {
     "data": {
      "text/plain": [
       "(3000, 784)"
      ]
     },
     "execution_count": 29,
     "metadata": {},
     "output_type": "execute_result"
    }
   ],
   "source": [
    "Xback_transformed = np.dot(P.T, X_transformed).T # equivalent of X_train_Transf_decompressed , but made by hand\n",
    "Xback_transformed += mean_X_train\n",
    "Xback_transformed.shape"
   ]
  },
  {
   "cell_type": "markdown",
   "metadata": {},
   "source": [
    "## 2.4  compare with/without compression+decompression"
   ]
  },
  {
   "cell_type": "code",
   "execution_count": 30,
   "metadata": {},
   "outputs": [
    {
     "name": "stdout",
     "output_type": "stream",
     "text": [
      "The MSE for this image is  947.5233547639845\n"
     ]
    },
    {
     "data": {
      "image/png": "[encoded data removed]",
      "text/plain": [
       "<Figure size 432x288 with 1 Axes>"
      ]
     },
     "metadata": {
      "needs_background": "light"
     },
     "output_type": "display_data"
    },
    {
     "data": {
      "image/png": "[encoded data removed]",
      "text/plain": [
       "<Figure size 432x288 with 1 Axes>"
      ]
     },
     "metadata": {
      "needs_background": "light"
     },
     "output_type": "display_data"
    }
   ],
   "source": [
    "n=41\n",
    "plot_before_vs_after_compression(n, X_train, Xback_transformed, y)"
   ]
  },
  {
   "cell_type": "markdown",
   "metadata": {},
   "source": [
    "### We even compare our compression and the one performed by sklearn, to check again:"
   ]
  },
  {
   "cell_type": "code",
   "execution_count": 31,
   "metadata": {},
   "outputs": [
    {
     "name": "stdout",
     "output_type": "stream",
     "text": [
      "The MSE for this image is  0.06888043023669066\n"
     ]
    },
    {
     "data": {
      "image/png": "[encoded data removed]",
      "text/plain": [
       "<Figure size 432x288 with 1 Axes>"
      ]
     },
     "metadata": {
      "needs_background": "light"
     },
     "output_type": "display_data"
    },
    {
     "data": {
      "image/png": "[encoded data removed]",
      "text/plain": [
       "<Figure size 432x288 with 1 Axes>"
      ]
     },
     "metadata": {
      "needs_background": "light"
     },
     "output_type": "display_data"
    }
   ],
   "source": [
    "plot_before_vs_after_compression(n, X_train_Transf_decompressed, Xback_transformed, y)"
   ]
  },
  {
   "cell_type": "code",
   "execution_count": 32,
   "metadata": {},
   "outputs": [
    {
     "data": {
      "text/plain": [
       "array([ 1.00000000e+00, -4.74135059e-02, -2.77561884e-02,  1.26972590e-03,\n",
       "        5.97094920e-04, -3.88064332e-03, -2.77419152e-03, -1.45545078e-02,\n",
       "       -2.08245315e-02, -7.38433394e-03,  4.67317253e-03,  2.64920289e-02,\n",
       "        5.58060007e-02,  5.69953140e-02,  5.78168516e-02,  5.52528348e-02,\n",
       "        4.19492352e-02,  2.07548271e-02,  6.45656050e-03,  4.10846948e-03,\n",
       "        7.38786397e-03,  4.18273916e-02, -1.38591500e+00, -1.05479734e-02,\n",
       "       -3.45363565e-02, -3.65104397e-02, -3.70102707e-02, -4.22425861e-02,\n",
       "       -1.99018818e-03,  6.43531898e-03, -1.77209359e-02,  7.19852336e-03,\n",
       "        8.01253614e-03, -1.03293236e-02, -3.02421411e-02, -2.16003179e-02,\n",
       "       -1.62221727e-02, -1.41404442e-02, -1.20602250e-01,  5.63272698e-02,\n",
       "        2.05340414e-02,  2.05230518e-03,  4.20010874e-03, -1.37120843e-03,\n",
       "       -2.01000113e-03,  1.33654693e-02,  7.26340726e-02, -4.33192748e-03,\n",
       "        3.00966625e-03,  1.43304931e-02, -5.86917101e-02, -3.36083183e-02,\n",
       "       -5.68409636e-02, -4.29538144e-02, -5.63966356e-02, -3.25091886e-02,\n",
       "        1.29139296e-03,  6.92894789e-03,  3.25729304e-03,  1.34681196e-02,\n",
       "        6.08370760e-03, -9.04701447e-02, -6.50560470e-02, -1.29710331e-02,\n",
       "        1.88549550e-03,  3.84070812e-03,  1.47863849e-02,  4.12385395e-02,\n",
       "        3.41452588e-02,  2.74367367e-02,  2.95251535e-02,  1.61823257e-02,\n",
       "        9.88002984e-03, -8.40843429e-04, -1.30838803e-02,  2.06924315e+00,\n",
       "        6.50649258e-02, -1.43068025e-02, -2.05132470e-02, -6.32847212e-02,\n",
       "       -1.05989018e-01, -1.29950889e-01, -1.56122632e-01,  1.73164278e-02,\n",
       "        3.61424392e-03,  6.98362782e-03,  1.63008458e-02,  1.29238661e-02,\n",
       "       -9.89900524e-03, -3.74149963e+00, -1.21036887e-02,  4.36439415e-02,\n",
       "        1.64841438e-02, -1.30118530e-02,  2.48625102e-02,  9.37312287e-01,\n",
       "       -4.08028244e-02,  8.87256139e-01,  2.79898639e-01, -5.67911402e-02,\n",
       "       -1.04919892e-01, -2.41279452e-02, -1.14941398e-02, -7.61527388e-02,\n",
       "        6.29812242e-01, -1.73770445e-01, -3.55310446e-02, -7.77796550e-02,\n",
       "       -8.04381879e-01,  1.58020190e-01,  2.45265399e+00,  3.37670594e-02,\n",
       "        7.17941978e-03,  1.36353125e-02,  1.07371261e-02,  6.01384831e-03,\n",
       "       -3.31329497e-02,  1.53837671e+00,  6.31214489e-02,  2.71466256e-02,\n",
       "       -9.38004302e-03,  8.39683921e-02, -2.25599850e-01, -5.43971677e-03,\n",
       "        2.36648222e-03, -2.43057904e-03,  2.39701404e-03,  2.18390759e-02,\n",
       "        6.64481215e-02, -1.24435126e-01, -9.99334781e-03, -2.20181089e-02,\n",
       "       -1.60016360e+00,  9.21799435e+00, -9.73122588e-02, -7.96054087e-02,\n",
       "        9.18178382e-02,  7.88725468e-02,  5.54960014e-02,  4.83814494e-02,\n",
       "        1.46064149e-02,  1.16803555e-02,  8.48670009e-03,  4.57926578e-03,\n",
       "       -4.21586420e-02,  1.68665633e+00,  4.69469761e-02, -6.37634585e-02,\n",
       "       -2.77601713e-01,  7.01575910e-02, -4.69262875e-03,  1.87126564e-03,\n",
       "        5.67530148e-03,  2.21417736e-03,  1.96095269e-03,  1.97320473e-02,\n",
       "        1.76695406e-01, -4.47704467e-02,  3.44423677e-03,  4.36621679e-03,\n",
       "       -1.20748639e-02, -1.43605949e-02, -1.90212858e-02, -1.15415929e-02,\n",
       "        1.74315321e+00,  1.06981589e+00,  5.75806824e-02,  1.21465813e-01,\n",
       "        2.37011195e-02,  1.68372741e-02,  1.17459841e-02,  5.60105910e-04,\n",
       "       -2.43681133e-01,  2.42033395e-02,  9.29617816e-03,  5.57585627e-02,\n",
       "        8.94280589e-02,  4.34767514e-02,  1.80742351e-03,  4.68733466e-03,\n",
       "        6.98269744e-03,  2.57956141e-03,  1.99767484e-03, -1.13364385e-02,\n",
       "       -9.14388834e-03, -7.87090561e-03,  2.85656502e-03,  5.56218192e-03,\n",
       "        1.15685839e-03,  1.81752887e-03, -6.89702900e-04, -2.02687457e-04,\n",
       "       -5.61790712e-03, -2.08781376e-02, -5.45250673e-02,  3.33667022e-01,\n",
       "        2.24265497e-02,  2.44628049e-02,  2.23289090e-02,  3.67536822e-03,\n",
       "        9.21974247e-02,  1.26934118e-02,  1.33871163e-02,  3.60679212e-02,\n",
       "        8.27741346e-02,  3.39068944e-02,  3.58009257e-03,  5.90606841e-03,\n",
       "        5.13849819e-03, -4.04649693e-03, -1.50721382e-02, -1.40447011e-03,\n",
       "       -3.06384702e-03, -4.80274587e-03,  1.90891542e-03,  5.66973516e-03,\n",
       "        3.10640319e-03,  3.31820231e-03,  1.22182944e-03,  6.85201795e-04,\n",
       "        6.13514112e-04, -5.27402433e-03, -1.39529716e-02,  1.93125126e-01,\n",
       "        1.79327249e-02,  2.15647391e-02,  1.86173605e-02, -1.23050431e-02,\n",
       "        6.69042244e-02,  3.19006798e-03,  1.53224812e-02,  2.85395704e-02,\n",
       "        5.44986784e-02,  3.09104872e-02,  9.49388996e-03,  4.41343234e-03,\n",
       "        1.93634702e-03, -1.99171049e-02,  2.47140259e-02,  8.85536264e-04,\n",
       "       -1.38443148e-03, -3.08889398e-03,  1.27589653e-03,  4.63342401e-03,\n",
       "        2.51019995e-03,  2.52214402e-03,  1.49848020e-03,  3.41297313e-04,\n",
       "        8.86154803e-04, -1.01522121e-03, -7.69230883e-03,  7.83679515e-02,\n",
       "        1.30132184e-02,  1.79303619e-02,  2.38800846e-02,  2.81706910e-02,\n",
       "        3.69917260e-02,  5.85339964e-04,  1.51884040e-02,  2.26637811e-02,\n",
       "        5.48895385e-02,  3.21022561e-02,  1.08447233e-02,  5.17528831e-03,\n",
       "        4.91401986e-03,  1.06843869e-01,  7.05742511e-03,  1.77309633e-03,\n",
       "       -2.21302742e-05, -2.19531756e-03,  8.08623751e-04,  3.07649321e-03,\n",
       "        8.40608437e-04,  1.00969241e-03,  7.36423123e-04, -4.99920822e-04,\n",
       "        7.04716497e-04,  2.97538099e-04, -2.13165736e-03, -1.19978600e-01,\n",
       "        2.14873337e-02,  1.96928727e-02,  3.25610253e-02,  1.63507208e-02,\n",
       "        2.48498374e-02, -3.37157035e-03,  1.15595401e-02,  1.15889052e-02,\n",
       "        4.13916600e-02,  7.55586529e-03,  1.24480494e-02,  1.38060028e-02,\n",
       "       -2.59959423e-02,  4.80349451e-03,  2.56863898e-03,  5.82491595e-04,\n",
       "       -5.63744714e-04, -2.06653137e-03,  2.31798136e-04,  9.35728586e-04,\n",
       "       -1.71199567e-03, -1.08927328e-03, -8.27995295e-04, -1.70675829e-03,\n",
       "       -6.54780770e-06,  1.43689167e-03,  3.92360681e-04, -1.71104175e-02,\n",
       "        1.98168825e-02,  2.05168282e-02,  2.29227027e-02, -6.53537501e-04,\n",
       "       -4.48934378e-02, -1.29999755e-02,  8.24583407e-03, -5.13687906e-03,\n",
       "        1.41607684e-02, -1.37275948e-02, -9.09468409e-02, -6.24108671e-03,\n",
       "       -8.69079086e-04,  4.04477769e-03,  1.09723425e-03, -7.79807656e-05,\n",
       "       -7.00905146e-04, -2.09524367e-03, -1.01458890e-04,  3.05551714e-04,\n",
       "       -2.83479159e-03, -2.13036198e-03, -1.46635283e-03, -1.50378369e-03,\n",
       "       -4.45364574e-05,  1.83350358e-03,  2.15214294e-03, -2.45466208e-03,\n",
       "        1.43840655e-02,  1.95108914e-02,  2.10222538e-02,  4.07562606e-03,\n",
       "        2.51742898e-03,  2.83550795e+00, -3.69404158e-03, -1.18614484e-01,\n",
       "        1.86512435e-03, -5.52129275e-03, -1.90862781e-03, -8.05438752e-04,\n",
       "        5.62422304e-04,  3.24529029e-03, -4.53402780e-04, -5.79218496e-04,\n",
       "       -1.29375405e-03, -1.94318146e-03, -1.55974759e-04,  1.98205221e-05,\n",
       "       -2.66620765e-03, -1.85152465e-03, -6.69181963e-04, -1.03748141e-03,\n",
       "       -1.59163831e-04,  1.60005033e-03,  3.07501425e-03,  7.10682475e-05,\n",
       "        1.45621139e-02,  2.77597095e-02,  4.45879576e-02,  1.20530641e-02,\n",
       "        1.23221780e-02, -2.24677073e-02, -5.99573795e-03, -9.49005056e-03,\n",
       "        1.07273197e-03, -4.24295466e-03,  1.87915551e-04,  4.01344116e-05,\n",
       "        8.37510206e-04,  2.05845595e-03, -1.12624242e-03, -1.30572190e-03,\n",
       "       -1.57323316e-03, -2.08238481e-03, -5.89708249e-04, -1.47270959e-04,\n",
       "       -2.33330727e-03, -1.70934828e-03, -1.95542492e-04, -5.79176546e-04,\n",
       "       -8.20970239e-05,  1.40027405e-03,  3.72591454e-03,  1.96803032e-03,\n",
       "       -2.76572502e-02, -2.23888010e-02, -1.06261358e-02, -5.22641236e-03,\n",
       "       -7.41957322e-03, -3.59041297e-03, -1.03033601e-03, -3.02783285e-03,\n",
       "        1.50920108e-03, -4.24952983e-03,  4.91491689e-04,  8.09129826e-04,\n",
       "        1.27860169e-03,  2.02180048e-03, -7.37495541e-04, -1.01812881e-03,\n",
       "       -1.37055677e-03, -1.66182555e-03, -3.88868504e-04, -5.93468341e-04,\n",
       "       -2.25486532e-03, -1.75973638e-03, -1.31901188e-04,  6.82367394e-05,\n",
       "        1.65915472e-04,  1.18972624e-03,  3.65726204e-03,  3.63896531e-03,\n",
       "       -1.89610964e-03, -2.05950010e-03, -1.49167880e-03,  4.92324593e-04,\n",
       "       -1.66967247e-03, -6.51863944e-04, -7.72192082e-04, -2.85437389e-03,\n",
       "        8.38380035e-04, -3.72591367e-03,  1.19551013e-03,  1.11360084e-03,\n",
       "        1.21089203e-03,  1.88469167e-03, -6.41229765e-04, -6.72180772e-04,\n",
       "       -1.45398610e-03, -1.26285165e-03, -1.36096624e-05, -5.12694549e-04,\n",
       "       -1.61129667e-03, -7.89414282e-04,  7.12618873e-04,  8.67287446e-04,\n",
       "        4.63451807e-04,  1.53723099e-03,  3.70862040e-03,  3.73686883e-03,\n",
       "        3.05561801e-04, -1.45722564e-04, -3.00416057e-04,  1.15518668e-03,\n",
       "       -8.42933498e-04,  7.80575678e-06, -1.09224924e-03, -1.41103631e-03,\n",
       "        1.45331489e-03, -2.60968723e-03,  2.34472283e-03,  1.39094298e-03,\n",
       "        1.50101119e-03,  2.23068148e-03,  1.17879670e-04,  8.61740061e-05,\n",
       "       -1.92504703e-04, -3.11330715e-04,  8.79910984e-04,  5.94989322e-04,\n",
       "        3.77275175e-04,  1.15146354e-03,  2.31676695e-03,  2.46449806e-03,\n",
       "        1.59692363e-03,  2.35430347e-03,  4.29285263e-03,  4.44274230e-03,\n",
       "       -2.34703941e-03, -3.70401069e-03, -2.64460325e-03, -1.85530884e-04,\n",
       "       -1.97947535e-03, -5.15826682e-04, -1.37951459e-03, -4.31612709e-04,\n",
       "        2.36697398e-03, -2.12353938e-03,  2.87205969e-03,  1.00978341e-03,\n",
       "        1.19065096e-03,  2.42023524e-03, -2.00402053e-04, -8.88800985e-05,\n",
       "       -5.94465634e-05, -5.94747731e-04,  1.54712048e-03,  9.89410631e-04,\n",
       "        1.61520477e-03,  1.78813274e-03,  3.14924664e-03,  3.63211144e-03,\n",
       "        1.07389423e-03,  2.26868290e-03,  4.48740381e-03,  3.77888971e-03,\n",
       "       -1.77421653e-02, -1.39719108e-02, -7.89243358e-03, -4.31948122e-03,\n",
       "       -8.41426824e-03, -2.97461255e-03, -5.50286578e-03, -1.38349352e-03,\n",
       "        1.85149700e-03, -7.17184236e-03,  1.01614013e-03, -1.84227625e-03,\n",
       "       -1.04508163e-03,  3.94130464e-04, -3.84117866e-03, -3.63232030e-03,\n",
       "       -2.94462748e-03, -3.32815663e-03,  1.95207974e-03, -1.87749254e-04,\n",
       "        1.31629074e-04,  7.58495411e-04,  2.61124756e-03,  3.54863112e-03,\n",
       "       -2.09017090e-03,  4.04325950e-04,  3.94866657e-03,  2.13055345e-03,\n",
       "       -1.03218866e-02, -1.76811066e-02, -1.26780864e-02, -7.28486705e-03,\n",
       "       -4.81991306e-02, -2.77346177e-03, -6.06598201e-02,  5.82282753e-03,\n",
       "        1.19438870e-02, -2.10004068e-02,  4.79245558e-03, -3.41744812e-03,\n",
       "       -8.79329335e-04,  3.28493825e-03, -4.09636449e-03, -2.47355689e-03,\n",
       "        5.84454242e-04,  1.09383137e-03,  8.28342974e-03,  1.72847445e-03,\n",
       "        4.39405278e-03,  1.25397547e-02,  9.29180053e-03,  9.95490442e-03,\n",
       "        9.62622723e-04,  3.31406453e-03,  6.97936499e-03,  5.01977896e-03,\n",
       "       -1.30852799e-02, -1.32613744e-02, -1.46721589e-02, -1.43833152e-02,\n",
       "       -2.05052588e-02, -6.81033277e-03, -2.24252069e-02, -2.33342620e-03,\n",
       "        2.82789502e-03, -1.61191257e-02,  7.99069621e-03, -3.39035562e-03,\n",
       "       -2.99162005e-03,  2.40506015e-03, -6.87104301e-03, -4.70316094e-03,\n",
       "       -2.59687292e-03, -2.63709367e-05,  1.16324408e-02, -5.34849784e-03,\n",
       "       -1.81091685e-03,  9.36813120e-03,  9.73755428e-03,  9.25838248e-03,\n",
       "       -2.43584537e-03,  2.75732889e-04,  3.00010894e-03, -1.19929176e-03,\n",
       "        4.37520356e-02, -2.33504719e-01, -2.78367014e-02, -2.97163379e-02,\n",
       "       -2.09016087e-02, -6.14811476e-03, -2.31317720e-02, -1.98366149e-03,\n",
       "       -3.40566782e-03, -1.87902261e-02, -1.52757424e-03, -6.10279862e-03,\n",
       "       -5.17025286e-03, -6.03808865e-04, -2.46212468e-02, -1.62869935e-02,\n",
       "       -7.49736481e-03, -2.54659105e-03, -3.92279530e-01, -3.56718051e-02,\n",
       "       -9.78778079e-03,  2.43884954e-03,  8.28755852e-03,  7.93506824e-03,\n",
       "       -7.19726370e-03, -8.48748450e-04,  7.30355464e-04, -3.32224093e-03,\n",
       "        1.29420732e-02,  1.55403733e-02,  8.89504721e-03, -2.13013779e-03,\n",
       "        9.45831411e-04, -1.48531820e-02,  1.58879038e-02, -1.40621607e-01,\n",
       "        4.16228974e-02,  1.40797634e-02, -7.93242840e+00,  5.74156707e-02,\n",
       "        4.37667461e-02, -3.15379016e-02,  3.66175540e-03,  1.71545152e-02,\n",
       "       -7.19227129e-03, -8.81325465e-03, -1.28205329e-02,  1.31888435e-02,\n",
       "       -2.06947248e-02, -4.95713205e-02, -4.00774088e-02, -1.49254622e-01,\n",
       "       -1.10984913e-02,  2.79704357e-02,  1.12530954e-02,  2.56904528e-02,\n",
       "        6.00628477e-02,  3.26486823e-02,  2.23284555e-02,  2.40200805e-03,\n",
       "        2.66767969e-03, -2.82337547e-03,  8.29414314e-03, -1.08984104e-02,\n",
       "       -1.19676774e-02, -5.33597093e-03, -2.22239116e-02, -2.26402880e-02,\n",
       "       -1.88056481e-02, -7.78752628e-03,  2.62042281e-03,  5.71980830e-03,\n",
       "       -1.16461133e-02, -1.14812118e-02, -1.60317789e-02,  3.10433475e-03,\n",
       "        1.64961407e-02, -9.17761068e-03, -1.03788662e-02, -1.47776083e-02,\n",
       "       -1.60836461e-03,  3.66950306e-06, -8.46061126e-03, -3.08239228e-03,\n",
       "       -2.11297352e-02, -1.15366955e-01,  1.41610095e-01,  9.67831268e-03,\n",
       "        1.67593834e-02,  1.50366637e-02,  4.60313502e-02,  3.04465869e-02,\n",
       "       -2.49386218e-02, -1.66608032e-02, -1.66182366e-01,  2.58552699e-02,\n",
       "        8.83930598e-03,  1.58349801e-02,  5.83646521e-01,  3.90654500e-03,\n",
       "        1.59583586e-02,  5.09575885e-02,  1.41189847e-01, -5.72454729e-03,\n",
       "       -2.74384275e-02, -6.59135062e-03, -1.07449898e-02, -1.57490049e-02,\n",
       "        1.44472104e-04,  1.20818792e-02, -1.87102168e-03,  1.94259568e-02,\n",
       "        1.16974502e+00, -2.33063641e-03, -1.93791847e-02, -2.48737058e-02,\n",
       "        1.26614990e-02, -3.08168397e-03, -3.17968597e-02, -1.17704819e-02,\n",
       "       -1.69943366e-02, -1.12656032e-02,  3.70017739e-03,  7.82608455e-04,\n",
       "       -1.72030464e-03,  9.93057365e-04,  1.23367871e-03,  2.84415884e-04,\n",
       "        7.55955828e-03,  1.63317073e-02,  2.44236958e-02, -8.49639999e-03,\n",
       "       -1.75726186e-02,  4.14589675e-03, -1.13162834e-01, -8.22519086e-02,\n",
       "       -6.66550746e-03, -3.99967078e-01, -5.29751541e-04, -1.15113349e-03,\n",
       "       -7.74009501e-02,  5.69630983e-01, -1.26132687e-01, -5.27159188e-02,\n",
       "       -3.72061421e-01,  1.22149013e-01,  1.29721862e-02,  3.01647983e-02,\n",
       "       -2.29693411e+00,  1.18958900e-01, -4.19118567e-03, -3.78843541e-03,\n",
       "       -2.19933009e-02,  5.61462699e-03,  7.40867355e-03,  2.47788700e-02,\n",
       "       -1.07342302e-03, -3.05867243e-02, -1.48216400e-02,  2.88771785e-02,\n",
       "       -1.42468087e-01,  3.14745504e-02,  1.23254012e-01, -5.63051025e-01,\n",
       "       -4.38331940e-02, -3.50628977e-01,  1.27845210e-01, -1.54253794e-01,\n",
       "        1.03384865e-01, -2.38737949e-02, -1.69422258e-01, -5.29198466e-02,\n",
       "       -1.42295250e-01,  2.02801655e-01,  3.81482149e-02,  1.19680112e-01,\n",
       "       -1.67597692e-02, -5.63949656e-04, -1.15001921e-03, -4.49235096e-03,\n",
       "       -9.26391046e-04,  1.29823336e-03,  2.10009428e-03,  5.85198848e-03,\n",
       "        1.15856660e-03, -6.40468241e-03, -4.35732628e-03, -8.18206096e-04,\n",
       "       -1.79385068e-02,  5.60534544e-02,  1.39377911e-01, -2.36152005e-01,\n",
       "       -5.11027927e-02, -8.87532184e-02, -4.19923527e-01, -2.53184253e-03])"
      ]
     },
     "execution_count": 32,
     "metadata": {},
     "output_type": "execute_result"
    }
   ],
   "source": [
    "(X_train_Transf_decompressed[n] -  Xback_transformed[n])/X_train_Transf_decompressed[n] "
   ]
  },
  {
   "cell_type": "markdown",
   "metadata": {},
   "source": [
    "## Third part: optimizing the number of components\n",
    "\n",
    "For this part, we consider the PCA not as an end in itself, but as a pre-processing tool.\n",
    "\n",
    "The idea is that if we have an over-parameterized model because the input dimension is too large, what we can do is compress it, and use the compressed \"image\" (which does not look like an image, since it has `nComp` dimensions..) as input. \n",
    "\n",
    "When `nComp` is too small, we will loose so much information about the input that the results will be worse. If `nComp` is too large, we do not compress much and so the model remains over-parameterized.\n",
    "\n",
    "**The goal of this part is to optimize the hyper-parameter `nComp` so as to get the best possible results.**\n",
    "\n",
    "For this, we are going to use an algorithm that we haven't yet seen in class: SVMs (*Support Vector Machines*), with a Polynomial *Kernel*, say of degree 3. We will see what this means in lecture 3.\n",
    "For now you can think of this as a black-box classification algorithms that simply \"does pretty good\".\n",
    "\n",
    "You are provided with these lines of code:\n",
    "\n",
    "`clf = sklearn.svm.SVC(C=0.01, kernel='poly', degree = 3, coef0 = 1)\n",
    "clf.fit(X_train_Transformed, y_train)`\n",
    "\n",
    "which define a SVM classfier with polynomial Kernel of degree 3 (and C is intentionally set a bit too low here).\n",
    "\n",
    "Here it is also advised to use the third data set (otherwise it's not very interesting), with not too much training data.\n"
   ]
  },
  {
   "cell_type": "code",
   "execution_count": 7,
   "metadata": {},
   "outputs": [
    {
     "name": "stdout",
     "output_type": "stream",
     "text": [
      "(60000, 784) (3000, 784)\n"
     ]
    }
   ],
   "source": [
    "## data set 3 ##\n",
    "LoadObject = np.load(\"fashion-mnist-reshaped.npz\")\n",
    "linearPictureLength = 28\n",
    "X = LoadObject['train_images']\n",
    "y = LoadObject['train_labels']\n",
    "Xtest = LoadObject['test_images']\n",
    "ytest = LoadObject['test_labels']\n",
    "X     = np.array(X    , dtype=float) ## change the type, which is iniitially unsigned-int (uint)\n",
    "Xtest = np.array(Xtest, dtype=float)\n",
    "del LoadObject\n",
    "ratio_train = 0.05\n",
    "ratio_valid = 0.1\n",
    "print(X.shape, X_train.shape)"
   ]
  },
  {
   "cell_type": "code",
   "execution_count": 8,
   "metadata": {},
   "outputs": [],
   "source": [
    "X_train, y_train, X_valid, y_valid, X_test, y_test = load_subSets(X, ratio_train, ratio_valid)"
   ]
  },
  {
   "cell_type": "markdown",
   "metadata": {},
   "source": [
    "### Hint: \n",
    "\n",
    "You should use the function `clf.score` to compute the training score and validation score.\n"
   ]
  },
  {
   "cell_type": "code",
   "execution_count": 9,
   "metadata": {},
   "outputs": [
    {
     "name": "stdout",
     "output_type": "stream",
     "text": [
      "no compression:    training score: 0.7493333333333333 . valid score: 0.7236666666666667\n"
     ]
    }
   ],
   "source": [
    "clf = sklearn.svm.SVC(C=0.01, kernel='poly', degree = 3, coef0 = 1)\n",
    "clf.fit(X_train, y_train)\n",
    "trainscore = clf.score(X_train,y_train)\n",
    "validscore = clf.score(X_valid,y_valid)\n",
    "## TODO: compute scores here\n",
    "print(\"no compression:    training score:\",trainscore, \". valid score:\", validscore)"
   ]
  },
  {
   "cell_type": "code",
   "execution_count": 16,
   "metadata": {},
   "outputs": [
    {
     "name": "stdout",
     "output_type": "stream",
     "text": [
      "nombre Composants 1    training score: 0.3233333333333333 . valid score: 0.30733333333333335\n",
      "nombre Composants 11    training score: 0.8616666666666667 . valid score: 0.8058333333333333\n",
      "nombre Composants 21    training score: 0.9056666666666666 . valid score: 0.8296666666666667\n",
      "nombre Composants 31    training score: 0.931 . valid score: 0.836\n",
      "nombre Composants 41    training score: 0.9456666666666667 . valid score: 0.8386666666666667\n",
      "nombre Composants 51    training score: 0.9563333333333334 . valid score: 0.8401666666666666\n",
      "nombre Composants 61    training score: 0.9616666666666667 . valid score: 0.839\n",
      "nombre Composants 71    training score: 0.9656666666666667 . valid score: 0.842\n",
      "nombre Composants 81    training score: 0.9713333333333334 . valid score: 0.839\n",
      "nombre Composants 91    training score: 0.976 . valid score: 0.8411666666666666\n",
      "nombre Composants 101    training score: 0.977 . valid score: 0.8443333333333334\n"
     ]
    }
   ],
   "source": [
    "linear_training_score = []\n",
    "linear_valid_score = []\n",
    "\n",
    "# nComp_range = [1,2,3,6,10,20,30,40,50,64]\n",
    "nComp_range = np.arange(1,102,10)\n",
    "for nC in nComp_range:\n",
    "    \n",
    "    ## pre-processing \n",
    "    preProc = sklearn.decomposition.PCA(n_components=nC, copy=True)\n",
    "    preProc.fit(X_train)\n",
    "    X_train_Transformed = preProc.transform(X_train)\n",
    "    X_valid_Transformed = preProc.transform(X_valid) ## applt the SAME transform to the validation data\n",
    "\n",
    "    ## classification\n",
    "    clf = sklearn.svm.SVC(C=10, kernel='poly', degree = 2, coef0 = 1)\n",
    "    clf.fit(X_train_Transformed, y_train)\n",
    "    \n",
    "    ## measure of performance\n",
    "    trainscore = clf.score(X_train_Transformed,y_train)\n",
    "    validscore = clf.score(X_valid_Transformed,y_valid)\n",
    "    print(\"nombre Composants\", nC , \"   training score:\",trainscore, \". valid score:\", validscore)\n",
    "    \n",
    "    ## recordings\n",
    "    linear_training_score.append(trainscore)\n",
    "    linear_valid_score.append(validscore)"
   ]
  },
  {
   "cell_type": "code",
   "execution_count": 17,
   "metadata": {
    "scrolled": true
   },
   "outputs": [
    {
     "data": {
      "text/plain": [
       "[<matplotlib.lines.Line2D at 0x7f72a1ca1710>]"
      ]
     },
     "execution_count": 17,
     "metadata": {},
     "output_type": "execute_result"
    },
    {
     "data": {
      "image/png": "[encoded data removed]",
      "text/plain": [
       "<Figure size 432x288 with 1 Axes>"
      ]
     },
     "metadata": {
      "needs_background": "light"
     },
     "output_type": "display_data"
    }
   ],
   "source": [
    "## plot of scores vs the hyper-param nc (nothing to do here)\n",
    "plt.figure()\n",
    "plt.plot(nComp_range[:30], linear_training_score[:30], label= \"train score\")\n",
    "plt.plot(nComp_range[:30], linear_valid_score[:30], label= \"valid score\")\n",
    "plt.xlabel(\"nombre comp\")\n",
    "plt.ylabel(\"scores\")\n",
    "plt.legend()\n",
    "plt.ylim([0.5,1])\n",
    "\n",
    "## outlining where the best point is (validation set)\n",
    "## here we make a crude choice, which can be refine dby hand, of course\n",
    "bestIndex = np.argmax(linear_valid_score)\n",
    "bestNC = nComp_range[bestIndex]\n",
    "plt.plot(bestNC, linear_valid_score[bestIndex], marker='X', color='green')"
   ]
  },
  {
   "cell_type": "markdown",
   "metadata": {},
   "source": [
    "## I do it again, for an other (better) example"
   ]
  },
  {
   "cell_type": "code",
   "execution_count": 14,
   "metadata": {},
   "outputs": [
    {
     "data": {
      "text/plain": [
       "(3000, 784)"
      ]
     },
     "execution_count": 14,
     "metadata": {},
     "output_type": "execute_result"
    }
   ],
   "source": [
    "X_train.shape"
   ]
  },
  {
   "cell_type": "code",
   "execution_count": 15,
   "metadata": {},
   "outputs": [
    {
     "name": "stdout",
     "output_type": "stream",
     "text": [
      "nombre Composants 2    training score: 0.5553333333333333 . valid score: 0.5525\n",
      "nombre Composants 52    training score: 0.9716666666666667 . valid score: 0.8478333333333333\n",
      "nombre Composants 102    training score: 0.9856666666666667 . valid score: 0.8521666666666666\n",
      "nombre Composants 152    training score: 0.9903333333333333 . valid score: 0.852\n",
      "nombre Composants 202    training score: 0.9933333333333333 . valid score: 0.854\n",
      "nombre Composants 252    training score: 0.994 . valid score: 0.8546666666666667\n",
      "nombre Composants 302    training score: 0.995 . valid score: 0.853\n",
      "nombre Composants 352    training score: 0.9953333333333333 . valid score: 0.8535\n",
      "nombre Composants 402    training score: 0.9956666666666667 . valid score: 0.853\n",
      "nombre Composants 452    training score: 0.996 . valid score: 0.8528333333333333\n",
      "nombre Composants 502    training score: 0.9966666666666667 . valid score: 0.8533333333333334\n"
     ]
    },
    {
     "ename": "KeyboardInterrupt",
     "evalue": "",
     "output_type": "error",
     "traceback": [
      "\u001b[0;31m---------------------------------------------------------------------------\u001b[0m",
      "\u001b[0;31mKeyboardInterrupt\u001b[0m                         Traceback (most recent call last)",
      "\u001b[0;32m<ipython-input-15-8add133c102c>\u001b[0m in \u001b[0;36m<module>\u001b[0;34m\u001b[0m\n\u001b[1;32m     18\u001b[0m     \u001b[0;31m## measure of performance\u001b[0m\u001b[0;34m\u001b[0m\u001b[0;34m\u001b[0m\u001b[0;34m\u001b[0m\u001b[0m\n\u001b[1;32m     19\u001b[0m     \u001b[0mtrainscore\u001b[0m \u001b[0;34m=\u001b[0m \u001b[0mclf\u001b[0m\u001b[0;34m.\u001b[0m\u001b[0mscore\u001b[0m\u001b[0;34m(\u001b[0m\u001b[0mX_train_Transformed\u001b[0m\u001b[0;34m,\u001b[0m\u001b[0my_train\u001b[0m\u001b[0;34m)\u001b[0m\u001b[0;34m\u001b[0m\u001b[0;34m\u001b[0m\u001b[0m\n\u001b[0;32m---> 20\u001b[0;31m     \u001b[0mvalidscore\u001b[0m \u001b[0;34m=\u001b[0m \u001b[0mclf\u001b[0m\u001b[0;34m.\u001b[0m\u001b[0mscore\u001b[0m\u001b[0;34m(\u001b[0m\u001b[0mX_valid_Transformed\u001b[0m\u001b[0;34m,\u001b[0m\u001b[0my_valid\u001b[0m\u001b[0;34m)\u001b[0m\u001b[0;34m\u001b[0m\u001b[0;34m\u001b[0m\u001b[0m\n\u001b[0m\u001b[1;32m     21\u001b[0m     \u001b[0mprint\u001b[0m\u001b[0;34m(\u001b[0m\u001b[0;34m\"nombre Composants\"\u001b[0m\u001b[0;34m,\u001b[0m \u001b[0mnC\u001b[0m \u001b[0;34m,\u001b[0m \u001b[0;34m\"   training score:\"\u001b[0m\u001b[0;34m,\u001b[0m\u001b[0mtrainscore\u001b[0m\u001b[0;34m,\u001b[0m \u001b[0;34m\". valid score:\"\u001b[0m\u001b[0;34m,\u001b[0m \u001b[0mvalidscore\u001b[0m\u001b[0;34m)\u001b[0m\u001b[0;34m\u001b[0m\u001b[0;34m\u001b[0m\u001b[0m\n\u001b[1;32m     22\u001b[0m \u001b[0;34m\u001b[0m\u001b[0m\n",
      "\u001b[0;32m~/anaconda3/lib/python3.7/site-packages/sklearn/base.py\u001b[0m in \u001b[0;36mscore\u001b[0;34m(self, X, y, sample_weight)\u001b[0m\n\u001b[1;32m    498\u001b[0m         \"\"\"\n\u001b[1;32m    499\u001b[0m         \u001b[0;32mfrom\u001b[0m \u001b[0;34m.\u001b[0m\u001b[0mmetrics\u001b[0m \u001b[0;32mimport\u001b[0m \u001b[0maccuracy_score\u001b[0m\u001b[0;34m\u001b[0m\u001b[0;34m\u001b[0m\u001b[0m\n\u001b[0;32m--> 500\u001b[0;31m         \u001b[0;32mreturn\u001b[0m \u001b[0maccuracy_score\u001b[0m\u001b[0;34m(\u001b[0m\u001b[0my\u001b[0m\u001b[0;34m,\u001b[0m \u001b[0mself\u001b[0m\u001b[0;34m.\u001b[0m\u001b[0mpredict\u001b[0m\u001b[0;34m(\u001b[0m\u001b[0mX\u001b[0m\u001b[0;34m)\u001b[0m\u001b[0;34m,\u001b[0m \u001b[0msample_weight\u001b[0m\u001b[0;34m=\u001b[0m\u001b[0msample_weight\u001b[0m\u001b[0;34m)\u001b[0m\u001b[0;34m\u001b[0m\u001b[0;34m\u001b[0m\u001b[0m\n\u001b[0m\u001b[1;32m    501\u001b[0m \u001b[0;34m\u001b[0m\u001b[0m\n\u001b[1;32m    502\u001b[0m     \u001b[0;32mdef\u001b[0m \u001b[0m_more_tags\u001b[0m\u001b[0;34m(\u001b[0m\u001b[0mself\u001b[0m\u001b[0;34m)\u001b[0m\u001b[0;34m:\u001b[0m\u001b[0;34m\u001b[0m\u001b[0;34m\u001b[0m\u001b[0m\n",
      "\u001b[0;32m~/anaconda3/lib/python3.7/site-packages/sklearn/svm/_base.py\u001b[0m in \u001b[0;36mpredict\u001b[0;34m(self, X)\u001b[0m\n\u001b[1;32m    622\u001b[0m             \u001b[0my\u001b[0m \u001b[0;34m=\u001b[0m \u001b[0mnp\u001b[0m\u001b[0;34m.\u001b[0m\u001b[0margmax\u001b[0m\u001b[0;34m(\u001b[0m\u001b[0mself\u001b[0m\u001b[0;34m.\u001b[0m\u001b[0mdecision_function\u001b[0m\u001b[0;34m(\u001b[0m\u001b[0mX\u001b[0m\u001b[0;34m)\u001b[0m\u001b[0;34m,\u001b[0m \u001b[0maxis\u001b[0m\u001b[0;34m=\u001b[0m\u001b[0;36m1\u001b[0m\u001b[0;34m)\u001b[0m\u001b[0;34m\u001b[0m\u001b[0;34m\u001b[0m\u001b[0m\n\u001b[1;32m    623\u001b[0m         \u001b[0;32melse\u001b[0m\u001b[0;34m:\u001b[0m\u001b[0;34m\u001b[0m\u001b[0;34m\u001b[0m\u001b[0m\n\u001b[0;32m--> 624\u001b[0;31m             \u001b[0my\u001b[0m \u001b[0;34m=\u001b[0m \u001b[0msuper\u001b[0m\u001b[0;34m(\u001b[0m\u001b[0;34m)\u001b[0m\u001b[0;34m.\u001b[0m\u001b[0mpredict\u001b[0m\u001b[0;34m(\u001b[0m\u001b[0mX\u001b[0m\u001b[0;34m)\u001b[0m\u001b[0;34m\u001b[0m\u001b[0;34m\u001b[0m\u001b[0m\n\u001b[0m\u001b[1;32m    625\u001b[0m         \u001b[0;32mreturn\u001b[0m \u001b[0mself\u001b[0m\u001b[0;34m.\u001b[0m\u001b[0mclasses_\u001b[0m\u001b[0;34m.\u001b[0m\u001b[0mtake\u001b[0m\u001b[0;34m(\u001b[0m\u001b[0mnp\u001b[0m\u001b[0;34m.\u001b[0m\u001b[0masarray\u001b[0m\u001b[0;34m(\u001b[0m\u001b[0my\u001b[0m\u001b[0;34m,\u001b[0m \u001b[0mdtype\u001b[0m\u001b[0;34m=\u001b[0m\u001b[0mnp\u001b[0m\u001b[0;34m.\u001b[0m\u001b[0mintp\u001b[0m\u001b[0;34m)\u001b[0m\u001b[0;34m)\u001b[0m\u001b[0;34m\u001b[0m\u001b[0;34m\u001b[0m\u001b[0m\n\u001b[1;32m    626\u001b[0m \u001b[0;34m\u001b[0m\u001b[0m\n",
      "\u001b[0;32m~/anaconda3/lib/python3.7/site-packages/sklearn/svm/_base.py\u001b[0m in \u001b[0;36mpredict\u001b[0;34m(self, X)\u001b[0m\n\u001b[1;32m    342\u001b[0m         \u001b[0mX\u001b[0m \u001b[0;34m=\u001b[0m \u001b[0mself\u001b[0m\u001b[0;34m.\u001b[0m\u001b[0m_validate_for_predict\u001b[0m\u001b[0;34m(\u001b[0m\u001b[0mX\u001b[0m\u001b[0;34m)\u001b[0m\u001b[0;34m\u001b[0m\u001b[0;34m\u001b[0m\u001b[0m\n\u001b[1;32m    343\u001b[0m         \u001b[0mpredict\u001b[0m \u001b[0;34m=\u001b[0m \u001b[0mself\u001b[0m\u001b[0;34m.\u001b[0m\u001b[0m_sparse_predict\u001b[0m \u001b[0;32mif\u001b[0m \u001b[0mself\u001b[0m\u001b[0;34m.\u001b[0m\u001b[0m_sparse\u001b[0m \u001b[0;32melse\u001b[0m \u001b[0mself\u001b[0m\u001b[0;34m.\u001b[0m\u001b[0m_dense_predict\u001b[0m\u001b[0;34m\u001b[0m\u001b[0;34m\u001b[0m\u001b[0m\n\u001b[0;32m--> 344\u001b[0;31m         \u001b[0;32mreturn\u001b[0m \u001b[0mpredict\u001b[0m\u001b[0;34m(\u001b[0m\u001b[0mX\u001b[0m\u001b[0;34m)\u001b[0m\u001b[0;34m\u001b[0m\u001b[0;34m\u001b[0m\u001b[0m\n\u001b[0m\u001b[1;32m    345\u001b[0m \u001b[0;34m\u001b[0m\u001b[0m\n\u001b[1;32m    346\u001b[0m     \u001b[0;32mdef\u001b[0m \u001b[0m_dense_predict\u001b[0m\u001b[0;34m(\u001b[0m\u001b[0mself\u001b[0m\u001b[0;34m,\u001b[0m \u001b[0mX\u001b[0m\u001b[0;34m)\u001b[0m\u001b[0;34m:\u001b[0m\u001b[0;34m\u001b[0m\u001b[0;34m\u001b[0m\u001b[0m\n",
      "\u001b[0;32m~/anaconda3/lib/python3.7/site-packages/sklearn/svm/_base.py\u001b[0m in \u001b[0;36m_dense_predict\u001b[0;34m(self, X)\u001b[0m\n\u001b[1;32m    364\u001b[0m             \u001b[0mself\u001b[0m\u001b[0;34m.\u001b[0m\u001b[0m_probA\u001b[0m\u001b[0;34m,\u001b[0m \u001b[0mself\u001b[0m\u001b[0;34m.\u001b[0m\u001b[0m_probB\u001b[0m\u001b[0;34m,\u001b[0m \u001b[0msvm_type\u001b[0m\u001b[0;34m=\u001b[0m\u001b[0msvm_type\u001b[0m\u001b[0;34m,\u001b[0m \u001b[0mkernel\u001b[0m\u001b[0;34m=\u001b[0m\u001b[0mkernel\u001b[0m\u001b[0;34m,\u001b[0m\u001b[0;34m\u001b[0m\u001b[0;34m\u001b[0m\u001b[0m\n\u001b[1;32m    365\u001b[0m             \u001b[0mdegree\u001b[0m\u001b[0;34m=\u001b[0m\u001b[0mself\u001b[0m\u001b[0;34m.\u001b[0m\u001b[0mdegree\u001b[0m\u001b[0;34m,\u001b[0m \u001b[0mcoef0\u001b[0m\u001b[0;34m=\u001b[0m\u001b[0mself\u001b[0m\u001b[0;34m.\u001b[0m\u001b[0mcoef0\u001b[0m\u001b[0;34m,\u001b[0m \u001b[0mgamma\u001b[0m\u001b[0;34m=\u001b[0m\u001b[0mself\u001b[0m\u001b[0;34m.\u001b[0m\u001b[0m_gamma\u001b[0m\u001b[0;34m,\u001b[0m\u001b[0;34m\u001b[0m\u001b[0;34m\u001b[0m\u001b[0m\n\u001b[0;32m--> 366\u001b[0;31m             cache_size=self.cache_size)\n\u001b[0m\u001b[1;32m    367\u001b[0m \u001b[0;34m\u001b[0m\u001b[0m\n\u001b[1;32m    368\u001b[0m     \u001b[0;32mdef\u001b[0m \u001b[0m_sparse_predict\u001b[0m\u001b[0;34m(\u001b[0m\u001b[0mself\u001b[0m\u001b[0;34m,\u001b[0m \u001b[0mX\u001b[0m\u001b[0;34m)\u001b[0m\u001b[0;34m:\u001b[0m\u001b[0;34m\u001b[0m\u001b[0;34m\u001b[0m\u001b[0m\n",
      "\u001b[0;31mKeyboardInterrupt\u001b[0m: "
     ]
    }
   ],
   "source": [
    "linear_training_score = []\n",
    "linear_valid_score = []\n",
    "\n",
    "# nComp_range = [1,2,3,6,10,20,30,40,50,64]\n",
    "nComp_range = np.arange(2,784,50)\n",
    "for nC in nComp_range:\n",
    "    \n",
    "    ## pre-processing \n",
    "    preProc = sklearn.decomposition.PCA(n_components=nC, copy=True)\n",
    "    preProc.fit(X_train)\n",
    "    X_train_Transformed = preProc.transform(X_train)\n",
    "    X_valid_Transformed = preProc.transform(X_valid) ## applt the SAME transform to the validation data\n",
    "\n",
    "    ## classification\n",
    "    clf = sklearn.svm.SVC(C=10, kernel='rbf', degree = 3, coef0 = 1)\n",
    "    clf.fit(X_train_Transformed, y_train)\n",
    "    \n",
    "    ## measure of performance\n",
    "    trainscore = clf.score(X_train_Transformed,y_train)\n",
    "    validscore = clf.score(X_valid_Transformed,y_valid)\n",
    "    print(\"nombre Composants\", nC , \"   training score:\",trainscore, \". valid score:\", validscore)\n",
    "    \n",
    "    ## recordings\n",
    "    linear_training_score.append(trainscore)\n",
    "    linear_valid_score.append(validscore)"
   ]
  },
  {
   "cell_type": "code",
   "execution_count": null,
   "metadata": {
    "scrolled": true
   },
   "outputs": [],
   "source": [
    "## plot of scores vs the hyper-param nc (nothing to do here)\n",
    "plt.figure()\n",
    "plt.plot(nComp_range[:30], linear_training_score[:30], label= \"train score\")\n",
    "plt.plot(nComp_range[:30], linear_valid_score[:30], label= \"valid score\")\n",
    "plt.xlabel(\"nombre comp\")\n",
    "plt.ylabel(\"scores\")\n",
    "plt.legend()\n",
    "plt.ylim([0.5,1])\n",
    "\n",
    "## outlining where the best point is (validation set)\n",
    "## here we make a crude choice, which can be refine dby hand, of course\n",
    "bestIndex = np.argmax(linear_valid_score)\n",
    "bestNC = nComp_range[bestIndex]\n",
    "plt.plot(bestNC, linear_valid_score[bestIndex], marker='X', color='green')"
   ]
  },
  {
   "cell_type": "markdown",
   "metadata": {},
   "source": [
    "## 3.2 Compute the test error"
   ]
  },
  {
   "cell_type": "code",
   "execution_count": 39,
   "metadata": {},
   "outputs": [
    {
     "name": "stdout",
     "output_type": "stream",
     "text": [
      "nombre Composants 51    training score: 0.7603333333333333 . valid score: 0.7366666666666667\n",
      "test score:  0.7427843137254901\n"
     ]
    }
   ],
   "source": [
    "###############\n",
    "### test:  ####\n",
    "\n",
    "X_train, y_train, X_valid, y_valid, X_test, y_test = load_subSets(X, ratio_train, ratio_valid)\n",
    "\n",
    "nC = bestNC\n",
    "preProc = sklearn.decomposition.PCA(n_components=nC, copy=True)\n",
    "preProc.fit(X_train)\n",
    "X_train_Transformed = preProc.transform(X_train)\n",
    "X_valid_Transformed = preProc.transform(X_valid)\n",
    "X_test_Transformed  = preProc.transform(X_test)\n",
    "\n",
    "clf = sklearn.svm.SVC(C=0.01, kernel='poly', degree = 3, coef0 = 1)\n",
    "clf.fit(X_train_Transformed, y_train)\n",
    "trainscore = clf.score(X_train_Transformed,y_train)\n",
    "validscore = clf.score(X_valid_Transformed,y_valid)\n",
    "testscore  = clf.score(X_test_Transformed,y_test)\n",
    "\n",
    "print(\"nombre Composants\", nC , \"   training score:\",trainscore, \". valid score:\", validscore)\n",
    "print(\"test score: \", testscore)"
   ]
  },
  {
   "cell_type": "code",
   "execution_count": 40,
   "metadata": {},
   "outputs": [
    {
     "data": {
      "text/plain": [
       "[<matplotlib.lines.Line2D at 0x7f3f768b6190>]"
      ]
     },
     "execution_count": 40,
     "metadata": {},
     "output_type": "execute_result"
    },
    {
     "data": {
      "image/png": "[encoded data removed]",
      "text/plain": [
       "<Figure size 432x288 with 1 Axes>"
      ]
     },
     "metadata": {
      "needs_background": "light"
     },
     "output_type": "display_data"
    }
   ],
   "source": [
    "## plot of scores vs the hyper-param nc (nothing to do here)\n",
    "plt.figure()\n",
    "plt.plot(nComp_range[:30], linear_training_score[:30], label= \"train score\")\n",
    "plt.plot(nComp_range[:30], linear_valid_score[:30], label= \"valid score\")\n",
    "plt.xlabel(\"nombre comp\")\n",
    "plt.ylabel(\"scores\")\n",
    "plt.legend()\n",
    "plt.ylim([0.5,1])\n",
    "\n",
    "## outlining where the best point is (validation set)\n",
    "## here we make a crude choice, which can be refine dby hand, of course\n",
    "bestIndex = np.argmax(linear_valid_score)\n",
    "bestNC = nComp_range[bestIndex]\n",
    "plt.plot(bestNC, linear_valid_score[bestIndex], marker='X', color='green')\n",
    "plt.plot(bestNC, testscore, marker='o', color='red')"
   ]
  },
  {
   "cell_type": "code",
   "execution_count": null,
   "metadata": {},
   "outputs": [],
   "source": []
  }
 ],
 "metadata": {
  "kernelspec": {
   "display_name": "Python 3",
   "language": "python",
   "name": "python3"
  },
  "language_info": {
   "codemirror_mode": {
    "name": "ipython",
    "version": 3
   },
   "file_extension": ".py",
   "mimetype": "text/x-python",
   "name": "python",
   "nbconvert_exporter": "python",
   "pygments_lexer": "ipython3",
   "version": "3.7.7"
  }
 },
 "nbformat": 4,
 "nbformat_minor": 4
}

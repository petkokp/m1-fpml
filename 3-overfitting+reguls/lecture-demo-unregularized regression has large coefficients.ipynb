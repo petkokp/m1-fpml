{
 "cells": [
  {
   "cell_type": "code",
   "execution_count": 1,
   "metadata": {},
   "outputs": [],
   "source": [
    "import numpy as np\n",
    "# %matplotlib qt\n",
    "from mpl_toolkits.mplot3d import Axes3D\n",
    "import matplotlib.pyplot as plt\n",
    "import sklearn\n",
    "import sklearn.preprocessing\n",
    "import sklearn.linear_model"
   ]
  },
  {
   "cell_type": "code",
   "execution_count": 2,
   "metadata": {},
   "outputs": [],
   "source": [
    "np.random.seed(2)"
   ]
  },
  {
   "cell_type": "markdown",
   "metadata": {},
   "source": [
    "## Toy Data\n",
    "\n",
    "We create data with polynomial of order $P_{GT}$ + cosine + sine + noise\n",
    "\n",
    "The sine and cosine actually play very little role."
   ]
  },
  {
   "cell_type": "code",
   "execution_count": 3,
   "metadata": {},
   "outputs": [],
   "source": [
    "## make up some random polynomial coefficients\n",
    "def groundTruthPoly_coeffs(deg, D):\n",
    "    coeffs = np.random.random( (deg+1,D))-0.5\n",
    "    # coeffs[0,1] = 0\n",
    "    # coeffs[2,1] = 0\n",
    "    # coeffs[3,0] = 0    \n",
    "    for d in range(D):\n",
    "        coeffs[:,d] /= np.arange(1,deg+2)\n",
    "    return coeffs"
   ]
  },
  {
   "cell_type": "code",
   "execution_count": 4,
   "metadata": {},
   "outputs": [],
   "source": [
    "## make up a (noisy) y=f(X) ground truth relationship\n",
    "def groundTruthPoly(coeffs, X, noise):\n",
    "    N = X.shape[0]\n",
    "    y = np.zeros(N)\n",
    "    P = coeffs.shape[0]\n",
    "    for p in range(P):\n",
    "        y += np.dot(X**p,c[p])\n",
    "    y += np.sin(X[:,0]**2) +np.cos(X[:,0])  \n",
    "    y+= np.random.normal(0,noise, y.shape)\n",
    "    return y"
   ]
  },
  {
   "cell_type": "code",
   "execution_count": 5,
   "metadata": {},
   "outputs": [],
   "source": [
    "## simple case where visualization is possible: D=2\n",
    "D = 1\n",
    "np.random.seed(40)\n",
    "\n",
    "## ground truth \n",
    "PGT = 3 # degree of ground truth polynom\n",
    "c = groundTruthPoly_coeffs(PGT, D)\n",
    "\n",
    "## regularization: very small\n",
    "alpha = 0.0001"
   ]
  },
  {
   "cell_type": "markdown",
   "metadata": {},
   "source": [
    "## (Over)-fitting\n",
    "\n",
    "We use $N>P_{GT}$ data points, and then typically use a smaller polynomial order than number of points (otherwise there are multiple solutions)\n",
    "\n",
    "We have a lot of validation points, to get a robust estimate of the empirical validation error (or score)\n",
    "\n",
    "We use a polynomial model of order $P$, with $P_{GT} < P<N$, typically $P=N-1$"
   ]
  },
  {
   "cell_type": "code",
   "execution_count": 6,
   "metadata": {},
   "outputs": [],
   "source": [
    "N = 8\n",
    "P = N-2\n",
    "X = (np.random.random((N,D))-0.5)*50"
   ]
  },
  {
   "cell_type": "code",
   "execution_count": 7,
   "metadata": {},
   "outputs": [
    {
     "name": "stdout",
     "output_type": "stream",
     "text": [
      "NP_GT= 3 N= 8 Pmodel= 6 \n",
      "coeffs. summed= 6e+01 -7e+00 \n",
      "regul. coeffs.= 4e-06 -1e+00\n",
      "GT: [[-0.09231297]\n",
      " [-0.22231698]\n",
      " [ 0.09617829]\n",
      " [-0.0531737 ]] \n",
      "All the Regression coefficients: [ 0.00000000e+00 -4.77702976e+01  7.42068946e+00  5.06522774e-01\n",
      " -6.64122762e-02 -8.28071320e-04  9.33409207e-05] \n",
      "All the Ridge Regression coefficients: [ 0.00000000e+00 -5.18311007e-13 -9.66933720e-12 -2.65106077e-10\n",
      " -6.10081503e-09 -1.49282323e-07 -3.55782844e-06]\n"
     ]
    }
   ],
   "source": [
    "\n",
    "## train set   \n",
    "noise = 120\n",
    "y = groundTruthPoly(c, X, noise)\n",
    "\n",
    "## validation set\n",
    "Nval=500\n",
    "Xval = (np.random.random((Nval,D))-0.5)*50\n",
    "yval = groundTruthPoly(c, Xval, noise)\n",
    "\n",
    "## model (polynomial)\n",
    "polyFeatures = sklearn.preprocessing.PolynomialFeatures(P)\n",
    "polyFeatures.fit(X)\n",
    "Xt = polyFeatures.transform(X)\n",
    "Xt_val = polyFeatures.transform(Xval)\n",
    "\n",
    "reg = sklearn.linear_model.LinearRegression()\n",
    "reg.fit(Xt,y)\n",
    "\n",
    "ridgeReg = sklearn.linear_model.Ridge(alpha=alpha, solver='lsqr')\n",
    "ridgeReg.fit(Xt,y)\n",
    "\n",
    "print(\"NP_GT=\",PGT, \"N=\", N, \"Pmodel=\",P, \\\n",
    "       \"\\ncoeffs. summed=\",\"%.e\"%np.abs(reg.coef_).sum(), \"%.e\"%reg.score(Xt_val, yval) \\\n",
    "      ,\"\\nregul. coeffs.=\", \"%.e\"% np.abs(ridgeReg.coef_).sum(), \"%.e\"%ridgeReg.score(Xt_val, yval)) # , np.abs(reg.coef_)/c )\n",
    "\n",
    "\n",
    "print(\"GT:\", c ,\"\\nAll the Regression coefficients:\",reg.coef_, \"\\nAll the Ridge Regression coefficients:\", ridgeReg.coef_)\n"
   ]
  },
  {
   "cell_type": "markdown",
   "metadata": {},
   "source": [
    "### Remarks:\n",
    "\n",
    "The (sum of the abolsute) **values of the coefficients** found with the *normal (not regularized) regression* are **much much bigger** in absolute value than those found by *regularized regression* (called **Ridge Regression**, for the L2 regularization).\n",
    "\n",
    "\n",
    "### Plot\n",
    "We now plot :\n",
    "- the noiseless GT (not availble in real life !)\n",
    "- the polynomial regression (without regul.)\n",
    "- the polynomial regression (with regul.)\n",
    "- a cloud of validation points, to get an idea of the noise in the GT\n",
    "- the (few) training points, that were used to fit the model\n"
   ]
  },
  {
   "cell_type": "code",
   "execution_count": 8,
   "metadata": {
    "scrolled": true
   },
   "outputs": [
    {
     "data": {
      "image/png": "[encoded data removed]",
      "text/plain": [
       "<Figure size 432x288 with 1 Axes>"
      ]
     },
     "metadata": {
      "needs_background": "light"
     },
     "output_type": "display_data"
    }
   ],
   "source": [
    "plt.figure()\n",
    "prediction = reg.predict(polyFeatures.transform(Xval))\n",
    "prediction_regularized  = ridgeReg.predict(polyFeatures.transform(Xval))\n",
    "noiseless_GT = groundTruthPoly(c, Xval, 0 )\n",
    "arg = np.argsort(Xval[:,0])\n",
    "\n",
    "plt.scatter(Xval[:,0], yval, label=\"validation - noisy GT\", color=\"green\", s=1)\n",
    "plt.plot(Xval[:,0][arg], noiseless_GT[arg], ls=\"-\", label=\"noiseless GT\", lw=2, color=\"green\")\n",
    "plt.plot(Xval[:,0][arg], prediction[arg], lw=1,label=\"polynomial prediction\", color=\"red\")\n",
    "plt.plot(Xval[:,0][arg], prediction_regularized[arg], ls=\"--\", label=\"regul. prediction\", color=\"black\")\n",
    "plt.scatter(X[:,0], y, label=\"training - noisy GT\", marker='x',color= \"blue\", s=35)\n",
    "plt.legend()\n",
    "plt.ylim([-500,600])\n",
    "plt.xlim([X.min()-10, X.max()+10])\n",
    "plt.savefig(\"overfitting-large coeffs.svg\")"
   ]
  },
  {
   "cell_type": "markdown",
   "metadata": {},
   "source": [
    "### More playing around\n",
    "\n",
    "if we want to play around with $N, P$, we may enclose this in a function, and try many things"
   ]
  },
  {
   "cell_type": "code",
   "execution_count": 9,
   "metadata": {},
   "outputs": [],
   "source": [
    "\n",
    "def experiment(c, X, N, P, seed):\n",
    "    ## train set   \n",
    "    noise = 120\n",
    "    y = groundTruthPoly(c, X, noise)\n",
    "\n",
    "    ## validation set\n",
    "    Nval=150\n",
    "    Xval = (np.random.random((Nval,D))-0.5)*50\n",
    "    yval = groundTruthPoly(c, Xval, noise)\n",
    "\n",
    "    ## model (polynomial)\n",
    "    polyFeatures = sklearn.preprocessing.PolynomialFeatures(P)\n",
    "    polyFeatures.fit(X)\n",
    "    Xt = polyFeatures.transform(X)\n",
    "    Xt_val = polyFeatures.transform(Xval)\n",
    "\n",
    "    reg = sklearn.linear_model.LinearRegression()\n",
    "    reg.fit(Xt,y)\n",
    "    \n",
    "    ridgeReg = sklearn.linear_model.Ridge(alpha=alpha, solver='lsqr')\n",
    "    ridgeReg.fit(Xt,y)\n",
    "\n",
    "    print(\"NP_GT=\",PGT, \"N=\", N, \"Pmodel=\",P, \\\n",
    "       \"\\ncoeffs. summed=\",\"%.e\"%np.abs(reg.coef_).sum(), \"%.e\"%reg.score(Xt_val, yval) \\\n",
    "      ,\"\\nregul. coeffs.=\", \"%.e\"% np.abs(ridgeReg.coef_).sum(), \"%f\"%ridgeReg.score(Xt_val, yval)) # , np.abs(reg.coef_)/c )\n",
    "\n",
    "    return reg, ridgeReg"
   ]
  },
  {
   "cell_type": "code",
   "execution_count": 10,
   "metadata": {},
   "outputs": [
    {
     "data": {
      "text/plain": [
       "(8, 3)"
      ]
     },
     "execution_count": 10,
     "metadata": {},
     "output_type": "execute_result"
    }
   ],
   "source": [
    "N, PGT"
   ]
  },
  {
   "cell_type": "markdown",
   "metadata": {},
   "source": [
    "### Variance of results\n",
    "\n",
    "We repeat the same experiment (keeping the same $X$ inputs, but changing the realization of the noise in the true labels $y_{GT}$.\n",
    "\n",
    "Our observations are robust."
   ]
  },
  {
   "cell_type": "code",
   "execution_count": 11,
   "metadata": {
    "scrolled": true
   },
   "outputs": [
    {
     "name": "stdout",
     "output_type": "stream",
     "text": [
      "NP_GT= 3 N= 8 Pmodel= 6 \n",
      "coeffs. summed= 7e+01 -1e+04 \n",
      "regul. coeffs.= 5e-06 -1.371493\n",
      "\n",
      "NP_GT= 3 N= 8 Pmodel= 6 \n",
      "coeffs. summed= 8e+01 -5e+04 \n",
      "regul. coeffs.= 5e-06 -0.995081\n",
      "\n",
      "NP_GT= 3 N= 8 Pmodel= 6 \n",
      "coeffs. summed= 2e+01 -4e+03 \n",
      "regul. coeffs.= 3e-06 -0.917654\n",
      "\n",
      "NP_GT= 3 N= 8 Pmodel= 6 \n",
      "coeffs. summed= 6e+01 -1e+05 \n",
      "regul. coeffs.= 3e-06 -0.547860\n",
      "\n",
      "NP_GT= 3 N= 8 Pmodel= 6 \n",
      "coeffs. summed= 3e+01 -3e+04 \n",
      "regul. coeffs.= 5e-06 -1.391209\n",
      "\n",
      "NP_GT= 3 N= 8 Pmodel= 6 \n",
      "coeffs. summed= 5e+01 -2e+04 \n",
      "regul. coeffs.= 3e-06 -0.299219\n",
      "\n",
      "NP_GT= 3 N= 8 Pmodel= 6 \n",
      "coeffs. summed= 9e+01 -2e+05 \n",
      "regul. coeffs.= 4e-06 -0.502973\n",
      "\n",
      "NP_GT= 3 N= 8 Pmodel= 6 \n",
      "coeffs. summed= 3e+01 -5e+03 \n",
      "regul. coeffs.= 2e-06 -0.697136\n",
      "\n",
      "NP_GT= 3 N= 8 Pmodel= 6 \n",
      "coeffs. summed= 2e+01 -1e+03 \n",
      "regul. coeffs.= 4e-06 -0.349209\n",
      "\n",
      "NP_GT= 3 N= 8 Pmodel= 6 \n",
      "coeffs. summed= 4e+00 -3e+03 \n",
      "regul. coeffs.= 4e-06 -0.596634\n",
      "\n",
      "NP_GT= 3 N= 8 Pmodel= 6 \n",
      "coeffs. summed= 5e+01 -2e+03 \n",
      "regul. coeffs.= 4e-06 -0.496112\n",
      "\n",
      "NP_GT= 3 N= 8 Pmodel= 6 \n",
      "coeffs. summed= 4e+01 -9e+04 \n",
      "regul. coeffs.= 4e-06 -1.164834\n",
      "\n",
      "NP_GT= 3 N= 8 Pmodel= 6 \n",
      "coeffs. summed= 1e+01 -2e+01 \n",
      "regul. coeffs.= 3e-06 -0.171900\n",
      "\n",
      "NP_GT= 3 N= 8 Pmodel= 6 \n",
      "coeffs. summed= 3e+01 -9e+01 \n",
      "regul. coeffs.= 3e-06 -0.220523\n",
      "\n",
      "NP_GT= 3 N= 8 Pmodel= 6 \n",
      "coeffs. summed= 5e+01 -2e+04 \n",
      "regul. coeffs.= 3e-06 -0.414302\n",
      "\n",
      "NP_GT= 3 N= 8 Pmodel= 6 \n",
      "coeffs. summed= 4e+01 -2e+04 \n",
      "regul. coeffs.= 4e-06 -0.429262\n",
      "\n",
      "NP_GT= 3 N= 8 Pmodel= 6 \n",
      "coeffs. summed= 1e+01 -1e+02 \n",
      "regul. coeffs.= 4e-06 -0.692496\n",
      "\n",
      "NP_GT= 3 N= 8 Pmodel= 6 \n",
      "coeffs. summed= 1e+01 -1e+04 \n",
      "regul. coeffs.= 3e-06 -0.306524\n",
      "\n",
      "NP_GT= 3 N= 8 Pmodel= 6 \n",
      "coeffs. summed= 2e+01 7e-01 \n",
      "regul. coeffs.= 5e-06 -0.973667\n",
      "\n"
     ]
    }
   ],
   "source": [
    "# for N in range(2,PGT+6):\n",
    "N = PGT+5\n",
    "\n",
    "# for P in range(N-2,N+2):\n",
    "P=N-2\n",
    "\n",
    "seed=40\n",
    "for seed in range(1,20):\n",
    "    reg, ridgeReg = experiment(c, X, N, P, seed)\n",
    "    print()"
   ]
  },
  {
   "cell_type": "markdown",
   "metadata": {},
   "source": [
    "### Variations with model complexity $P$\n",
    "\n",
    "We now vary the order of the model, $P$."
   ]
  },
  {
   "cell_type": "code",
   "execution_count": 12,
   "metadata": {},
   "outputs": [
    {
     "name": "stdout",
     "output_type": "stream",
     "text": [
      "NP_GT= 3 N= 8 Pmodel= 4 \n",
      "coeffs. summed= 5e+00 -6e+00 \n",
      "regul. coeffs.= 1e-01 -2.990463\n",
      "\n",
      "NP_GT= 3 N= 8 Pmodel= 5 \n",
      "coeffs. summed= 5e+01 -5e+02 \n",
      "regul. coeffs.= 1e-02 -32.064456\n",
      "\n",
      "NP_GT= 3 N= 8 Pmodel= 6 \n",
      "coeffs. summed= 5e+01 -4e+03 \n",
      "regul. coeffs.= 4e-06 -0.692559\n",
      "\n",
      "NP_GT= 3 N= 8 Pmodel= 7 \n",
      "coeffs. summed= 1e+02 -2e+07 \n",
      "regul. coeffs.= 2e-07 0.652645\n",
      "\n",
      "NP_GT= 3 N= 8 Pmodel= 8 \n",
      "coeffs. summed= 4e+01 -5e+04 \n",
      "regul. coeffs.= 6e-09 -0.591084\n",
      "\n",
      "NP_GT= 3 N= 8 Pmodel= 9 \n",
      "coeffs. summed= 3e+00 -3e+08 \n",
      "regul. coeffs.= 3e-10 0.717294\n",
      "\n",
      "NP_GT= 3 N= 8 Pmodel= 10 \n",
      "coeffs. summed= 2e+00 -2e+10 \n",
      "regul. coeffs.= 2e-11 -1.218867\n",
      "\n",
      "NP_GT= 3 N= 8 Pmodel= 11 \n",
      "coeffs. summed= 1e-01 -7e+11 \n",
      "regul. coeffs.= 5e-13 0.584686\n",
      "\n"
     ]
    }
   ],
   "source": [
    "# for N in range(2,PGT+6):\n",
    "N = PGT+5\n",
    "\n",
    "for P in range(N-4,N+4):\n",
    "\n",
    "    seed=40\n",
    "    for seed in range(1,2):\n",
    "        reg, ridgeReg = experiment(c, X, N, P, seed)\n",
    "    print()"
   ]
  },
  {
   "cell_type": "markdown",
   "metadata": {},
   "source": [
    "## Observations:\n",
    "\n",
    "- for small order $P$, $P \\ll N$, the score is not too bad (still, the regularized model performs better than the non-regularized one). The value of coefficients is not too crazy (and not too much different between regul and un-regularized models, although still different by a factor of 100)\n",
    "- in the non-regularized model, for very large orders $P\\gg N$, the score is **very bad**. However, the value of the coefficients is again not so big ! **So, reality is not as simple as what we said initially** (when we said that \"overfitting ≃ large weights\").\n",
    "-  in the regularized model, for very large orders $P\\gg N$, the score is ok-ish. It's better for odd values of $P$. The value of the coefficients decreases with increasing order. This has to do with the fact that the  output, $y=\\vec w .\\vec \\Phi(x)$, increases a lot with a small increase in $w_P$, when it's multiplied with $x^P$."
   ]
  },
  {
   "cell_type": "code",
   "execution_count": null,
   "metadata": {},
   "outputs": [],
   "source": []
  }
 ],
 "metadata": {
  "kernelspec": {
   "display_name": "Python 3 (ipykernel)",
   "language": "python",
   "name": "python3"
  },
  "language_info": {
   "codemirror_mode": {
    "name": "ipython",
    "version": 3
   },
   "file_extension": ".py",
   "mimetype": "text/x-python",
   "name": "python",
   "nbconvert_exporter": "python",
   "pygments_lexer": "ipython3",
   "version": "3.11.0"
  }
 },
 "nbformat": 4,
 "nbformat_minor": 4
}

{
 "cells": [
  {
   "cell_type": "markdown",
   "metadata": {},
   "source": [
    "# Linear Regression using Gradient Descent\n",
    "\n",
    "We want to solve linear regression using Gradient Descent"
   ]
  },
  {
   "cell_type": "code",
   "execution_count": 1,
   "metadata": {},
   "outputs": [
    {
     "data": {
      "text/plain": [
       "<contextlib.ExitStack at 0x7ff0c5b72110>"
      ]
     },
     "execution_count": 1,
     "metadata": {},
     "output_type": "execute_result"
    }
   ],
   "source": [
    "import numpy as np\n",
    "import matplotlib.pyplot as plt\n",
    "import matplotlib.cm as cm\n",
    "plt.ion()"
   ]
  },
  {
   "cell_type": "markdown",
   "metadata": {},
   "source": [
    "# Part 0: getting the data"
   ]
  },
  {
   "cell_type": "markdown",
   "metadata": {},
   "source": [
    "**Remark about the data**: here, we work with a **toy example** where the data is generated from a linear relationship + some noise. So, we can actually read the true value of the coefficients. \n",
    "\n",
    "But of course, **in real life, you do not have access** to the true model which generated the data, and certainly not access to its parameters either !"
   ]
  },
  {
   "cell_type": "markdown",
   "metadata": {},
   "source": [
    "#### We help you create the data"
   ]
  },
  {
   "cell_type": "code",
   "execution_count": 2,
   "metadata": {},
   "outputs": [],
   "source": [
    "def createData(N,theta0,theta1,sigmaNoise): \n",
    "    Xrange = 10\n",
    "    D = 1\n",
    "    ## x are random\n",
    "    X = np.random.random((N,D))*Xrange   \n",
    "    ## the \"y\" (ordinates axis) are y=a.x+b + noise\n",
    "    noise = np.random.normal(0,sigmaNoise, (N,D))\n",
    "    y = theta0 + theta1*X + noise   # not available in real life\n",
    "\n",
    "    # for your numpy education, here is another method to create the data:\n",
    "    theta = np.array([theta0, theta1]).reshape((2,1))\n",
    "    Xaugmented = np.hstack((np.ones((N,1)) , X )) # this 1 is really a 1, not a D !\n",
    "    y2 = (Xaugmented @ theta) + noise\n",
    "    \n",
    "    print(\"difference in the 2 methods:\",  (abs(y-y2)).sum()  ) # we then check that this prints ~0\n",
    "    \n",
    "    return X, y"
   ]
  },
  {
   "cell_type": "code",
   "execution_count": 3,
   "metadata": {},
   "outputs": [
    {
     "name": "stdout",
     "output_type": "stream",
     "text": [
      "difference in the 2 methods: 0.0\n",
      "difference in the 2 methods: 0.0\n"
     ]
    }
   ],
   "source": [
    "######### data creation #########\n",
    "seed=42\n",
    "np.random.seed(seed)\n",
    "N=100\n",
    "theta0=1.1                                                         # not available in real life\n",
    "theta1=0.5                                                         # not available in real life\n",
    "sigmaNoise = 0.5                                                   # not available in real life\n",
    "X, y = createData(N,theta0,theta1,sigmaNoise) ## training data \n",
    "Ntest=N//2\n",
    "Xtest, ytest = createData(Ntest,theta0,theta1,sigmaNoise) ## test data"
   ]
  },
  {
   "cell_type": "code",
   "execution_count": 4,
   "metadata": {
    "scrolled": true
   },
   "outputs": [
    {
     "data": {
      "text/plain": [
       "<matplotlib.legend.Legend at 0x7ff09a3ba890>"
      ]
     },
     "execution_count": 4,
     "metadata": {},
     "output_type": "execute_result"
    },
    {
     "data": {
      "image/png": "[encoded data removed]",
      "text/plain": [
       "<Figure size 640x480 with 1 Axes>"
      ]
     },
     "metadata": {},
     "output_type": "display_data"
    }
   ],
   "source": [
    "####### data visualization ###########\n",
    "plt.figure()\n",
    "plt.scatter(X,y, label=\"train\", marker='x',color='k')\n",
    "plt.scatter(Xtest,ytest, label= \"test\", marker='x',color='red')\n",
    "plt.legend()"
   ]
  },
  {
   "cell_type": "markdown",
   "metadata": {},
   "source": [
    "# Part 1: handcrafted model\n",
    "\n",
    "## 1. Model defintion, initalization\n",
    "\n",
    "- create a model, i.e. a function $f_\\Theta(x)$\n",
    "- choose hyper-parameters `eta`, `MaxIter`, and set the dimension of data `D` appropriately (if you have no idea, put a stupid thing to start, you'll make it better later. Ask around, also ! This is not very important for now).\n",
    "- make a stupid or random guess for an initial value of the parameters vector `theta`, i.e. for `thetaInitial`"
   ]
  },
  {
   "cell_type": "code",
   "execution_count": 10,
   "metadata": {},
   "outputs": [],
   "source": [
    "\n",
    "theta = np.array([0.1,0.3])"
   ]
  },
  {
   "cell_type": "code",
   "execution_count": 11,
   "metadata": {},
   "outputs": [
    {
     "data": {
      "text/plain": [
       "((100, 1), (2,))"
      ]
     },
     "execution_count": 11,
     "metadata": {},
     "output_type": "execute_result"
    }
   ],
   "source": [
    "X.shape, theta.shape"
   ]
  },
  {
   "cell_type": "code",
   "execution_count": 13,
   "metadata": {},
   "outputs": [],
   "source": [
    "D=1\n",
    "# we add ones where we need them\n",
    "Xa        = np.hstack((np.ones((N,1))    , X))\n",
    "Xtest_aug = np.hstack((np.ones((Ntest,1)), Xtest))\n",
    "theta_aug = thetaInitial.reshape(D+1,1)"
   ]
  },
  {
   "cell_type": "code",
   "execution_count": 16,
   "metadata": {},
   "outputs": [
    {
     "data": {
      "text/plain": [
       "((100, 2), (2,))"
      ]
     },
     "execution_count": 16,
     "metadata": {},
     "output_type": "execute_result"
    }
   ],
   "source": [
    "Xa.shape, theta.shape"
   ]
  },
  {
   "cell_type": "code",
   "execution_count": 17,
   "metadata": {},
   "outputs": [],
   "source": [
    "X=Xa"
   ]
  },
  {
   "cell_type": "code",
   "execution_count": 19,
   "metadata": {},
   "outputs": [
    {
     "data": {
      "text/plain": [
       "(100,)"
      ]
     },
     "execution_count": 19,
     "metadata": {},
     "output_type": "execute_result"
    }
   ],
   "source": [
    "(X@theta).shape"
   ]
  },
  {
   "cell_type": "code",
   "execution_count": 20,
   "metadata": {},
   "outputs": [],
   "source": [
    "### the model ###\n",
    "def model(X, theta):\n",
    "    return X @ theta\n",
    "## it's only 1-2 lines..."
   ]
  },
  {
   "cell_type": "code",
   "execution_count": 22,
   "metadata": {},
   "outputs": [],
   "source": [
    "# model(X, theta)"
   ]
  },
  {
   "cell_type": "code",
   "execution_count": 23,
   "metadata": {},
   "outputs": [],
   "source": [
    "#### hyper-parameters #####\n",
    "eta = 0.00001\n",
    "MaxIter = 10\n",
    "D = 2"
   ]
  },
  {
   "cell_type": "code",
   "execution_count": 24,
   "metadata": {},
   "outputs": [],
   "source": [
    "## initialization (in a sense, a hyper-parameter)\n",
    "thetaInitial = np.array([0.1,0.2])"
   ]
  },
  {
   "cell_type": "code",
   "execution_count": 6,
   "metadata": {},
   "outputs": [
    {
     "ename": "NameError",
     "evalue": "name 'thetaInitial' is not defined",
     "output_type": "error",
     "traceback": [
      "\u001b[0;31m---------------------------------------------------------------------------\u001b[0m",
      "\u001b[0;31mNameError\u001b[0m                                 Traceback (most recent call last)",
      "Cell \u001b[0;32mIn[6], line 4\u001b[0m\n\u001b[1;32m      2\u001b[0m Xa        \u001b[38;5;241m=\u001b[39m np\u001b[38;5;241m.\u001b[39mhstack((np\u001b[38;5;241m.\u001b[39mones((N,\u001b[38;5;241m1\u001b[39m))    , X))\n\u001b[1;32m      3\u001b[0m Xtest_aug \u001b[38;5;241m=\u001b[39m np\u001b[38;5;241m.\u001b[39mhstack((np\u001b[38;5;241m.\u001b[39mones((Ntest,\u001b[38;5;241m1\u001b[39m)), Xtest))\n\u001b[0;32m----> 4\u001b[0m theta_aug \u001b[38;5;241m=\u001b[39m \u001b[43mthetaInitial\u001b[49m\u001b[38;5;241m.\u001b[39mreshape(D\u001b[38;5;241m+\u001b[39m\u001b[38;5;241m1\u001b[39m,\u001b[38;5;241m1\u001b[39m)\n",
      "\u001b[0;31mNameError\u001b[0m: name 'thetaInitial' is not defined"
     ]
    }
   ],
   "source": [
    "# we add ones where we need them\n",
    "Xa        = np.hstack((np.ones((N,1))    , X))\n",
    "Xtest_aug = np.hstack((np.ones((Ntest,1)), Xtest))\n",
    "theta_aug = thetaInitial.reshape(D+1,1)"
   ]
  },
  {
   "cell_type": "markdown",
   "metadata": {},
   "source": [
    "### Remark about the auxiliary ones trick:\n",
    "\n",
    "If you prefer to write things using the trick of augmented X, to use more matrix operations, \n",
    "- you're right !\n",
    "- go see the d-dimensional case, where the data X is defined with its augmented component (filled with ones)\n",
    "\n",
    "But if you prefer not to, for now, it's ok."
   ]
  },
  {
   "cell_type": "markdown",
   "metadata": {},
   "source": [
    "## 2. Update rule\n",
    "\n",
    "### Now the crucial part \n",
    "\n",
    "- **take a piece of paper and a pencil, and derive the update rule for your function $f_\\Theta(x)$**, according to the method of Grandient Descent. Really do it on paper, not on the computer !!\n",
    "Use the Mean Squared Error Loss.\n",
    "\n",
    "### Now to code it\n",
    "\n",
    "- implement a function `fit(model, eta, MaxIter, D, theta, X, y)` that will update the parameters according to gradient descent\n",
    "- run it !\n",
    "- add a recording of train and test error to your fit function, so as to keep track of train and test error at all iterations of the algorithm"
   ]
  },
  {
   "cell_type": "code",
   "execution_count": 30,
   "metadata": {},
   "outputs": [
    {
     "data": {
      "text/plain": [
       "(100,)"
      ]
     },
     "execution_count": 30,
     "metadata": {},
     "output_type": "execute_result"
    }
   ],
   "source": [
    "model(X,theta).shape"
   ]
  },
  {
   "cell_type": "code",
   "execution_count": 32,
   "metadata": {},
   "outputs": [
    {
     "data": {
      "text/plain": [
       "(100,)"
      ]
     },
     "execution_count": 32,
     "metadata": {},
     "output_type": "execute_result"
    }
   ],
   "source": [
    "(y.reshape(N)).shape"
   ]
  },
  {
   "cell_type": "code",
   "execution_count": 33,
   "metadata": {
    "scrolled": true
   },
   "outputs": [
    {
     "data": {
      "text/plain": [
       "(100,)"
      ]
     },
     "execution_count": 33,
     "metadata": {},
     "output_type": "execute_result"
    }
   ],
   "source": [
    "(model(X,theta) - y.reshape(N)).shape"
   ]
  },
  {
   "cell_type": "code",
   "execution_count": 39,
   "metadata": {},
   "outputs": [
    {
     "data": {
      "text/plain": [
       "(100, 2)"
      ]
     },
     "execution_count": 39,
     "metadata": {},
     "output_type": "execute_result"
    }
   ],
   "source": [
    "((model(X,theta).reshape(N,1) - y)*X ).shape"
   ]
  },
  {
   "cell_type": "code",
   "execution_count": 41,
   "metadata": {},
   "outputs": [
    {
     "data": {
      "text/plain": [
       "array([ -1.93982131, -10.6715502 ])"
      ]
     },
     "execution_count": 41,
     "metadata": {},
     "output_type": "execute_result"
    }
   ],
   "source": [
    "np.mean(((model(X,theta).reshape(N,1) - y)*X ), axis=0)"
   ]
  },
  {
   "cell_type": "code",
   "execution_count": 45,
   "metadata": {},
   "outputs": [
    {
     "data": {
      "text/plain": [
       "array([ -1.93982131, -10.6715502 ])"
      ]
     },
     "execution_count": 45,
     "metadata": {},
     "output_type": "execute_result"
    }
   ],
   "source": [
    "2*((model(X,theta) - y.reshape(N)) @ X)/N"
   ]
  },
  {
   "cell_type": "code",
   "execution_count": 48,
   "metadata": {},
   "outputs": [
    {
     "data": {
      "text/plain": [
       "array([0.1, 0.3])"
      ]
     },
     "execution_count": 48,
     "metadata": {},
     "output_type": "execute_result"
    }
   ],
   "source": [
    "theta"
   ]
  },
  {
   "cell_type": "code",
   "execution_count": 49,
   "metadata": {},
   "outputs": [],
   "source": [
    "def fit(model, eta, MaxIter, D, theta0, X, y):\n",
    "    ## note : D is actually useless !\n",
    "    print(theta0)\n",
    "    theta = theta0.copy()\n",
    "    for iteration in range(MaxIter):\n",
    "        theta -= eta* 2*((model(X,theta) - y.reshape(N)) @ X)/N\n",
    "        \n",
    "    return theta"
   ]
  },
  {
   "cell_type": "code",
   "execution_count": 59,
   "metadata": {},
   "outputs": [],
   "source": [
    "#### hyper-parameters #####\n",
    "eta = 0.01\n",
    "MaxIter = 100\n",
    "D = 2"
   ]
  },
  {
   "cell_type": "code",
   "execution_count": 60,
   "metadata": {},
   "outputs": [
    {
     "name": "stdout",
     "output_type": "stream",
     "text": [
      "[0.10077198 0.30424299]\n"
     ]
    },
    {
     "data": {
      "text/plain": [
       "array([0.60247524, 0.57001001])"
      ]
     },
     "execution_count": 60,
     "metadata": {},
     "output_type": "execute_result"
    }
   ],
   "source": [
    "## run the fit function here\n",
    "theta = fit(model, eta, MaxIter, D, theta, X, y)\n",
    "theta"
   ]
  },
  {
   "cell_type": "markdown",
   "metadata": {},
   "source": [
    "## 3. Training the model, testing the trained model"
   ]
  },
  {
   "cell_type": "markdown",
   "metadata": {},
   "source": [
    "### Follow the results \n",
    "\n",
    "- plot the data (train and test), the initial guess, and the final model (all 4 things on a single graph).\n",
    "- on a separate plot, show the *training error* and *test errror* evolution over the iterations (epochs)"
   ]
  },
  {
   "cell_type": "code",
   "execution_count": 61,
   "metadata": {},
   "outputs": [
    {
     "data": {
      "text/plain": [
       "<matplotlib.legend.Legend at 0x7ff099a64d10>"
      ]
     },
     "execution_count": 61,
     "metadata": {},
     "output_type": "execute_result"
    },
    {
     "data": {
      "image/png": "[encoded data removed]",
      "text/plain": [
       "<Figure size 640x480 with 1 Axes>"
      ]
     },
     "metadata": {},
     "output_type": "display_data"
    }
   ],
   "source": [
    "## plot the data, the noiseless-teacher, the model that was learned\n",
    "plt.figure(1)\n",
    "plt.scatter(X[:,1],y, label=\"train\", marker='x',color='k')\n",
    "plt.scatter(Xtest[:],ytest, label= \"test\", marker='x',color='red')\n",
    "plt.scatter(X[:,1],model(X,theta), label=\"train\", marker='x',color='k')\n",
    "\n",
    "plt.legend()"
   ]
  },
  {
   "cell_type": "code",
   "execution_count": 62,
   "metadata": {},
   "outputs": [
    {
     "ename": "SyntaxError",
     "evalue": "invalid syntax (1116277557.py, line 4)",
     "output_type": "error",
     "traceback": [
      "\u001b[0;36m  Cell \u001b[0;32mIn[62], line 4\u001b[0;36m\u001b[0m\n\u001b[0;31m    plt.loglog(epochs, ??, label='train error')\u001b[0m\n\u001b[0m                       ^\u001b[0m\n\u001b[0;31mSyntaxError\u001b[0m\u001b[0;31m:\u001b[0m invalid syntax\n"
     ]
    }
   ],
   "source": [
    "## follow the evolution of train and test accuracy or error\n",
    "epochs = np.arange(MaxIter)\n",
    "plt.figure(2)\n",
    "plt.loglog(epochs, ??, label='train error')\n",
    "plt.loglog(epochs, ??, label='test error')\n",
    "plt.legend()"
   ]
  },
  {
   "cell_type": "markdown",
   "metadata": {},
   "source": [
    "# Part 2: sklearn solution\n",
    "\n",
    "## Comparing with the sklearn implementation"
   ]
  },
  {
   "cell_type": "markdown",
   "metadata": {},
   "source": [
    "We can now cheat using `sklearn`, to check wether our results are consistent with it (they will often be *slightly*  different!)"
   ]
  },
  {
   "cell_type": "code",
   "execution_count": null,
   "metadata": {},
   "outputs": [],
   "source": [
    "## check these lines at home   ##\n",
    "import sklearn\n",
    "from sklearn import datasets\n",
    "\n",
    "from sklearn.linear_model import LinearRegression\n",
    "reg_sklearn_object = sklearn.linear_model.LinearRegression(fit_intercept=True, normalize=False, copy_X=True, n_jobs=None)\n",
    "Xreshaped = X.reshape((N,1))\n",
    "reg_sklearn_object.fit(Xreshaped,y)\n",
    "print(\"coeffs fitted by sklearn: \", reg_sklearn_object.coef_, reg_sklearn_object.intercept_)\n",
    "\n",
    "Xtest_resh = Xtest.reshape((Ntest,1))\n",
    "print(reg_sklearn_object.score(Xreshaped, y))\n",
    "print(reg_sklearn_object.score(Xtest_resh, ytest))"
   ]
  },
  {
   "cell_type": "code",
   "execution_count": null,
   "metadata": {},
   "outputs": [],
   "source": [
    "theta_sklearn = np.array([reg_sklearn_object.intercept_, reg_sklearn_object.coef_[0]])"
   ]
  },
  {
   "cell_type": "code",
   "execution_count": null,
   "metadata": {},
   "outputs": [],
   "source": [
    "## plot the data, the noiseless-teacher, the model that was learned\n",
    "plt.figure(1)\n",
    "plt.scatter(X,y, label=\"train\", marker='x',color='k')\n",
    "plt.scatter(Xtest,ytest, label= \"test\", marker='x',color='red')\n",
    "plt.plot(X, model(theta_sklearn,X), color='teal')\n",
    "plt.legend()"
   ]
  },
  {
   "cell_type": "markdown",
   "metadata": {},
   "source": [
    "### Homework: read and understand well each line in the sklearn piece of code"
   ]
  },
  {
   "cell_type": "code",
   "execution_count": null,
   "metadata": {},
   "outputs": [],
   "source": []
  },
  {
   "cell_type": "markdown",
   "metadata": {},
   "source": [
    "# Part 3:  the augmented X trick:\n",
    "\n",
    "### Warning:\n",
    "\n",
    "Make sure to complete the pen-and-paper exercise 1.1.2 of \"Regressions.pdf\" before trying to do this !"
   ]
  },
  {
   "cell_type": "code",
   "execution_count": null,
   "metadata": {},
   "outputs": [],
   "source": [
    "# we add ones where we need them\n",
    "Xa        = np.hstack((np.ones((N,1))    , X))\n",
    "Xtest_aug = np.hstack((np.ones((Ntest,1)), Xtest))\n",
    "theta_aug = thetaInitial.reshape(D+1,1)"
   ]
  },
  {
   "cell_type": "code",
   "execution_count": null,
   "metadata": {},
   "outputs": [],
   "source": [
    "# we add ones where we need them\n",
    "Xa        = np.hstack((np.ones((N,1))    , X))\n",
    "Xtest_aug = np.hstack((np.ones((Ntest,1)), Xtest))\n",
    "theta_aug = thetaInitial.reshape(D+1,1)"
   ]
  },
  {
   "cell_type": "code",
   "execution_count": null,
   "metadata": {},
   "outputs": [],
   "source": [
    "def model2(X, theta):\n",
    "    return X@theta"
   ]
  },
  {
   "cell_type": "code",
   "execution_count": null,
   "metadata": {},
   "outputs": [],
   "source": [
    "def fit_augmented(model, eta, MaxIter, D, theta, X, y, Xtest, ytest):\n",
    "    \n",
    "    ???\n",
    "    \n",
    "    return theta, trainError, testError"
   ]
  },
  {
   "cell_type": "code",
   "execution_count": null,
   "metadata": {},
   "outputs": [],
   "source": [
    "theta, trainError, testError = fit_augmented(model2, eta, MaxIter, D, theta_aug, Xa, y, Xtest_aug, ytest)"
   ]
  },
  {
   "cell_type": "code",
   "execution_count": null,
   "metadata": {},
   "outputs": [],
   "source": [
    "theta"
   ]
  },
  {
   "cell_type": "code",
   "execution_count": null,
   "metadata": {},
   "outputs": [],
   "source": []
  },
  {
   "cell_type": "markdown",
   "metadata": {},
   "source": [
    "---------------- \n",
    "# (optional) $d$-dimensional input\n",
    "\n",
    "### This is Optional Homework\n",
    "\n",
    "-> See TP1.2 for some help to start on this"
   ]
  },
  {
   "cell_type": "code",
   "execution_count": null,
   "metadata": {},
   "outputs": [],
   "source": []
  },
  {
   "cell_type": "markdown",
   "metadata": {},
   "source": [
    "---------------- \n",
    "# (optional) Polynomial regression\n",
    "\n",
    "### Optional Homework: do the same, but using a 3-rd order polynomial (in data generation, and in your model) \n",
    "\n",
    "(advice: keep a $D=1$ input)\n",
    "\n",
    "-> See TP1.3 for some help to start on this\n",
    "\n",
    "-> We'll see a smarter trick to do that (aka Kernels/feature maps) later in the course."
   ]
  },
  {
   "cell_type": "code",
   "execution_count": null,
   "metadata": {},
   "outputs": [],
   "source": []
  }
 ],
 "metadata": {
  "kernelspec": {
   "display_name": "Python 3 (ipykernel)",
   "language": "python",
   "name": "python3"
  },
  "language_info": {
   "codemirror_mode": {
    "name": "ipython",
    "version": 3
   },
   "file_extension": ".py",
   "mimetype": "text/x-python",
   "name": "python",
   "nbconvert_exporter": "python",
   "pygments_lexer": "ipython3",
   "version": "3.11.0"
  },
  "widgets": {
   "application/vnd.jupyter.widget-state+json": {
    "state": {},
    "version_major": 2,
    "version_minor": 0
   }
  }
 },
 "nbformat": 4,
 "nbformat_minor": 4
}
